{
 "cells": [
  {
   "cell_type": "raw",
   "id": "a4fec3b9-77e1-42cb-8948-aec481d5132a",
   "metadata": {},
   "source": [
    "Task2:Unemployment Analysis with Python\n",
    "Name:Gajabinkar Saivenkat\n",
    "Domain:Datascience\n",
    "Aim:To check the unemployement percentage of the total labour force during Covid-19."
   ]
  },
  {
   "cell_type": "code",
   "execution_count": 1,
   "id": "df4817a6-1ff1-4ff7-a44f-726f10dcdf42",
   "metadata": {},
   "outputs": [],
   "source": [
    "import numpy as np\n",
    "import pandas as pd\n",
    "import warnings\n",
    "import matplotlib.pyplot as plt\n",
    "import seaborn as sns\n",
    "import datetime as dt"
   ]
  },
  {
   "cell_type": "code",
   "execution_count": 2,
   "id": "4256e4be-fe8d-47d3-870f-81b17c926e3a",
   "metadata": {},
   "outputs": [],
   "source": [
    "warnings.filterwarnings(\"ignore\")"
   ]
  },
  {
   "cell_type": "code",
   "execution_count": 3,
   "id": "965ca0c1-a6dd-446d-a4d3-8a0197cde83c",
   "metadata": {},
   "outputs": [],
   "source": [
    "data=pd.read_csv(r\"C:\\Users\\saive\\Downloads\\Unemployment in India.csv\")"
   ]
  },
  {
   "cell_type": "code",
   "execution_count": 4,
   "id": "2620a05a-43ab-46c2-a1f6-d2e1ad083a9e",
   "metadata": {},
   "outputs": [
    {
     "data": {
      "text/html": [
       "<div>\n",
       "<style scoped>\n",
       "    .dataframe tbody tr th:only-of-type {\n",
       "        vertical-align: middle;\n",
       "    }\n",
       "\n",
       "    .dataframe tbody tr th {\n",
       "        vertical-align: top;\n",
       "    }\n",
       "\n",
       "    .dataframe thead th {\n",
       "        text-align: right;\n",
       "    }\n",
       "</style>\n",
       "<table border=\"1\" class=\"dataframe\">\n",
       "  <thead>\n",
       "    <tr style=\"text-align: right;\">\n",
       "      <th></th>\n",
       "      <th>Region</th>\n",
       "      <th>Date</th>\n",
       "      <th>Frequency</th>\n",
       "      <th>Estimated Unemployment Rate (%)</th>\n",
       "      <th>Estimated Employed</th>\n",
       "      <th>Estimated Labour Participation Rate (%)</th>\n",
       "      <th>Area</th>\n",
       "    </tr>\n",
       "  </thead>\n",
       "  <tbody>\n",
       "    <tr>\n",
       "      <th>0</th>\n",
       "      <td>Andhra Pradesh</td>\n",
       "      <td>31-05-2019</td>\n",
       "      <td>Monthly</td>\n",
       "      <td>3.65</td>\n",
       "      <td>11999139.0</td>\n",
       "      <td>43.24</td>\n",
       "      <td>Rural</td>\n",
       "    </tr>\n",
       "    <tr>\n",
       "      <th>1</th>\n",
       "      <td>Andhra Pradesh</td>\n",
       "      <td>30-06-2019</td>\n",
       "      <td>Monthly</td>\n",
       "      <td>3.05</td>\n",
       "      <td>11755881.0</td>\n",
       "      <td>42.05</td>\n",
       "      <td>Rural</td>\n",
       "    </tr>\n",
       "    <tr>\n",
       "      <th>2</th>\n",
       "      <td>Andhra Pradesh</td>\n",
       "      <td>31-07-2019</td>\n",
       "      <td>Monthly</td>\n",
       "      <td>3.75</td>\n",
       "      <td>12086707.0</td>\n",
       "      <td>43.50</td>\n",
       "      <td>Rural</td>\n",
       "    </tr>\n",
       "    <tr>\n",
       "      <th>3</th>\n",
       "      <td>Andhra Pradesh</td>\n",
       "      <td>31-08-2019</td>\n",
       "      <td>Monthly</td>\n",
       "      <td>3.32</td>\n",
       "      <td>12285693.0</td>\n",
       "      <td>43.97</td>\n",
       "      <td>Rural</td>\n",
       "    </tr>\n",
       "    <tr>\n",
       "      <th>4</th>\n",
       "      <td>Andhra Pradesh</td>\n",
       "      <td>30-09-2019</td>\n",
       "      <td>Monthly</td>\n",
       "      <td>5.17</td>\n",
       "      <td>12256762.0</td>\n",
       "      <td>44.68</td>\n",
       "      <td>Rural</td>\n",
       "    </tr>\n",
       "    <tr>\n",
       "      <th>...</th>\n",
       "      <td>...</td>\n",
       "      <td>...</td>\n",
       "      <td>...</td>\n",
       "      <td>...</td>\n",
       "      <td>...</td>\n",
       "      <td>...</td>\n",
       "      <td>...</td>\n",
       "    </tr>\n",
       "    <tr>\n",
       "      <th>763</th>\n",
       "      <td>NaN</td>\n",
       "      <td>NaN</td>\n",
       "      <td>NaN</td>\n",
       "      <td>NaN</td>\n",
       "      <td>NaN</td>\n",
       "      <td>NaN</td>\n",
       "      <td>NaN</td>\n",
       "    </tr>\n",
       "    <tr>\n",
       "      <th>764</th>\n",
       "      <td>NaN</td>\n",
       "      <td>NaN</td>\n",
       "      <td>NaN</td>\n",
       "      <td>NaN</td>\n",
       "      <td>NaN</td>\n",
       "      <td>NaN</td>\n",
       "      <td>NaN</td>\n",
       "    </tr>\n",
       "    <tr>\n",
       "      <th>765</th>\n",
       "      <td>NaN</td>\n",
       "      <td>NaN</td>\n",
       "      <td>NaN</td>\n",
       "      <td>NaN</td>\n",
       "      <td>NaN</td>\n",
       "      <td>NaN</td>\n",
       "      <td>NaN</td>\n",
       "    </tr>\n",
       "    <tr>\n",
       "      <th>766</th>\n",
       "      <td>NaN</td>\n",
       "      <td>NaN</td>\n",
       "      <td>NaN</td>\n",
       "      <td>NaN</td>\n",
       "      <td>NaN</td>\n",
       "      <td>NaN</td>\n",
       "      <td>NaN</td>\n",
       "    </tr>\n",
       "    <tr>\n",
       "      <th>767</th>\n",
       "      <td>NaN</td>\n",
       "      <td>NaN</td>\n",
       "      <td>NaN</td>\n",
       "      <td>NaN</td>\n",
       "      <td>NaN</td>\n",
       "      <td>NaN</td>\n",
       "      <td>NaN</td>\n",
       "    </tr>\n",
       "  </tbody>\n",
       "</table>\n",
       "<p>768 rows × 7 columns</p>\n",
       "</div>"
      ],
      "text/plain": [
       "             Region         Date  Frequency   Estimated Unemployment Rate (%)  \\\n",
       "0    Andhra Pradesh   31-05-2019    Monthly                              3.65   \n",
       "1    Andhra Pradesh   30-06-2019    Monthly                              3.05   \n",
       "2    Andhra Pradesh   31-07-2019    Monthly                              3.75   \n",
       "3    Andhra Pradesh   31-08-2019    Monthly                              3.32   \n",
       "4    Andhra Pradesh   30-09-2019    Monthly                              5.17   \n",
       "..              ...          ...        ...                               ...   \n",
       "763             NaN          NaN        NaN                               NaN   \n",
       "764             NaN          NaN        NaN                               NaN   \n",
       "765             NaN          NaN        NaN                               NaN   \n",
       "766             NaN          NaN        NaN                               NaN   \n",
       "767             NaN          NaN        NaN                               NaN   \n",
       "\n",
       "      Estimated Employed   Estimated Labour Participation Rate (%)   Area  \n",
       "0             11999139.0                                     43.24  Rural  \n",
       "1             11755881.0                                     42.05  Rural  \n",
       "2             12086707.0                                     43.50  Rural  \n",
       "3             12285693.0                                     43.97  Rural  \n",
       "4             12256762.0                                     44.68  Rural  \n",
       "..                   ...                                       ...    ...  \n",
       "763                  NaN                                       NaN    NaN  \n",
       "764                  NaN                                       NaN    NaN  \n",
       "765                  NaN                                       NaN    NaN  \n",
       "766                  NaN                                       NaN    NaN  \n",
       "767                  NaN                                       NaN    NaN  \n",
       "\n",
       "[768 rows x 7 columns]"
      ]
     },
     "execution_count": 4,
     "metadata": {},
     "output_type": "execute_result"
    }
   ],
   "source": [
    "data"
   ]
  },
  {
   "cell_type": "code",
   "execution_count": 109,
   "id": "0880c82e-0290-4738-a8f9-8e71a730d4a3",
   "metadata": {},
   "outputs": [
    {
     "data": {
      "text/html": [
       "<div>\n",
       "<style scoped>\n",
       "    .dataframe tbody tr th:only-of-type {\n",
       "        vertical-align: middle;\n",
       "    }\n",
       "\n",
       "    .dataframe tbody tr th {\n",
       "        vertical-align: top;\n",
       "    }\n",
       "\n",
       "    .dataframe thead th {\n",
       "        text-align: right;\n",
       "    }\n",
       "</style>\n",
       "<table border=\"1\" class=\"dataframe\">\n",
       "  <thead>\n",
       "    <tr style=\"text-align: right;\">\n",
       "      <th></th>\n",
       "      <th>Region</th>\n",
       "      <th>Date</th>\n",
       "      <th>Frequency</th>\n",
       "      <th>Estimated Unemployment Rate (%)</th>\n",
       "      <th>Estimated Employed</th>\n",
       "      <th>Estimated Labour Participation Rate (%)</th>\n",
       "      <th>Area</th>\n",
       "    </tr>\n",
       "  </thead>\n",
       "  <tbody>\n",
       "    <tr>\n",
       "      <th>0</th>\n",
       "      <td>Andhra Pradesh</td>\n",
       "      <td>31-05-2019</td>\n",
       "      <td>Monthly</td>\n",
       "      <td>3.65</td>\n",
       "      <td>11999139.0</td>\n",
       "      <td>43.24</td>\n",
       "      <td>Rural</td>\n",
       "    </tr>\n",
       "    <tr>\n",
       "      <th>1</th>\n",
       "      <td>Andhra Pradesh</td>\n",
       "      <td>30-06-2019</td>\n",
       "      <td>Monthly</td>\n",
       "      <td>3.05</td>\n",
       "      <td>11755881.0</td>\n",
       "      <td>42.05</td>\n",
       "      <td>Rural</td>\n",
       "    </tr>\n",
       "    <tr>\n",
       "      <th>2</th>\n",
       "      <td>Andhra Pradesh</td>\n",
       "      <td>31-07-2019</td>\n",
       "      <td>Monthly</td>\n",
       "      <td>3.75</td>\n",
       "      <td>12086707.0</td>\n",
       "      <td>43.50</td>\n",
       "      <td>Rural</td>\n",
       "    </tr>\n",
       "    <tr>\n",
       "      <th>3</th>\n",
       "      <td>Andhra Pradesh</td>\n",
       "      <td>31-08-2019</td>\n",
       "      <td>Monthly</td>\n",
       "      <td>3.32</td>\n",
       "      <td>12285693.0</td>\n",
       "      <td>43.97</td>\n",
       "      <td>Rural</td>\n",
       "    </tr>\n",
       "    <tr>\n",
       "      <th>4</th>\n",
       "      <td>Andhra Pradesh</td>\n",
       "      <td>30-09-2019</td>\n",
       "      <td>Monthly</td>\n",
       "      <td>5.17</td>\n",
       "      <td>12256762.0</td>\n",
       "      <td>44.68</td>\n",
       "      <td>Rural</td>\n",
       "    </tr>\n",
       "  </tbody>\n",
       "</table>\n",
       "</div>"
      ],
      "text/plain": [
       "           Region         Date  Frequency   Estimated Unemployment Rate (%)  \\\n",
       "0  Andhra Pradesh   31-05-2019    Monthly                              3.65   \n",
       "1  Andhra Pradesh   30-06-2019    Monthly                              3.05   \n",
       "2  Andhra Pradesh   31-07-2019    Monthly                              3.75   \n",
       "3  Andhra Pradesh   31-08-2019    Monthly                              3.32   \n",
       "4  Andhra Pradesh   30-09-2019    Monthly                              5.17   \n",
       "\n",
       "    Estimated Employed   Estimated Labour Participation Rate (%)   Area  \n",
       "0           11999139.0                                     43.24  Rural  \n",
       "1           11755881.0                                     42.05  Rural  \n",
       "2           12086707.0                                     43.50  Rural  \n",
       "3           12285693.0                                     43.97  Rural  \n",
       "4           12256762.0                                     44.68  Rural  "
      ]
     },
     "execution_count": 109,
     "metadata": {},
     "output_type": "execute_result"
    }
   ],
   "source": [
    "data.head()"
   ]
  },
  {
   "cell_type": "code",
   "execution_count": 5,
   "id": "d15c97e0-c5b6-4334-8ca3-42a5485cd5f0",
   "metadata": {},
   "outputs": [
    {
     "data": {
      "text/html": [
       "<div>\n",
       "<style scoped>\n",
       "    .dataframe tbody tr th:only-of-type {\n",
       "        vertical-align: middle;\n",
       "    }\n",
       "\n",
       "    .dataframe tbody tr th {\n",
       "        vertical-align: top;\n",
       "    }\n",
       "\n",
       "    .dataframe thead th {\n",
       "        text-align: right;\n",
       "    }\n",
       "</style>\n",
       "<table border=\"1\" class=\"dataframe\">\n",
       "  <thead>\n",
       "    <tr style=\"text-align: right;\">\n",
       "      <th></th>\n",
       "      <th>Region</th>\n",
       "      <th>Date</th>\n",
       "      <th>Frequency</th>\n",
       "      <th>Estimated Unemployment Rate (%)</th>\n",
       "      <th>Estimated Employed</th>\n",
       "      <th>Estimated Labour Participation Rate (%)</th>\n",
       "      <th>Area</th>\n",
       "    </tr>\n",
       "  </thead>\n",
       "  <tbody>\n",
       "    <tr>\n",
       "      <th>0</th>\n",
       "      <td>Andhra Pradesh</td>\n",
       "      <td>31-05-2019</td>\n",
       "      <td>Monthly</td>\n",
       "      <td>3.65</td>\n",
       "      <td>11999139.0</td>\n",
       "      <td>43.24</td>\n",
       "      <td>Rural</td>\n",
       "    </tr>\n",
       "    <tr>\n",
       "      <th>1</th>\n",
       "      <td>Andhra Pradesh</td>\n",
       "      <td>30-06-2019</td>\n",
       "      <td>Monthly</td>\n",
       "      <td>3.05</td>\n",
       "      <td>11755881.0</td>\n",
       "      <td>42.05</td>\n",
       "      <td>Rural</td>\n",
       "    </tr>\n",
       "    <tr>\n",
       "      <th>2</th>\n",
       "      <td>Andhra Pradesh</td>\n",
       "      <td>31-07-2019</td>\n",
       "      <td>Monthly</td>\n",
       "      <td>3.75</td>\n",
       "      <td>12086707.0</td>\n",
       "      <td>43.50</td>\n",
       "      <td>Rural</td>\n",
       "    </tr>\n",
       "    <tr>\n",
       "      <th>3</th>\n",
       "      <td>Andhra Pradesh</td>\n",
       "      <td>31-08-2019</td>\n",
       "      <td>Monthly</td>\n",
       "      <td>3.32</td>\n",
       "      <td>12285693.0</td>\n",
       "      <td>43.97</td>\n",
       "      <td>Rural</td>\n",
       "    </tr>\n",
       "    <tr>\n",
       "      <th>4</th>\n",
       "      <td>Andhra Pradesh</td>\n",
       "      <td>30-09-2019</td>\n",
       "      <td>Monthly</td>\n",
       "      <td>5.17</td>\n",
       "      <td>12256762.0</td>\n",
       "      <td>44.68</td>\n",
       "      <td>Rural</td>\n",
       "    </tr>\n",
       "  </tbody>\n",
       "</table>\n",
       "</div>"
      ],
      "text/plain": [
       "           Region         Date  Frequency   Estimated Unemployment Rate (%)  \\\n",
       "0  Andhra Pradesh   31-05-2019    Monthly                              3.65   \n",
       "1  Andhra Pradesh   30-06-2019    Monthly                              3.05   \n",
       "2  Andhra Pradesh   31-07-2019    Monthly                              3.75   \n",
       "3  Andhra Pradesh   31-08-2019    Monthly                              3.32   \n",
       "4  Andhra Pradesh   30-09-2019    Monthly                              5.17   \n",
       "\n",
       "    Estimated Employed   Estimated Labour Participation Rate (%)   Area  \n",
       "0           11999139.0                                     43.24  Rural  \n",
       "1           11755881.0                                     42.05  Rural  \n",
       "2           12086707.0                                     43.50  Rural  \n",
       "3           12285693.0                                     43.97  Rural  \n",
       "4           12256762.0                                     44.68  Rural  "
      ]
     },
     "execution_count": 5,
     "metadata": {},
     "output_type": "execute_result"
    }
   ],
   "source": [
    "data.head()"
   ]
  },
  {
   "cell_type": "code",
   "execution_count": 6,
   "id": "325eac11-6b6d-4507-b794-996184c84514",
   "metadata": {},
   "outputs": [
    {
     "data": {
      "text/plain": [
       "(768, 7)"
      ]
     },
     "execution_count": 6,
     "metadata": {},
     "output_type": "execute_result"
    }
   ],
   "source": [
    "data.shape"
   ]
  },
  {
   "cell_type": "code",
   "execution_count": 7,
   "id": "3fb4653f-f6ae-4921-8c68-37b0bc758ea4",
   "metadata": {},
   "outputs": [],
   "source": [
    "data.columns=[\"State\",\"date\",\"Frequency\",\"Estimated Unemployement rate\",\"Estimated employed\",\"Estimated labour partician rate\",\"region\"]"
   ]
  },
  {
   "cell_type": "code",
   "execution_count": 8,
   "id": "4c9a6127-2899-4032-96a7-3fb8de5a62e2",
   "metadata": {},
   "outputs": [
    {
     "data": {
      "text/html": [
       "<div>\n",
       "<style scoped>\n",
       "    .dataframe tbody tr th:only-of-type {\n",
       "        vertical-align: middle;\n",
       "    }\n",
       "\n",
       "    .dataframe tbody tr th {\n",
       "        vertical-align: top;\n",
       "    }\n",
       "\n",
       "    .dataframe thead th {\n",
       "        text-align: right;\n",
       "    }\n",
       "</style>\n",
       "<table border=\"1\" class=\"dataframe\">\n",
       "  <thead>\n",
       "    <tr style=\"text-align: right;\">\n",
       "      <th></th>\n",
       "      <th>State</th>\n",
       "      <th>date</th>\n",
       "      <th>Frequency</th>\n",
       "      <th>Estimated Unemployement rate</th>\n",
       "      <th>Estimated employed</th>\n",
       "      <th>Estimated labour partician rate</th>\n",
       "      <th>region</th>\n",
       "    </tr>\n",
       "  </thead>\n",
       "  <tbody>\n",
       "    <tr>\n",
       "      <th>763</th>\n",
       "      <td>NaN</td>\n",
       "      <td>NaN</td>\n",
       "      <td>NaN</td>\n",
       "      <td>NaN</td>\n",
       "      <td>NaN</td>\n",
       "      <td>NaN</td>\n",
       "      <td>NaN</td>\n",
       "    </tr>\n",
       "    <tr>\n",
       "      <th>764</th>\n",
       "      <td>NaN</td>\n",
       "      <td>NaN</td>\n",
       "      <td>NaN</td>\n",
       "      <td>NaN</td>\n",
       "      <td>NaN</td>\n",
       "      <td>NaN</td>\n",
       "      <td>NaN</td>\n",
       "    </tr>\n",
       "    <tr>\n",
       "      <th>765</th>\n",
       "      <td>NaN</td>\n",
       "      <td>NaN</td>\n",
       "      <td>NaN</td>\n",
       "      <td>NaN</td>\n",
       "      <td>NaN</td>\n",
       "      <td>NaN</td>\n",
       "      <td>NaN</td>\n",
       "    </tr>\n",
       "    <tr>\n",
       "      <th>766</th>\n",
       "      <td>NaN</td>\n",
       "      <td>NaN</td>\n",
       "      <td>NaN</td>\n",
       "      <td>NaN</td>\n",
       "      <td>NaN</td>\n",
       "      <td>NaN</td>\n",
       "      <td>NaN</td>\n",
       "    </tr>\n",
       "    <tr>\n",
       "      <th>767</th>\n",
       "      <td>NaN</td>\n",
       "      <td>NaN</td>\n",
       "      <td>NaN</td>\n",
       "      <td>NaN</td>\n",
       "      <td>NaN</td>\n",
       "      <td>NaN</td>\n",
       "      <td>NaN</td>\n",
       "    </tr>\n",
       "  </tbody>\n",
       "</table>\n",
       "</div>"
      ],
      "text/plain": [
       "    State date Frequency  Estimated Unemployement rate  Estimated employed  \\\n",
       "763   NaN  NaN       NaN                           NaN                 NaN   \n",
       "764   NaN  NaN       NaN                           NaN                 NaN   \n",
       "765   NaN  NaN       NaN                           NaN                 NaN   \n",
       "766   NaN  NaN       NaN                           NaN                 NaN   \n",
       "767   NaN  NaN       NaN                           NaN                 NaN   \n",
       "\n",
       "     Estimated labour partician rate region  \n",
       "763                              NaN    NaN  \n",
       "764                              NaN    NaN  \n",
       "765                              NaN    NaN  \n",
       "766                              NaN    NaN  \n",
       "767                              NaN    NaN  "
      ]
     },
     "execution_count": 8,
     "metadata": {},
     "output_type": "execute_result"
    }
   ],
   "source": [
    "data.tail()\n"
   ]
  },
  {
   "cell_type": "code",
   "execution_count": 9,
   "id": "6f0f5b40-6253-489f-9fef-ceb7030832a3",
   "metadata": {},
   "outputs": [
    {
     "data": {
      "text/plain": [
       "State                              28\n",
       "date                               28\n",
       "Frequency                          28\n",
       "Estimated Unemployement rate       28\n",
       "Estimated employed                 28\n",
       "Estimated labour partician rate    28\n",
       "region                             28\n",
       "dtype: int64"
      ]
     },
     "execution_count": 9,
     "metadata": {},
     "output_type": "execute_result"
    }
   ],
   "source": [
    "data.isnull().sum()"
   ]
  },
  {
   "cell_type": "code",
   "execution_count": 10,
   "id": "022b14c7-a9d0-4e2e-88ba-07d0d05f5c2f",
   "metadata": {},
   "outputs": [],
   "source": [
    "data= data.drop_duplicates()"
   ]
  },
  {
   "cell_type": "code",
   "execution_count": 11,
   "id": "181e2eb2-0a12-4057-8a4c-556ed4a1890e",
   "metadata": {},
   "outputs": [
    {
     "data": {
      "text/plain": [
       "np.False_"
      ]
     },
     "execution_count": 11,
     "metadata": {},
     "output_type": "execute_result"
    }
   ],
   "source": [
    "data.duplicated().any()"
   ]
  },
  {
   "cell_type": "code",
   "execution_count": 12,
   "id": "c5c41acd-fa3f-46c9-86a5-0f10ed14aa72",
   "metadata": {},
   "outputs": [
    {
     "data": {
      "text/plain": [
       "State\n",
       "Andhra Pradesh      28\n",
       "Bihar               28\n",
       "Chhattisgarh        28\n",
       "Delhi               28\n",
       "Karnataka           28\n",
       "Gujarat             28\n",
       "Haryana             28\n",
       "Himachal Pradesh    28\n",
       "Jharkhand           28\n",
       "Maharashtra         28\n",
       "Madhya Pradesh      28\n",
       "Kerala              28\n",
       "West Bengal         28\n",
       "Uttar Pradesh       28\n",
       "Tripura             28\n",
       "Odisha              28\n",
       "Rajasthan           28\n",
       "Punjab              28\n",
       "Telangana           28\n",
       "Tamil Nadu          28\n",
       "Uttarakhand         27\n",
       "Meghalaya           27\n",
       "Assam               26\n",
       "Puducherry          26\n",
       "Goa                 24\n",
       "Jammu & Kashmir     21\n",
       "Sikkim              17\n",
       "Chandigarh          12\n",
       "Name: count, dtype: int64"
      ]
     },
     "execution_count": 12,
     "metadata": {},
     "output_type": "execute_result"
    }
   ],
   "source": [
    "data.State.value_counts()"
   ]
  },
  {
   "cell_type": "code",
   "execution_count": 13,
   "id": "3ba3d438-210b-41d6-86c5-9fc74371d0b1",
   "metadata": {},
   "outputs": [],
   "source": [
    "data['date']=pd.to_datetime(data['date'],dayfirst=True)"
   ]
  },
  {
   "cell_type": "code",
   "execution_count": 14,
   "id": "89a63be3-9b5a-46f1-9594-6ff8467fd107",
   "metadata": {},
   "outputs": [
    {
     "data": {
      "text/html": [
       "<div>\n",
       "<style scoped>\n",
       "    .dataframe tbody tr th:only-of-type {\n",
       "        vertical-align: middle;\n",
       "    }\n",
       "\n",
       "    .dataframe tbody tr th {\n",
       "        vertical-align: top;\n",
       "    }\n",
       "\n",
       "    .dataframe thead th {\n",
       "        text-align: right;\n",
       "    }\n",
       "</style>\n",
       "<table border=\"1\" class=\"dataframe\">\n",
       "  <thead>\n",
       "    <tr style=\"text-align: right;\">\n",
       "      <th></th>\n",
       "      <th>State</th>\n",
       "      <th>date</th>\n",
       "      <th>Frequency</th>\n",
       "      <th>Estimated Unemployement rate</th>\n",
       "      <th>Estimated employed</th>\n",
       "      <th>Estimated labour partician rate</th>\n",
       "      <th>region</th>\n",
       "      <th>month_int</th>\n",
       "    </tr>\n",
       "  </thead>\n",
       "  <tbody>\n",
       "    <tr>\n",
       "      <th>0</th>\n",
       "      <td>Andhra Pradesh</td>\n",
       "      <td>2019-05-31</td>\n",
       "      <td>Monthly</td>\n",
       "      <td>3.65</td>\n",
       "      <td>11999139.0</td>\n",
       "      <td>43.24</td>\n",
       "      <td>Rural</td>\n",
       "      <td>5.0</td>\n",
       "    </tr>\n",
       "    <tr>\n",
       "      <th>1</th>\n",
       "      <td>Andhra Pradesh</td>\n",
       "      <td>2019-06-30</td>\n",
       "      <td>Monthly</td>\n",
       "      <td>3.05</td>\n",
       "      <td>11755881.0</td>\n",
       "      <td>42.05</td>\n",
       "      <td>Rural</td>\n",
       "      <td>6.0</td>\n",
       "    </tr>\n",
       "    <tr>\n",
       "      <th>2</th>\n",
       "      <td>Andhra Pradesh</td>\n",
       "      <td>2019-07-31</td>\n",
       "      <td>Monthly</td>\n",
       "      <td>3.75</td>\n",
       "      <td>12086707.0</td>\n",
       "      <td>43.50</td>\n",
       "      <td>Rural</td>\n",
       "      <td>7.0</td>\n",
       "    </tr>\n",
       "    <tr>\n",
       "      <th>3</th>\n",
       "      <td>Andhra Pradesh</td>\n",
       "      <td>2019-08-31</td>\n",
       "      <td>Monthly</td>\n",
       "      <td>3.32</td>\n",
       "      <td>12285693.0</td>\n",
       "      <td>43.97</td>\n",
       "      <td>Rural</td>\n",
       "      <td>8.0</td>\n",
       "    </tr>\n",
       "    <tr>\n",
       "      <th>4</th>\n",
       "      <td>Andhra Pradesh</td>\n",
       "      <td>2019-09-30</td>\n",
       "      <td>Monthly</td>\n",
       "      <td>5.17</td>\n",
       "      <td>12256762.0</td>\n",
       "      <td>44.68</td>\n",
       "      <td>Rural</td>\n",
       "      <td>9.0</td>\n",
       "    </tr>\n",
       "  </tbody>\n",
       "</table>\n",
       "</div>"
      ],
      "text/plain": [
       "            State       date Frequency  Estimated Unemployement rate  \\\n",
       "0  Andhra Pradesh 2019-05-31   Monthly                          3.65   \n",
       "1  Andhra Pradesh 2019-06-30   Monthly                          3.05   \n",
       "2  Andhra Pradesh 2019-07-31   Monthly                          3.75   \n",
       "3  Andhra Pradesh 2019-08-31   Monthly                          3.32   \n",
       "4  Andhra Pradesh 2019-09-30   Monthly                          5.17   \n",
       "\n",
       "   Estimated employed  Estimated labour partician rate region  month_int  \n",
       "0          11999139.0                            43.24  Rural        5.0  \n",
       "1          11755881.0                            42.05  Rural        6.0  \n",
       "2          12086707.0                            43.50  Rural        7.0  \n",
       "3          12285693.0                            43.97  Rural        8.0  \n",
       "4          12256762.0                            44.68  Rural        9.0  "
      ]
     },
     "execution_count": 14,
     "metadata": {},
     "output_type": "execute_result"
    }
   ],
   "source": [
    "data['month_int']=data['date'].dt.month\n",
    "data.head()"
   ]
  },
  {
   "cell_type": "code",
   "execution_count": 15,
   "id": "32ac88c4-8473-46d2-836f-87769bf06d7c",
   "metadata": {},
   "outputs": [
    {
     "data": {
      "text/html": [
       "<div>\n",
       "<style scoped>\n",
       "    .dataframe tbody tr th:only-of-type {\n",
       "        vertical-align: middle;\n",
       "    }\n",
       "\n",
       "    .dataframe tbody tr th {\n",
       "        vertical-align: top;\n",
       "    }\n",
       "\n",
       "    .dataframe thead th {\n",
       "        text-align: right;\n",
       "    }\n",
       "</style>\n",
       "<table border=\"1\" class=\"dataframe\">\n",
       "  <thead>\n",
       "    <tr style=\"text-align: right;\">\n",
       "      <th></th>\n",
       "      <th>State</th>\n",
       "      <th>date</th>\n",
       "      <th>Frequency</th>\n",
       "      <th>Estimated Unemployement rate</th>\n",
       "      <th>Estimated employed</th>\n",
       "      <th>Estimated labour partician rate</th>\n",
       "      <th>region</th>\n",
       "      <th>month_int</th>\n",
       "      <th>month</th>\n",
       "    </tr>\n",
       "  </thead>\n",
       "  <tbody>\n",
       "    <tr>\n",
       "      <th>0</th>\n",
       "      <td>Andhra Pradesh</td>\n",
       "      <td>2019-05-31</td>\n",
       "      <td>Monthly</td>\n",
       "      <td>3.65</td>\n",
       "      <td>11999139.0</td>\n",
       "      <td>43.24</td>\n",
       "      <td>Rural</td>\n",
       "      <td>5.0</td>\n",
       "      <td>May</td>\n",
       "    </tr>\n",
       "    <tr>\n",
       "      <th>1</th>\n",
       "      <td>Andhra Pradesh</td>\n",
       "      <td>2019-06-30</td>\n",
       "      <td>Monthly</td>\n",
       "      <td>3.05</td>\n",
       "      <td>11755881.0</td>\n",
       "      <td>42.05</td>\n",
       "      <td>Rural</td>\n",
       "      <td>6.0</td>\n",
       "      <td>Jun</td>\n",
       "    </tr>\n",
       "    <tr>\n",
       "      <th>2</th>\n",
       "      <td>Andhra Pradesh</td>\n",
       "      <td>2019-07-31</td>\n",
       "      <td>Monthly</td>\n",
       "      <td>3.75</td>\n",
       "      <td>12086707.0</td>\n",
       "      <td>43.50</td>\n",
       "      <td>Rural</td>\n",
       "      <td>7.0</td>\n",
       "      <td>Jul</td>\n",
       "    </tr>\n",
       "    <tr>\n",
       "      <th>3</th>\n",
       "      <td>Andhra Pradesh</td>\n",
       "      <td>2019-08-31</td>\n",
       "      <td>Monthly</td>\n",
       "      <td>3.32</td>\n",
       "      <td>12285693.0</td>\n",
       "      <td>43.97</td>\n",
       "      <td>Rural</td>\n",
       "      <td>8.0</td>\n",
       "      <td>Aug</td>\n",
       "    </tr>\n",
       "    <tr>\n",
       "      <th>4</th>\n",
       "      <td>Andhra Pradesh</td>\n",
       "      <td>2019-09-30</td>\n",
       "      <td>Monthly</td>\n",
       "      <td>5.17</td>\n",
       "      <td>12256762.0</td>\n",
       "      <td>44.68</td>\n",
       "      <td>Rural</td>\n",
       "      <td>9.0</td>\n",
       "      <td>Sep</td>\n",
       "    </tr>\n",
       "  </tbody>\n",
       "</table>\n",
       "</div>"
      ],
      "text/plain": [
       "            State       date Frequency  Estimated Unemployement rate  \\\n",
       "0  Andhra Pradesh 2019-05-31   Monthly                          3.65   \n",
       "1  Andhra Pradesh 2019-06-30   Monthly                          3.05   \n",
       "2  Andhra Pradesh 2019-07-31   Monthly                          3.75   \n",
       "3  Andhra Pradesh 2019-08-31   Monthly                          3.32   \n",
       "4  Andhra Pradesh 2019-09-30   Monthly                          5.17   \n",
       "\n",
       "   Estimated employed  Estimated labour partician rate region  month_int month  \n",
       "0          11999139.0                            43.24  Rural        5.0   May  \n",
       "1          11755881.0                            42.05  Rural        6.0   Jun  \n",
       "2          12086707.0                            43.50  Rural        7.0   Jul  \n",
       "3          12285693.0                            43.97  Rural        8.0   Aug  \n",
       "4          12256762.0                            44.68  Rural        9.0   Sep  "
      ]
     },
     "execution_count": 15,
     "metadata": {},
     "output_type": "execute_result"
    }
   ],
   "source": [
    "import calendar\n",
    "\n",
    "# Convert to int (handling NaNs if any)\n",
    "data['month'] = data['month_int'].apply(lambda x: calendar.month_abbr[int(x)] if pd.notnull(x) else None)\n",
    "data.head()"
   ]
  },
  {
   "cell_type": "code",
   "execution_count": 16,
   "id": "3477cabc-787a-4a58-bc00-276cc42f706a",
   "metadata": {},
   "outputs": [],
   "source": [
    "IND = data.groupby(\"month\")[[\n",
    "    'Estimated Unemployement rate',\n",
    "    'Estimated employed',\n",
    "    'Estimated labour partician rate'\n",
    "]].mean()\n",
    "IND=pd.DataFrame(IND).reset_index()\n"
   ]
  },
  {
   "cell_type": "code",
   "execution_count": 17,
   "id": "94b3c375-aa8d-4c53-94bf-7ca4ab73bd6d",
   "metadata": {},
   "outputs": [
    {
     "data": {
      "application/vnd.plotly.v1+json": {
       "config": {
        "plotlyServerURL": "https://plot.ly"
       },
       "data": [
        {
         "name": "Unemployment Rate",
         "type": "bar",
         "x": [
          "Apr",
          "Aug",
          "Dec",
          "Feb",
          "Jan",
          "Jul",
          "Jun",
          "Mar",
          "May",
          "Nov",
          "Oct",
          "Sep"
         ],
         "y": {
          "bdata": "pApx1z2kN0DkvjQLnkYjQPW8psWl/iJAW7dXYu/tI0BF539SyeYjQHzzauJZESJAgpKOT18bJUA35bkEsmYlQIo5Mr1spTBAVm+WKJq8I0BNP9T0Q80jQA4WlHR8GiJA",
          "dtype": "f8"
         }
        },
        {
         "name": "Labour Participation Rate",
         "type": "bar",
         "x": [
          "Apr",
          "Aug",
          "Dec",
          "Feb",
          "Jan",
          "Jul",
          "Jun",
          "Mar",
          "May",
          "Nov",
          "Oct",
          "Sep"
         ],
         "y": {
          "bdata": "EhISEhKSQUBHGlgYytJFQDPYxQBs1UVAOxDc4YvcRUDIjrGtkQZGQNpApw102kVA8AM/8AMbRUD59LXFwYpFQNLfyWp5o0RAQf97WiYORkCtAWm0KQBGQLbFwYKSJkZA",
          "dtype": "f8"
         }
        }
       ],
       "layout": {
        "template": {
         "data": {
          "bar": [
           {
            "error_x": {
             "color": "#2a3f5f"
            },
            "error_y": {
             "color": "#2a3f5f"
            },
            "marker": {
             "line": {
              "color": "#E5ECF6",
              "width": 0.5
             },
             "pattern": {
              "fillmode": "overlay",
              "size": 10,
              "solidity": 0.2
             }
            },
            "type": "bar"
           }
          ],
          "barpolar": [
           {
            "marker": {
             "line": {
              "color": "#E5ECF6",
              "width": 0.5
             },
             "pattern": {
              "fillmode": "overlay",
              "size": 10,
              "solidity": 0.2
             }
            },
            "type": "barpolar"
           }
          ],
          "carpet": [
           {
            "aaxis": {
             "endlinecolor": "#2a3f5f",
             "gridcolor": "white",
             "linecolor": "white",
             "minorgridcolor": "white",
             "startlinecolor": "#2a3f5f"
            },
            "baxis": {
             "endlinecolor": "#2a3f5f",
             "gridcolor": "white",
             "linecolor": "white",
             "minorgridcolor": "white",
             "startlinecolor": "#2a3f5f"
            },
            "type": "carpet"
           }
          ],
          "choropleth": [
           {
            "colorbar": {
             "outlinewidth": 0,
             "ticks": ""
            },
            "type": "choropleth"
           }
          ],
          "contour": [
           {
            "colorbar": {
             "outlinewidth": 0,
             "ticks": ""
            },
            "colorscale": [
             [
              0,
              "#0d0887"
             ],
             [
              0.1111111111111111,
              "#46039f"
             ],
             [
              0.2222222222222222,
              "#7201a8"
             ],
             [
              0.3333333333333333,
              "#9c179e"
             ],
             [
              0.4444444444444444,
              "#bd3786"
             ],
             [
              0.5555555555555556,
              "#d8576b"
             ],
             [
              0.6666666666666666,
              "#ed7953"
             ],
             [
              0.7777777777777778,
              "#fb9f3a"
             ],
             [
              0.8888888888888888,
              "#fdca26"
             ],
             [
              1,
              "#f0f921"
             ]
            ],
            "type": "contour"
           }
          ],
          "contourcarpet": [
           {
            "colorbar": {
             "outlinewidth": 0,
             "ticks": ""
            },
            "type": "contourcarpet"
           }
          ],
          "heatmap": [
           {
            "colorbar": {
             "outlinewidth": 0,
             "ticks": ""
            },
            "colorscale": [
             [
              0,
              "#0d0887"
             ],
             [
              0.1111111111111111,
              "#46039f"
             ],
             [
              0.2222222222222222,
              "#7201a8"
             ],
             [
              0.3333333333333333,
              "#9c179e"
             ],
             [
              0.4444444444444444,
              "#bd3786"
             ],
             [
              0.5555555555555556,
              "#d8576b"
             ],
             [
              0.6666666666666666,
              "#ed7953"
             ],
             [
              0.7777777777777778,
              "#fb9f3a"
             ],
             [
              0.8888888888888888,
              "#fdca26"
             ],
             [
              1,
              "#f0f921"
             ]
            ],
            "type": "heatmap"
           }
          ],
          "histogram": [
           {
            "marker": {
             "pattern": {
              "fillmode": "overlay",
              "size": 10,
              "solidity": 0.2
             }
            },
            "type": "histogram"
           }
          ],
          "histogram2d": [
           {
            "colorbar": {
             "outlinewidth": 0,
             "ticks": ""
            },
            "colorscale": [
             [
              0,
              "#0d0887"
             ],
             [
              0.1111111111111111,
              "#46039f"
             ],
             [
              0.2222222222222222,
              "#7201a8"
             ],
             [
              0.3333333333333333,
              "#9c179e"
             ],
             [
              0.4444444444444444,
              "#bd3786"
             ],
             [
              0.5555555555555556,
              "#d8576b"
             ],
             [
              0.6666666666666666,
              "#ed7953"
             ],
             [
              0.7777777777777778,
              "#fb9f3a"
             ],
             [
              0.8888888888888888,
              "#fdca26"
             ],
             [
              1,
              "#f0f921"
             ]
            ],
            "type": "histogram2d"
           }
          ],
          "histogram2dcontour": [
           {
            "colorbar": {
             "outlinewidth": 0,
             "ticks": ""
            },
            "colorscale": [
             [
              0,
              "#0d0887"
             ],
             [
              0.1111111111111111,
              "#46039f"
             ],
             [
              0.2222222222222222,
              "#7201a8"
             ],
             [
              0.3333333333333333,
              "#9c179e"
             ],
             [
              0.4444444444444444,
              "#bd3786"
             ],
             [
              0.5555555555555556,
              "#d8576b"
             ],
             [
              0.6666666666666666,
              "#ed7953"
             ],
             [
              0.7777777777777778,
              "#fb9f3a"
             ],
             [
              0.8888888888888888,
              "#fdca26"
             ],
             [
              1,
              "#f0f921"
             ]
            ],
            "type": "histogram2dcontour"
           }
          ],
          "mesh3d": [
           {
            "colorbar": {
             "outlinewidth": 0,
             "ticks": ""
            },
            "type": "mesh3d"
           }
          ],
          "parcoords": [
           {
            "line": {
             "colorbar": {
              "outlinewidth": 0,
              "ticks": ""
             }
            },
            "type": "parcoords"
           }
          ],
          "pie": [
           {
            "automargin": true,
            "type": "pie"
           }
          ],
          "scatter": [
           {
            "fillpattern": {
             "fillmode": "overlay",
             "size": 10,
             "solidity": 0.2
            },
            "type": "scatter"
           }
          ],
          "scatter3d": [
           {
            "line": {
             "colorbar": {
              "outlinewidth": 0,
              "ticks": ""
             }
            },
            "marker": {
             "colorbar": {
              "outlinewidth": 0,
              "ticks": ""
             }
            },
            "type": "scatter3d"
           }
          ],
          "scattercarpet": [
           {
            "marker": {
             "colorbar": {
              "outlinewidth": 0,
              "ticks": ""
             }
            },
            "type": "scattercarpet"
           }
          ],
          "scattergeo": [
           {
            "marker": {
             "colorbar": {
              "outlinewidth": 0,
              "ticks": ""
             }
            },
            "type": "scattergeo"
           }
          ],
          "scattergl": [
           {
            "marker": {
             "colorbar": {
              "outlinewidth": 0,
              "ticks": ""
             }
            },
            "type": "scattergl"
           }
          ],
          "scattermap": [
           {
            "marker": {
             "colorbar": {
              "outlinewidth": 0,
              "ticks": ""
             }
            },
            "type": "scattermap"
           }
          ],
          "scattermapbox": [
           {
            "marker": {
             "colorbar": {
              "outlinewidth": 0,
              "ticks": ""
             }
            },
            "type": "scattermapbox"
           }
          ],
          "scatterpolar": [
           {
            "marker": {
             "colorbar": {
              "outlinewidth": 0,
              "ticks": ""
             }
            },
            "type": "scatterpolar"
           }
          ],
          "scatterpolargl": [
           {
            "marker": {
             "colorbar": {
              "outlinewidth": 0,
              "ticks": ""
             }
            },
            "type": "scatterpolargl"
           }
          ],
          "scatterternary": [
           {
            "marker": {
             "colorbar": {
              "outlinewidth": 0,
              "ticks": ""
             }
            },
            "type": "scatterternary"
           }
          ],
          "surface": [
           {
            "colorbar": {
             "outlinewidth": 0,
             "ticks": ""
            },
            "colorscale": [
             [
              0,
              "#0d0887"
             ],
             [
              0.1111111111111111,
              "#46039f"
             ],
             [
              0.2222222222222222,
              "#7201a8"
             ],
             [
              0.3333333333333333,
              "#9c179e"
             ],
             [
              0.4444444444444444,
              "#bd3786"
             ],
             [
              0.5555555555555556,
              "#d8576b"
             ],
             [
              0.6666666666666666,
              "#ed7953"
             ],
             [
              0.7777777777777778,
              "#fb9f3a"
             ],
             [
              0.8888888888888888,
              "#fdca26"
             ],
             [
              1,
              "#f0f921"
             ]
            ],
            "type": "surface"
           }
          ],
          "table": [
           {
            "cells": {
             "fill": {
              "color": "#EBF0F8"
             },
             "line": {
              "color": "white"
             }
            },
            "header": {
             "fill": {
              "color": "#C8D4E3"
             },
             "line": {
              "color": "white"
             }
            },
            "type": "table"
           }
          ]
         },
         "layout": {
          "annotationdefaults": {
           "arrowcolor": "#2a3f5f",
           "arrowhead": 0,
           "arrowwidth": 1
          },
          "autotypenumbers": "strict",
          "coloraxis": {
           "colorbar": {
            "outlinewidth": 0,
            "ticks": ""
           }
          },
          "colorscale": {
           "diverging": [
            [
             0,
             "#8e0152"
            ],
            [
             0.1,
             "#c51b7d"
            ],
            [
             0.2,
             "#de77ae"
            ],
            [
             0.3,
             "#f1b6da"
            ],
            [
             0.4,
             "#fde0ef"
            ],
            [
             0.5,
             "#f7f7f7"
            ],
            [
             0.6,
             "#e6f5d0"
            ],
            [
             0.7,
             "#b8e186"
            ],
            [
             0.8,
             "#7fbc41"
            ],
            [
             0.9,
             "#4d9221"
            ],
            [
             1,
             "#276419"
            ]
           ],
           "sequential": [
            [
             0,
             "#0d0887"
            ],
            [
             0.1111111111111111,
             "#46039f"
            ],
            [
             0.2222222222222222,
             "#7201a8"
            ],
            [
             0.3333333333333333,
             "#9c179e"
            ],
            [
             0.4444444444444444,
             "#bd3786"
            ],
            [
             0.5555555555555556,
             "#d8576b"
            ],
            [
             0.6666666666666666,
             "#ed7953"
            ],
            [
             0.7777777777777778,
             "#fb9f3a"
            ],
            [
             0.8888888888888888,
             "#fdca26"
            ],
            [
             1,
             "#f0f921"
            ]
           ],
           "sequentialminus": [
            [
             0,
             "#0d0887"
            ],
            [
             0.1111111111111111,
             "#46039f"
            ],
            [
             0.2222222222222222,
             "#7201a8"
            ],
            [
             0.3333333333333333,
             "#9c179e"
            ],
            [
             0.4444444444444444,
             "#bd3786"
            ],
            [
             0.5555555555555556,
             "#d8576b"
            ],
            [
             0.6666666666666666,
             "#ed7953"
            ],
            [
             0.7777777777777778,
             "#fb9f3a"
            ],
            [
             0.8888888888888888,
             "#fdca26"
            ],
            [
             1,
             "#f0f921"
            ]
           ]
          },
          "colorway": [
           "#636efa",
           "#EF553B",
           "#00cc96",
           "#ab63fa",
           "#FFA15A",
           "#19d3f3",
           "#FF6692",
           "#B6E880",
           "#FF97FF",
           "#FECB52"
          ],
          "font": {
           "color": "#2a3f5f"
          },
          "geo": {
           "bgcolor": "white",
           "lakecolor": "white",
           "landcolor": "#E5ECF6",
           "showlakes": true,
           "showland": true,
           "subunitcolor": "white"
          },
          "hoverlabel": {
           "align": "left"
          },
          "hovermode": "closest",
          "mapbox": {
           "style": "light"
          },
          "paper_bgcolor": "white",
          "plot_bgcolor": "#E5ECF6",
          "polar": {
           "angularaxis": {
            "gridcolor": "white",
            "linecolor": "white",
            "ticks": ""
           },
           "bgcolor": "#E5ECF6",
           "radialaxis": {
            "gridcolor": "white",
            "linecolor": "white",
            "ticks": ""
           }
          },
          "scene": {
           "xaxis": {
            "backgroundcolor": "#E5ECF6",
            "gridcolor": "white",
            "gridwidth": 2,
            "linecolor": "white",
            "showbackground": true,
            "ticks": "",
            "zerolinecolor": "white"
           },
           "yaxis": {
            "backgroundcolor": "#E5ECF6",
            "gridcolor": "white",
            "gridwidth": 2,
            "linecolor": "white",
            "showbackground": true,
            "ticks": "",
            "zerolinecolor": "white"
           },
           "zaxis": {
            "backgroundcolor": "#E5ECF6",
            "gridcolor": "white",
            "gridwidth": 2,
            "linecolor": "white",
            "showbackground": true,
            "ticks": "",
            "zerolinecolor": "white"
           }
          },
          "shapedefaults": {
           "line": {
            "color": "#2a3f5f"
           }
          },
          "ternary": {
           "aaxis": {
            "gridcolor": "white",
            "linecolor": "white",
            "ticks": ""
           },
           "baxis": {
            "gridcolor": "white",
            "linecolor": "white",
            "ticks": ""
           },
           "bgcolor": "#E5ECF6",
           "caxis": {
            "gridcolor": "white",
            "linecolor": "white",
            "ticks": ""
           }
          },
          "title": {
           "x": 0.05
          },
          "xaxis": {
           "automargin": true,
           "gridcolor": "white",
           "linecolor": "white",
           "ticks": "",
           "title": {
            "standoff": 15
           },
           "zerolinecolor": "white",
           "zerolinewidth": 2
          },
          "yaxis": {
           "automargin": true,
           "gridcolor": "white",
           "linecolor": "white",
           "ticks": "",
           "title": {
            "standoff": 15
           },
           "zerolinecolor": "white",
           "zerolinewidth": 2
          }
         }
        },
        "title": {
         "text": "Unemployment Rate and Labour Participation Rate by Month"
        },
        "xaxis": {
         "categoryarray": [
          "Jan",
          "Feb",
          "Mar",
          "Apr",
          "May",
          "Jun",
          "Jul",
          "Aug",
          "Sep",
          "Oct"
         ],
         "categoryorder": "array"
        }
       }
      },
      "image/png": "[encoded data removed]"
     },
     "metadata": {},
     "output_type": "display_data"
    }
   ],
   "source": [
    "import plotly.graph_objects as go\n",
    "\n",
    "# Use exact column names from IND\n",
    "month = IND[\"month\"]\n",
    "unemployment_rate = IND[\"Estimated Unemployement rate\"]\n",
    "labour_participation_rate = IND[\"Estimated labour partician rate\"]\n",
    "\n",
    "# Create bar chart\n",
    "fig = go.Figure()\n",
    "fig.add_trace(go.Bar(x=month, y=unemployment_rate, name=\"Unemployment Rate\"))\n",
    "fig.add_trace(go.Bar(x=month, y=labour_participation_rate, name=\"Labour Participation Rate\"))\n",
    "\n",
    "# Fix month order (if needed)\n",
    "fig.update_layout(\n",
    "    title=\"Unemployment Rate and Labour Participation Rate by Month\",\n",
    "    xaxis={\"categoryorder\": \"array\",\"categoryarray\": [\"Jan\", \"Feb\", \"Mar\", \"Apr\", \"May\", \"Jun\",\"Jul\", \"Aug\", \"Sep\", \"Oct\"]})\n",
    "fig.show()\n"
   ]
  },
  {
   "cell_type": "code",
   "execution_count": 123,
   "id": "4db310bb-1c79-4509-b2ec-89060edebc40",
   "metadata": {},
   "outputs": [
    {
     "data": {
      "application/vnd.plotly.v1+json": {
       "config": {
        "plotlyServerURL": "https://plot.ly"
       },
       "data": [
        {
         "hovertemplate": "month=%{x}<br>Estimated employed=%{y}<extra></extra>",
         "legendgroup": "Jan",
         "marker": {
          "color": "#636efa",
          "pattern": {
           "shape": ""
          }
         },
         "name": "Jan",
         "orientation": "v",
         "showlegend": true,
         "textposition": "auto",
         "type": "bar",
         "x": [
          "Jan"
         ],
         "xaxis": "x",
         "y": {
          "bdata": "2eeQGmhJXUE=",
          "dtype": "f8"
         },
         "yaxis": "y"
        },
        {
         "hovertemplate": "month=%{x}<br>Estimated employed=%{y}<extra></extra>",
         "legendgroup": "Feb",
         "marker": {
          "color": "#EF553B",
          "pattern": {
           "shape": ""
          }
         },
         "name": "Feb",
         "orientation": "v",
         "showlegend": true,
         "textposition": "auto",
         "type": "bar",
         "x": [
          "Feb"
         ],
         "xaxis": "x",
         "y": {
          "bdata": "K/scEscBXUE=",
          "dtype": "f8"
         },
         "yaxis": "y"
        },
        {
         "hovertemplate": "month=%{x}<br>Estimated employed=%{y}<extra></extra>",
         "legendgroup": "Mar",
         "marker": {
          "color": "#00cc96",
          "pattern": {
           "shape": ""
          }
         },
         "name": "Mar",
         "orientation": "v",
         "showlegend": true,
         "textposition": "auto",
         "type": "bar",
         "x": [
          "Mar"
         ],
         "xaxis": "x",
         "y": {
          "bdata": "2YmdSGmsXEE=",
          "dtype": "f8"
         },
         "yaxis": "y"
        },
        {
         "hovertemplate": "month=%{x}<br>Estimated employed=%{y}<extra></extra>",
         "legendgroup": "Apr",
         "marker": {
          "color": "#ab63fa",
          "pattern": {
           "shape": ""
          }
         },
         "name": "Apr",
         "orientation": "v",
         "showlegend": true,
         "textposition": "auto",
         "type": "bar",
         "x": [
          "Apr"
         ],
         "xaxis": "x",
         "y": {
          "bdata": "urm5+X0nVEE=",
          "dtype": "f8"
         },
         "yaxis": "y"
        },
        {
         "hovertemplate": "month=%{x}<br>Estimated employed=%{y}<extra></extra>",
         "legendgroup": "May",
         "marker": {
          "color": "#FFA15A",
          "pattern": {
           "shape": ""
          }
         },
         "name": "May",
         "orientation": "v",
         "showlegend": true,
         "textposition": "auto",
         "type": "bar",
         "x": [
          "May"
         ],
         "xaxis": "x",
         "y": {
          "bdata": "hmEYBmBuWUE=",
          "dtype": "f8"
         },
         "yaxis": "y"
        },
        {
         "hovertemplate": "month=%{x}<br>Estimated employed=%{y}<extra></extra>",
         "legendgroup": "Jun",
         "marker": {
          "color": "#19d3f3",
          "pattern": {
           "shape": ""
          }
         },
         "name": "Jun",
         "orientation": "v",
         "showlegend": true,
         "textposition": "auto",
         "type": "bar",
         "x": [
          "Jun"
         ],
         "xaxis": "x",
         "y": {
          "bdata": "dmIn5n0fXEE=",
          "dtype": "f8"
         },
         "yaxis": "y"
        },
        {
         "hovertemplate": "month=%{x}<br>Estimated employed=%{y}<extra></extra>",
         "legendgroup": "Jul",
         "marker": {
          "color": "#FF6692",
          "pattern": {
           "shape": ""
          }
         },
         "name": "Jul",
         "orientation": "v",
         "showlegend": true,
         "textposition": "auto",
         "type": "bar",
         "x": [
          "Jul"
         ],
         "xaxis": "x",
         "y": {
          "bdata": "Ce0lVOI+XEE=",
          "dtype": "f8"
         },
         "yaxis": "y"
        },
        {
         "hovertemplate": "month=%{x}<br>Estimated employed=%{y}<extra></extra>",
         "legendgroup": "Aug",
         "marker": {
          "color": "#B6E880",
          "pattern": {
           "shape": ""
          }
         },
         "name": "Aug",
         "orientation": "v",
         "showlegend": true,
         "textposition": "auto",
         "type": "bar",
         "x": [
          "Aug"
         ],
         "xaxis": "x",
         "y": {
          "bdata": "HVITzBnDXEE=",
          "dtype": "f8"
         },
         "yaxis": "y"
        },
        {
         "hovertemplate": "month=%{x}<br>Estimated employed=%{y}<extra></extra>",
         "legendgroup": "Sep",
         "marker": {
          "color": "#FF97FF",
          "pattern": {
           "shape": ""
          }
         },
         "name": "Sep",
         "orientation": "v",
         "showlegend": true,
         "textposition": "auto",
         "type": "bar",
         "x": [
          "Sep"
         ],
         "xaxis": "x",
         "y": {
          "bdata": "ntiJ/RGGXUE=",
          "dtype": "f8"
         },
         "yaxis": "y"
        },
        {
         "hovertemplate": "month=%{x}<br>Estimated employed=%{y}<extra></extra>",
         "legendgroup": "Dec",
         "marker": {
          "color": "#636efa",
          "pattern": {
           "shape": ""
          }
         },
         "name": "Dec",
         "orientation": "v",
         "showlegend": true,
         "textposition": "auto",
         "type": "bar",
         "x": [
          "Dec"
         ],
         "xaxis": "x",
         "y": {
          "bdata": "s88h9XokXEE=",
          "dtype": "f8"
         },
         "yaxis": "y"
        },
        {
         "hovertemplate": "month=%{x}<br>Estimated employed=%{y}<extra></extra>",
         "legendgroup": "Nov",
         "marker": {
          "color": "#EF553B",
          "pattern": {
           "shape": ""
          }
         },
         "name": "Nov",
         "orientation": "v",
         "showlegend": true,
         "textposition": "auto",
         "type": "bar",
         "x": [
          "Nov"
         ],
         "xaxis": "x",
         "y": {
          "bdata": "jC66KC+/W0E=",
          "dtype": "f8"
         },
         "yaxis": "y"
        },
        {
         "hovertemplate": "month=%{x}<br>Estimated employed=%{y}<extra></extra>",
         "legendgroup": "Oct",
         "marker": {
          "color": "#00cc96",
          "pattern": {
           "shape": ""
          }
         },
         "name": "Oct",
         "orientation": "v",
         "showlegend": true,
         "textposition": "auto",
         "type": "bar",
         "x": [
          "Oct"
         ],
         "xaxis": "x",
         "y": {
          "bdata": "mpmZmVPXW0E=",
          "dtype": "f8"
         },
         "yaxis": "y"
        }
       ],
       "layout": {
        "barmode": "relative",
        "legend": {
         "title": {
          "text": "month"
         },
         "tracegroupgap": 0
        },
        "margin": {
         "t": 60
        },
        "template": {
         "data": {
          "bar": [
           {
            "error_x": {
             "color": "#2a3f5f"
            },
            "error_y": {
             "color": "#2a3f5f"
            },
            "marker": {
             "line": {
              "color": "#E5ECF6",
              "width": 0.5
             },
             "pattern": {
              "fillmode": "overlay",
              "size": 10,
              "solidity": 0.2
             }
            },
            "type": "bar"
           }
          ],
          "barpolar": [
           {
            "marker": {
             "line": {
              "color": "#E5ECF6",
              "width": 0.5
             },
             "pattern": {
              "fillmode": "overlay",
              "size": 10,
              "solidity": 0.2
             }
            },
            "type": "barpolar"
           }
          ],
          "carpet": [
           {
            "aaxis": {
             "endlinecolor": "#2a3f5f",
             "gridcolor": "white",
             "linecolor": "white",
             "minorgridcolor": "white",
             "startlinecolor": "#2a3f5f"
            },
            "baxis": {
             "endlinecolor": "#2a3f5f",
             "gridcolor": "white",
             "linecolor": "white",
             "minorgridcolor": "white",
             "startlinecolor": "#2a3f5f"
            },
            "type": "carpet"
           }
          ],
          "choropleth": [
           {
            "colorbar": {
             "outlinewidth": 0,
             "ticks": ""
            },
            "type": "choropleth"
           }
          ],
          "contour": [
           {
            "colorbar": {
             "outlinewidth": 0,
             "ticks": ""
            },
            "colorscale": [
             [
              0,
              "#0d0887"
             ],
             [
              0.1111111111111111,
              "#46039f"
             ],
             [
              0.2222222222222222,
              "#7201a8"
             ],
             [
              0.3333333333333333,
              "#9c179e"
             ],
             [
              0.4444444444444444,
              "#bd3786"
             ],
             [
              0.5555555555555556,
              "#d8576b"
             ],
             [
              0.6666666666666666,
              "#ed7953"
             ],
             [
              0.7777777777777778,
              "#fb9f3a"
             ],
             [
              0.8888888888888888,
              "#fdca26"
             ],
             [
              1,
              "#f0f921"
             ]
            ],
            "type": "contour"
           }
          ],
          "contourcarpet": [
           {
            "colorbar": {
             "outlinewidth": 0,
             "ticks": ""
            },
            "type": "contourcarpet"
           }
          ],
          "heatmap": [
           {
            "colorbar": {
             "outlinewidth": 0,
             "ticks": ""
            },
            "colorscale": [
             [
              0,
              "#0d0887"
             ],
             [
              0.1111111111111111,
              "#46039f"
             ],
             [
              0.2222222222222222,
              "#7201a8"
             ],
             [
              0.3333333333333333,
              "#9c179e"
             ],
             [
              0.4444444444444444,
              "#bd3786"
             ],
             [
              0.5555555555555556,
              "#d8576b"
             ],
             [
              0.6666666666666666,
              "#ed7953"
             ],
             [
              0.7777777777777778,
              "#fb9f3a"
             ],
             [
              0.8888888888888888,
              "#fdca26"
             ],
             [
              1,
              "#f0f921"
             ]
            ],
            "type": "heatmap"
           }
          ],
          "histogram": [
           {
            "marker": {
             "pattern": {
              "fillmode": "overlay",
              "size": 10,
              "solidity": 0.2
             }
            },
            "type": "histogram"
           }
          ],
          "histogram2d": [
           {
            "colorbar": {
             "outlinewidth": 0,
             "ticks": ""
            },
            "colorscale": [
             [
              0,
              "#0d0887"
             ],
             [
              0.1111111111111111,
              "#46039f"
             ],
             [
              0.2222222222222222,
              "#7201a8"
             ],
             [
              0.3333333333333333,
              "#9c179e"
             ],
             [
              0.4444444444444444,
              "#bd3786"
             ],
             [
              0.5555555555555556,
              "#d8576b"
             ],
             [
              0.6666666666666666,
              "#ed7953"
             ],
             [
              0.7777777777777778,
              "#fb9f3a"
             ],
             [
              0.8888888888888888,
              "#fdca26"
             ],
             [
              1,
              "#f0f921"
             ]
            ],
            "type": "histogram2d"
           }
          ],
          "histogram2dcontour": [
           {
            "colorbar": {
             "outlinewidth": 0,
             "ticks": ""
            },
            "colorscale": [
             [
              0,
              "#0d0887"
             ],
             [
              0.1111111111111111,
              "#46039f"
             ],
             [
              0.2222222222222222,
              "#7201a8"
             ],
             [
              0.3333333333333333,
              "#9c179e"
             ],
             [
              0.4444444444444444,
              "#bd3786"
             ],
             [
              0.5555555555555556,
              "#d8576b"
             ],
             [
              0.6666666666666666,
              "#ed7953"
             ],
             [
              0.7777777777777778,
              "#fb9f3a"
             ],
             [
              0.8888888888888888,
              "#fdca26"
             ],
             [
              1,
              "#f0f921"
             ]
            ],
            "type": "histogram2dcontour"
           }
          ],
          "mesh3d": [
           {
            "colorbar": {
             "outlinewidth": 0,
             "ticks": ""
            },
            "type": "mesh3d"
           }
          ],
          "parcoords": [
           {
            "line": {
             "colorbar": {
              "outlinewidth": 0,
              "ticks": ""
             }
            },
            "type": "parcoords"
           }
          ],
          "pie": [
           {
            "automargin": true,
            "type": "pie"
           }
          ],
          "scatter": [
           {
            "fillpattern": {
             "fillmode": "overlay",
             "size": 10,
             "solidity": 0.2
            },
            "type": "scatter"
           }
          ],
          "scatter3d": [
           {
            "line": {
             "colorbar": {
              "outlinewidth": 0,
              "ticks": ""
             }
            },
            "marker": {
             "colorbar": {
              "outlinewidth": 0,
              "ticks": ""
             }
            },
            "type": "scatter3d"
           }
          ],
          "scattercarpet": [
           {
            "marker": {
             "colorbar": {
              "outlinewidth": 0,
              "ticks": ""
             }
            },
            "type": "scattercarpet"
           }
          ],
          "scattergeo": [
           {
            "marker": {
             "colorbar": {
              "outlinewidth": 0,
              "ticks": ""
             }
            },
            "type": "scattergeo"
           }
          ],
          "scattergl": [
           {
            "marker": {
             "colorbar": {
              "outlinewidth": 0,
              "ticks": ""
             }
            },
            "type": "scattergl"
           }
          ],
          "scattermap": [
           {
            "marker": {
             "colorbar": {
              "outlinewidth": 0,
              "ticks": ""
             }
            },
            "type": "scattermap"
           }
          ],
          "scattermapbox": [
           {
            "marker": {
             "colorbar": {
              "outlinewidth": 0,
              "ticks": ""
             }
            },
            "type": "scattermapbox"
           }
          ],
          "scatterpolar": [
           {
            "marker": {
             "colorbar": {
              "outlinewidth": 0,
              "ticks": ""
             }
            },
            "type": "scatterpolar"
           }
          ],
          "scatterpolargl": [
           {
            "marker": {
             "colorbar": {
              "outlinewidth": 0,
              "ticks": ""
             }
            },
            "type": "scatterpolargl"
           }
          ],
          "scatterternary": [
           {
            "marker": {
             "colorbar": {
              "outlinewidth": 0,
              "ticks": ""
             }
            },
            "type": "scatterternary"
           }
          ],
          "surface": [
           {
            "colorbar": {
             "outlinewidth": 0,
             "ticks": ""
            },
            "colorscale": [
             [
              0,
              "#0d0887"
             ],
             [
              0.1111111111111111,
              "#46039f"
             ],
             [
              0.2222222222222222,
              "#7201a8"
             ],
             [
              0.3333333333333333,
              "#9c179e"
             ],
             [
              0.4444444444444444,
              "#bd3786"
             ],
             [
              0.5555555555555556,
              "#d8576b"
             ],
             [
              0.6666666666666666,
              "#ed7953"
             ],
             [
              0.7777777777777778,
              "#fb9f3a"
             ],
             [
              0.8888888888888888,
              "#fdca26"
             ],
             [
              1,
              "#f0f921"
             ]
            ],
            "type": "surface"
           }
          ],
          "table": [
           {
            "cells": {
             "fill": {
              "color": "#EBF0F8"
             },
             "line": {
              "color": "white"
             }
            },
            "header": {
             "fill": {
              "color": "#C8D4E3"
             },
             "line": {
              "color": "white"
             }
            },
            "type": "table"
           }
          ]
         },
         "layout": {
          "annotationdefaults": {
           "arrowcolor": "#2a3f5f",
           "arrowhead": 0,
           "arrowwidth": 1
          },
          "autotypenumbers": "strict",
          "coloraxis": {
           "colorbar": {
            "outlinewidth": 0,
            "ticks": ""
           }
          },
          "colorscale": {
           "diverging": [
            [
             0,
             "#8e0152"
            ],
            [
             0.1,
             "#c51b7d"
            ],
            [
             0.2,
             "#de77ae"
            ],
            [
             0.3,
             "#f1b6da"
            ],
            [
             0.4,
             "#fde0ef"
            ],
            [
             0.5,
             "#f7f7f7"
            ],
            [
             0.6,
             "#e6f5d0"
            ],
            [
             0.7,
             "#b8e186"
            ],
            [
             0.8,
             "#7fbc41"
            ],
            [
             0.9,
             "#4d9221"
            ],
            [
             1,
             "#276419"
            ]
           ],
           "sequential": [
            [
             0,
             "#0d0887"
            ],
            [
             0.1111111111111111,
             "#46039f"
            ],
            [
             0.2222222222222222,
             "#7201a8"
            ],
            [
             0.3333333333333333,
             "#9c179e"
            ],
            [
             0.4444444444444444,
             "#bd3786"
            ],
            [
             0.5555555555555556,
             "#d8576b"
            ],
            [
             0.6666666666666666,
             "#ed7953"
            ],
            [
             0.7777777777777778,
             "#fb9f3a"
            ],
            [
             0.8888888888888888,
             "#fdca26"
            ],
            [
             1,
             "#f0f921"
            ]
           ],
           "sequentialminus": [
            [
             0,
             "#0d0887"
            ],
            [
             0.1111111111111111,
             "#46039f"
            ],
            [
             0.2222222222222222,
             "#7201a8"
            ],
            [
             0.3333333333333333,
             "#9c179e"
            ],
            [
             0.4444444444444444,
             "#bd3786"
            ],
            [
             0.5555555555555556,
             "#d8576b"
            ],
            [
             0.6666666666666666,
             "#ed7953"
            ],
            [
             0.7777777777777778,
             "#fb9f3a"
            ],
            [
             0.8888888888888888,
             "#fdca26"
            ],
            [
             1,
             "#f0f921"
            ]
           ]
          },
          "colorway": [
           "#636efa",
           "#EF553B",
           "#00cc96",
           "#ab63fa",
           "#FFA15A",
           "#19d3f3",
           "#FF6692",
           "#B6E880",
           "#FF97FF",
           "#FECB52"
          ],
          "font": {
           "color": "#2a3f5f"
          },
          "geo": {
           "bgcolor": "white",
           "lakecolor": "white",
           "landcolor": "#E5ECF6",
           "showlakes": true,
           "showland": true,
           "subunitcolor": "white"
          },
          "hoverlabel": {
           "align": "left"
          },
          "hovermode": "closest",
          "mapbox": {
           "style": "light"
          },
          "paper_bgcolor": "white",
          "plot_bgcolor": "#E5ECF6",
          "polar": {
           "angularaxis": {
            "gridcolor": "white",
            "linecolor": "white",
            "ticks": ""
           },
           "bgcolor": "#E5ECF6",
           "radialaxis": {
            "gridcolor": "white",
            "linecolor": "white",
            "ticks": ""
           }
          },
          "scene": {
           "xaxis": {
            "backgroundcolor": "#E5ECF6",
            "gridcolor": "white",
            "gridwidth": 2,
            "linecolor": "white",
            "showbackground": true,
            "ticks": "",
            "zerolinecolor": "white"
           },
           "yaxis": {
            "backgroundcolor": "#E5ECF6",
            "gridcolor": "white",
            "gridwidth": 2,
            "linecolor": "white",
            "showbackground": true,
            "ticks": "",
            "zerolinecolor": "white"
           },
           "zaxis": {
            "backgroundcolor": "#E5ECF6",
            "gridcolor": "white",
            "gridwidth": 2,
            "linecolor": "white",
            "showbackground": true,
            "ticks": "",
            "zerolinecolor": "white"
           }
          },
          "shapedefaults": {
           "line": {
            "color": "#2a3f5f"
           }
          },
          "ternary": {
           "aaxis": {
            "gridcolor": "white",
            "linecolor": "white",
            "ticks": ""
           },
           "baxis": {
            "gridcolor": "white",
            "linecolor": "white",
            "ticks": ""
           },
           "bgcolor": "#E5ECF6",
           "caxis": {
            "gridcolor": "white",
            "linecolor": "white",
            "ticks": ""
           }
          },
          "title": {
           "x": 0.05
          },
          "xaxis": {
           "automargin": true,
           "gridcolor": "white",
           "linecolor": "white",
           "ticks": "",
           "title": {
            "standoff": 15
           },
           "zerolinecolor": "white",
           "zerolinewidth": 2
          },
          "yaxis": {
           "automargin": true,
           "gridcolor": "white",
           "linecolor": "white",
           "ticks": "",
           "title": {
            "standoff": 15
           },
           "zerolinecolor": "white",
           "zerolinewidth": 2
          }
         }
        },
        "xaxis": {
         "anchor": "y",
         "categoryarray": [
          "Jan",
          "Feb",
          "Mar",
          "Apr",
          "May",
          "Jun",
          "Jul",
          "Aug",
          "Sep",
          "Octo",
          "Dec",
          "Nov",
          "Oct"
         ],
         "categoryorder": "array",
         "domain": [
          0,
          1
         ],
         "title": {
          "text": "month"
         }
        },
        "yaxis": {
         "anchor": "x",
         "domain": [
          0,
          1
         ],
         "title": {
          "text": "Estimated employed"
         }
        }
       }
      },
      "image/png": "[encoded data removed]"
     },
     "metadata": {},
     "output_type": "display_data"
    }
   ],
   "source": [
    "fig=px.bar(IND,x='month',y='Estimated employed',color='month',category_orders={\"month\":[\"Jan\", \"Feb\", \"Mar\", \"Apr\", \"May\", \"Jun\",\n",
    "            \"Jul\", \"Aug\", \"Sep\", \"Octo\"]})\n",
    "fig.show()"
   ]
  },
  {
   "cell_type": "code",
   "execution_count": 18,
   "id": "a6b996e9-757f-4132-bd97-263f4edb424e",
   "metadata": {},
   "outputs": [],
   "source": [
    "State=data.groupby([\"State\"])[[\"Estimated Unemployement rate\",\"Estimated employed\",\"Estimated labour partician rate\"]].mean()\n",
    "State=pd.DataFrame(State).reset_index()"
   ]
  },
  {
   "cell_type": "code",
   "execution_count": 125,
   "id": "1bc4afdf-b969-4d3a-8547-c7a7523295aa",
   "metadata": {},
   "outputs": [
    {
     "data": {
      "application/vnd.plotly.v1+json": {
       "config": {
        "plotlyServerURL": "https://plot.ly"
       },
       "data": [
        {
         "alignmentgroup": "True",
         "hovertemplate": "State=%{x}<br>Estimated Unemployement rate=%{y}<extra></extra>",
         "legendgroup": "Andhra Pradesh",
         "marker": {
          "color": "#636efa"
         },
         "name": "Andhra Pradesh",
         "notched": false,
         "offsetgroup": "Andhra Pradesh",
         "orientation": "v",
         "showlegend": true,
         "type": "box",
         "x": [
          "Andhra Pradesh",
          "Andhra Pradesh",
          "Andhra Pradesh",
          "Andhra Pradesh",
          "Andhra Pradesh",
          "Andhra Pradesh",
          "Andhra Pradesh",
          "Andhra Pradesh",
          "Andhra Pradesh",
          "Andhra Pradesh",
          "Andhra Pradesh",
          "Andhra Pradesh",
          "Andhra Pradesh",
          "Andhra Pradesh",
          "Andhra Pradesh",
          "Andhra Pradesh",
          "Andhra Pradesh",
          "Andhra Pradesh",
          "Andhra Pradesh",
          "Andhra Pradesh",
          "Andhra Pradesh",
          "Andhra Pradesh",
          "Andhra Pradesh",
          "Andhra Pradesh",
          "Andhra Pradesh",
          "Andhra Pradesh",
          "Andhra Pradesh",
          "Andhra Pradesh"
         ],
         "x0": " ",
         "xaxis": "x",
         "y": {
          "bdata": "MzMzMzMzDUBmZmZmZmYIQAAAAAAAAA5Aj8L1KFyPCkCuR+F6FK4UQClcj8L1KAxAexSuR+F6EECF61G4HoURQFyPwvUoXBNApHA9CtejF0A9CtejcD0QQArXo3A9SjBA7FG4HoXrLEAzMzMzMzPrP1yPwvUoXBhAZmZmZmZmDkCPwvUoXI8WQHE9CtejcBJACtejcD0KGEDNzMzMzMwSQClcj8L1KB5AhetRuB6FH0BxPQrXo3AcQKRwPQrXoxZAw/UoXI/CI0BmZmZmZiZAQClcj8L16DhAcT0K16NwF0A=",
          "dtype": "f8"
         },
         "y0": " ",
         "yaxis": "y"
        },
        {
         "alignmentgroup": "True",
         "hovertemplate": "State=%{x}<br>Estimated Unemployement rate=%{y}<extra></extra>",
         "legendgroup": "Assam",
         "marker": {
          "color": "#EF553B"
         },
         "name": "Assam",
         "notched": false,
         "offsetgroup": "Assam",
         "orientation": "v",
         "showlegend": true,
         "type": "box",
         "x": [
          "Assam",
          "Assam",
          "Assam",
          "Assam",
          "Assam",
          "Assam",
          "Assam",
          "Assam",
          "Assam",
          "Assam",
          "Assam",
          "Assam",
          "Assam",
          "Assam",
          "Assam",
          "Assam",
          "Assam",
          "Assam",
          "Assam",
          "Assam",
          "Assam",
          "Assam",
          "Assam",
          "Assam",
          "Assam",
          "Assam"
         ],
         "x0": " ",
         "xaxis": "x",
         "y": {
          "bdata": "KVyPwvUoEUBSuB6F61EUQArXo3A9ChFAKVyPwvUoF0DXo3A9CtcRQJqZmZmZmRJApHA9CtejEkApXI/C9SgRQBSuR+F6FApAKVyPwvUoDkDD9Shcj8IiQAAAAAAAAAAAexSuR+F6H0BI4XoUrscjQK5H4XoUrglASOF6FK7HJECF61G4HoUiQNejcD0KVyZAPQrXo3A9GUAUrkfhehQUQPYoXI/C9RxA9ihcj8L1I0CuR+F6FK4kQD0K16NwvSBACtejcD2KJUBcj8L1KFwLQA==",
          "dtype": "f8"
         },
         "y0": " ",
         "yaxis": "y"
        },
        {
         "alignmentgroup": "True",
         "hovertemplate": "State=%{x}<br>Estimated Unemployement rate=%{y}<extra></extra>",
         "legendgroup": "Bihar",
         "marker": {
          "color": "#00cc96"
         },
         "name": "Bihar",
         "notched": false,
         "offsetgroup": "Bihar",
         "orientation": "v",
         "showlegend": true,
         "type": "box",
         "x": [
          "Bihar",
          "Bihar",
          "Bihar",
          "Bihar",
          "Bihar",
          "Bihar",
          "Bihar",
          "Bihar",
          "Bihar",
          "Bihar",
          "Bihar",
          "Bihar",
          "Bihar",
          "Bihar",
          "Bihar",
          "Bihar",
          "Bihar",
          "Bihar",
          "Bihar",
          "Bihar",
          "Bihar",
          "Bihar",
          "Bihar",
          "Bihar",
          "Bihar",
          "Bihar",
          "Bihar",
          "Bihar"
         ],
         "x0": " ",
         "xaxis": "x",
         "y": {
          "bdata": "CtejcD2KIkBmZmZmZmYkQOF6FK5H4SpAAAAAAAAAJkA9CtejcL0hQHE9Ctej8ChAzczMzMzMKEBSuB6F61EkQMP1KFyPQiJAuB6F61E4I0BI4XoUrscuQOxRuB6Fi0ZA4XoUrkehR0A9CtejcH00QGZmZmZm5jNAFK5H4XqUKkApXI/C9WgwQClcj8L1qDFA9ihcj8J1NEAfhetRuB4sQB+F61G4njFAUrgehevRLUBxPQrXo7A0QLgehetROC5A9ihcj8J1L0DD9Shcj2JNQI/C9Shc70JAZmZmZmbmKEA=",
          "dtype": "f8"
         },
         "y0": " ",
         "yaxis": "y"
        },
        {
         "alignmentgroup": "True",
         "hovertemplate": "State=%{x}<br>Estimated Unemployement rate=%{y}<extra></extra>",
         "legendgroup": "Chhattisgarh",
         "marker": {
          "color": "#ab63fa"
         },
         "name": "Chhattisgarh",
         "notched": false,
         "offsetgroup": "Chhattisgarh",
         "orientation": "v",
         "showlegend": true,
         "type": "box",
         "x": [
          "Chhattisgarh",
          "Chhattisgarh",
          "Chhattisgarh",
          "Chhattisgarh",
          "Chhattisgarh",
          "Chhattisgarh",
          "Chhattisgarh",
          "Chhattisgarh",
          "Chhattisgarh",
          "Chhattisgarh",
          "Chhattisgarh",
          "Chhattisgarh",
          "Chhattisgarh",
          "Chhattisgarh",
          "Chhattisgarh",
          "Chhattisgarh",
          "Chhattisgarh",
          "Chhattisgarh",
          "Chhattisgarh",
          "Chhattisgarh",
          "Chhattisgarh",
          "Chhattisgarh",
          "Chhattisgarh",
          "Chhattisgarh",
          "Chhattisgarh",
          "Chhattisgarh",
          "Chhattisgarh",
          "Chhattisgarh"
         ],
         "x0": " ",
         "xaxis": "x",
         "y": {
          "bdata": "pHA9CtejI0AK16NwPQobQClcj8L1KBJAj8L1KFyPEkApXI/C9aggQNejcD0K1xtAKVyPwvUoBkBxPQrXo3AYQEjhehSuxyNAj8L1KFyPH0A9CtejcD0dQAAAAAAAAAAAj8L1KFyPHkBI4XoUrkckQArXo3A9iiNACtejcD2KJ0DXo3A9ClcgQClcj8L1KBlA7FG4HoXrIkAK16NwPYokQKRwPQrXoyBAj8L1KFyPDECF61G4HgUiQBSuR+F6lCNA7FG4HoVrIEDhehSuRyE0QJqZmZmZGThAUrgehesRO0A=",
          "dtype": "f8"
         },
         "y0": " ",
         "yaxis": "y"
        },
        {
         "alignmentgroup": "True",
         "hovertemplate": "State=%{x}<br>Estimated Unemployement rate=%{y}<extra></extra>",
         "legendgroup": "Delhi",
         "marker": {
          "color": "#FFA15A"
         },
         "name": "Delhi",
         "notched": false,
         "offsetgroup": "Delhi",
         "orientation": "v",
         "showlegend": true,
         "type": "box",
         "x": [
          "Delhi",
          "Delhi",
          "Delhi",
          "Delhi",
          "Delhi",
          "Delhi",
          "Delhi",
          "Delhi",
          "Delhi",
          "Delhi",
          "Delhi",
          "Delhi",
          "Delhi",
          "Delhi",
          "Delhi",
          "Delhi",
          "Delhi",
          "Delhi",
          "Delhi",
          "Delhi",
          "Delhi",
          "Delhi",
          "Delhi",
          "Delhi",
          "Delhi",
          "Delhi",
          "Delhi",
          "Delhi"
         ],
         "x0": " ",
         "xaxis": "x",
         "y": {
          "bdata": "H4XrUbgeKUApXI/C9agiQKRwPQrXIyZArkfhehQuMUAAAAAAAAApQK5H4XoUri9AuB6F61E4JkC4HoXrUfgwQPYoXI/C9SpAH4XrUbieK0Bcj8L1KFwuQHE9CtejsDRAw/UoXI/CNkCkcD0K1yM1QB+F61G4nihAhetRuB6FKUBcj8L1KFwtQArXo3A9CitA16NwPQqXNEBSuB6F69EoQFyPwvUoHDBApHA9CtcjJkAzMzMzM3M2QLgehetRuC1A16NwPQoXMUDD9Shcj4IwQKRwPQrX40ZAXI/C9SgcMkA=",
          "dtype": "f8"
         },
         "y0": " ",
         "yaxis": "y"
        },
        {
         "alignmentgroup": "True",
         "hovertemplate": "State=%{x}<br>Estimated Unemployement rate=%{y}<extra></extra>",
         "legendgroup": "Goa",
         "marker": {
          "color": "#19d3f3"
         },
         "name": "Goa",
         "notched": false,
         "offsetgroup": "Goa",
         "orientation": "v",
         "showlegend": true,
         "type": "box",
         "x": [
          "Goa",
          "Goa",
          "Goa",
          "Goa",
          "Goa",
          "Goa",
          "Goa",
          "Goa",
          "Goa",
          "Goa",
          "Goa",
          "Goa",
          "Goa",
          "Goa",
          "Goa",
          "Goa",
          "Goa",
          "Goa",
          "Goa",
          "Goa",
          "Goa",
          "Goa",
          "Goa",
          "Goa"
         ],
         "x0": " ",
         "xaxis": "x",
         "y": {
          "bdata": "SOF6FK5HB0DNzMzMzMwVQPYoXI/C9SVArkfhehSu/z/hehSuR+EMQNejcD0K1xxA9ihcj8K1N0BSuB6F61EMQIXrUbgehRVAAAAAAAAAAABSuB6F69EvQAAAAAAAADRAAAAAAAAABkApXI/C9agqQI/C9ShcjyhAmpmZmZmZE0BI4XoUrkcJQB+F61G4nihAMzMzMzMzOUC4HoXrUTgwQNejcD0K1yVAPQrXo3A9EUAK16NwPQoTQIXrUbgehSdA",
          "dtype": "f8"
         },
         "y0": " ",
         "yaxis": "y"
        },
        {
         "alignmentgroup": "True",
         "hovertemplate": "State=%{x}<br>Estimated Unemployement rate=%{y}<extra></extra>",
         "legendgroup": "Gujarat",
         "marker": {
          "color": "#FF6692"
         },
         "name": "Gujarat",
         "notched": false,
         "offsetgroup": "Gujarat",
         "orientation": "v",
         "showlegend": true,
         "type": "box",
         "x": [
          "Gujarat",
          "Gujarat",
          "Gujarat",
          "Gujarat",
          "Gujarat",
          "Gujarat",
          "Gujarat",
          "Gujarat",
          "Gujarat",
          "Gujarat",
          "Gujarat",
          "Gujarat",
          "Gujarat",
          "Gujarat",
          "Gujarat",
          "Gujarat",
          "Gujarat",
          "Gujarat",
          "Gujarat",
          "Gujarat",
          "Gujarat",
          "Gujarat",
          "Gujarat",
          "Gujarat",
          "Gujarat",
          "Gujarat",
          "Gujarat",
          "Gujarat"
         ],
         "x0": " ",
         "xaxis": "x",
         "y": {
          "bdata": "CtejcD0KB0AUrkfhehQTQFK4HoXrURJAmpmZmZmZDUApXI/C9SgZQKRwPQrXoxNAuB6F61G4EkCuR+F6FK4LQGZmZmZmZhVAj8L1KFyPGkBcj8L1KFweQAAAAAAAAChAKVyPwvUoLUCPwvUoXI/2P1yPwvUoXBBAPQrXo3A9GUCamZmZmZkUQM3MzMzMzBBA16NwPQrXF0DNzMzMzMwVQB+F61G4Hh5A16NwPQrXFkBI4XoUrkcXQClcj8L1KBhAj8L1KFyPFUBxPQrXo/A5QD0K16NwPSdAKVyPwvUoEkA=",
          "dtype": "f8"
         },
         "y0": " ",
         "yaxis": "y"
        },
        {
         "alignmentgroup": "True",
         "hovertemplate": "State=%{x}<br>Estimated Unemployement rate=%{y}<extra></extra>",
         "legendgroup": "Haryana",
         "marker": {
          "color": "#B6E880"
         },
         "name": "Haryana",
         "notched": false,
         "offsetgroup": "Haryana",
         "orientation": "v",
         "showlegend": true,
         "type": "box",
         "x": [
          "Haryana",
          "Haryana",
          "Haryana",
          "Haryana",
          "Haryana",
          "Haryana",
          "Haryana",
          "Haryana",
          "Haryana",
          "Haryana",
          "Haryana",
          "Haryana",
          "Haryana",
          "Haryana",
          "Haryana",
          "Haryana",
          "Haryana",
          "Haryana",
          "Haryana",
          "Haryana",
          "Haryana",
          "Haryana",
          "Haryana",
          "Haryana",
          "Haryana",
          "Haryana",
          "Haryana",
          "Haryana"
         ],
         "x0": " ",
         "xaxis": "x",
         "y": {
          "bdata": "FK5H4XoULUAUrkfhehQ3QLgehetRODBAcT0K16PwPkBcj8L1KFwwQOxRuB6FKzhA16NwPQqXMECPwvUoXI89QPYoXI/CNTBAcT0K16MwO0DsUbgehes3QK5H4XoUzkRAXI/C9SgcQUApXI/C9chBQOxRuB6FqzhA7FG4HoVrNEAzMzMzM3M5QHE9CtejMDhA16NwPQrXOkAK16NwPQo1QI/C9ShcDztAZmZmZmamN0A9CtejcD07QArXo3A9SjdApHA9CtcjO0BSuB6F63FHQHsUrkfhOkNAKVyPwvVoPUA=",
          "dtype": "f8"
         },
         "y0": " ",
         "yaxis": "y"
        },
        {
         "alignmentgroup": "True",
         "hovertemplate": "State=%{x}<br>Estimated Unemployement rate=%{y}<extra></extra>",
         "legendgroup": "Himachal Pradesh",
         "marker": {
          "color": "#FF97FF"
         },
         "name": "Himachal Pradesh",
         "notched": false,
         "offsetgroup": "Himachal Pradesh",
         "orientation": "v",
         "showlegend": true,
         "type": "box",
         "x": [
          "Himachal Pradesh",
          "Himachal Pradesh",
          "Himachal Pradesh",
          "Himachal Pradesh",
          "Himachal Pradesh",
          "Himachal Pradesh",
          "Himachal Pradesh",
          "Himachal Pradesh",
          "Himachal Pradesh",
          "Himachal Pradesh",
          "Himachal Pradesh",
          "Himachal Pradesh",
          "Himachal Pradesh",
          "Himachal Pradesh",
          "Himachal Pradesh",
          "Himachal Pradesh",
          "Himachal Pradesh",
          "Himachal Pradesh",
          "Himachal Pradesh",
          "Himachal Pradesh",
          "Himachal Pradesh",
          "Himachal Pradesh",
          "Himachal Pradesh",
          "Himachal Pradesh",
          "Himachal Pradesh",
          "Himachal Pradesh",
          "Himachal Pradesh",
          "Himachal Pradesh"
         ],
         "x0": " ",
         "xaxis": "x",
         "y": {
          "bdata": "XI/C9ShcK0Bcj8L1KNwmQNejcD0KlzRAj8L1KFyPMkD2KFyPwvUvQB+F61G4ni9AXI/C9SjcNkD2KFyPwnUzQOxRuB6FqzBA16NwPQrXLkD2KFyPwrUxQArXo3A9CgFApHA9CtejOUDsUbgehevxP8P1KFyPwiVArkfhehRuNUDD9Shcj4I1QHsUrkfhejhAAAAAAAAAKECF61G4HsU3QIXrUbgeRTtAUrgehetROUBmZmZmZiYyQI/C9ShcTztAcT0K16NwOkCamZmZmZkFQAAAAAAAAElAH4XrUbieJUA=",
          "dtype": "f8"
         },
         "y0": " ",
         "yaxis": "y"
        },
        {
         "alignmentgroup": "True",
         "hovertemplate": "State=%{x}<br>Estimated Unemployement rate=%{y}<extra></extra>",
         "legendgroup": "Jammu & Kashmir",
         "marker": {
          "color": "#FECB52"
         },
         "name": "Jammu & Kashmir",
         "notched": false,
         "offsetgroup": "Jammu & Kashmir",
         "orientation": "v",
         "showlegend": true,
         "type": "box",
         "x": [
          "Jammu & Kashmir",
          "Jammu & Kashmir",
          "Jammu & Kashmir",
          "Jammu & Kashmir",
          "Jammu & Kashmir",
          "Jammu & Kashmir",
          "Jammu & Kashmir",
          "Jammu & Kashmir",
          "Jammu & Kashmir",
          "Jammu & Kashmir",
          "Jammu & Kashmir",
          "Jammu & Kashmir",
          "Jammu & Kashmir",
          "Jammu & Kashmir",
          "Jammu & Kashmir",
          "Jammu & Kashmir",
          "Jammu & Kashmir",
          "Jammu & Kashmir",
          "Jammu & Kashmir",
          "Jammu & Kashmir",
          "Jammu & Kashmir"
         ],
         "x0": " ",
         "xaxis": "x",
         "y": {
          "bdata": "j8L1KFyPKUCuR+F6FC4oQNejcD0KVytApHA9CtejJkCF61G4HkUzQPYoXI/CdS1AcT0K16MwNkB7FK5H4To1QAAAAAAAADBAw/UoXI/CAUC4HoXrUfgyQArXo3A9CjdA4XoUrkfhM0DNzMzMzIw1QI/C9ShcDzhAFK5H4XqULEAUrkfhehQcQArXo3A9ijJAXI/C9SjcM0AUrkfhepQsQOxRuB6F6ylA",
          "dtype": "f8"
         },
         "y0": " ",
         "yaxis": "y"
        },
        {
         "alignmentgroup": "True",
         "hovertemplate": "State=%{x}<br>Estimated Unemployement rate=%{y}<extra></extra>",
         "legendgroup": "Jharkhand",
         "marker": {
          "color": "#636efa"
         },
         "name": "Jharkhand",
         "notched": false,
         "offsetgroup": "Jharkhand",
         "orientation": "v",
         "showlegend": true,
         "type": "box",
         "x": [
          "Jharkhand",
          "Jharkhand",
          "Jharkhand",
          "Jharkhand",
          "Jharkhand",
          "Jharkhand",
          "Jharkhand",
          "Jharkhand",
          "Jharkhand",
          "Jharkhand",
          "Jharkhand",
          "Jharkhand",
          "Jharkhand",
          "Jharkhand",
          "Jharkhand",
          "Jharkhand",
          "Jharkhand",
          "Jharkhand",
          "Jharkhand",
          "Jharkhand",
          "Jharkhand",
          "Jharkhand",
          "Jharkhand",
          "Jharkhand",
          "Jharkhand",
          "Jharkhand",
          "Jharkhand",
          "Jharkhand"
         ],
         "x0": " ",
         "xaxis": "x",
         "y": {
          "bdata": "cT0K16NwHEDsUbgehesgQPYoXI/C9SNAH4XrUbgeKEB7FK5H4XocQEjhehSuRxpApHA9CtcjIEDNzMzMzEwuQKRwPQrXoxhAH4XrUbgeIkAK16NwPQoUQFyPwvUo3ERAzczMzMyMS0BI4XoUroc1QHsUrkfhOjFAw/UoXI+CNEDXo3A9ClcvQAAAAAAAQDRAKVyPwvUoNUDNzMzMzAwzQNejcD0KVzFAw/UoXI8CNkD2KFyPwvU2QOxRuB6FqzNAZmZmZmZmMEA9CtejcL1OQHsUrkfhilFA4XoUrkdhM0A=",
          "dtype": "f8"
         },
         "y0": " ",
         "yaxis": "y"
        },
        {
         "alignmentgroup": "True",
         "hovertemplate": "State=%{x}<br>Estimated Unemployement rate=%{y}<extra></extra>",
         "legendgroup": "Karnataka",
         "marker": {
          "color": "#EF553B"
         },
         "name": "Karnataka",
         "notched": false,
         "offsetgroup": "Karnataka",
         "orientation": "v",
         "showlegend": true,
         "type": "box",
         "x": [
          "Karnataka",
          "Karnataka",
          "Karnataka",
          "Karnataka",
          "Karnataka",
          "Karnataka",
          "Karnataka",
          "Karnataka",
          "Karnataka",
          "Karnataka",
          "Karnataka",
          "Karnataka",
          "Karnataka",
          "Karnataka",
          "Karnataka",
          "Karnataka",
          "Karnataka",
          "Karnataka",
          "Karnataka",
          "Karnataka",
          "Karnataka",
          "Karnataka",
          "Karnataka",
          "Karnataka",
          "Karnataka",
          "Karnataka",
          "Karnataka",
          "Karnataka"
         ],
         "x0": " ",
         "xaxis": "x",
         "y": {
          "bdata": "16NwPQrXFUDsUbgehesXQKRwPQrXo+A/rkfhehSu1z+amZmZmZkJQIXrUbgehRxACtejcD0K8z89CtejcD3aP4/C9ShcjwRAcT0K16NwEEAfhetRuB4DQPYoXI/ClUBAuB6F61G4N0DXo3A9CtclQD0K16NwPRpAAAAAAAAAFEBSuB6F61ECQFK4HoXrUfQ/j8L1KFyPDED2KFyPwvUOQIXrUbgehQtA9ihcj8L1+D97FK5H4XoKQArXo3A9CgdArkfhehSuE0AfhetRuB45QMP1KFyPwi9AexSuR+F6GEA=",
          "dtype": "f8"
         },
         "y0": " ",
         "yaxis": "y"
        },
        {
         "alignmentgroup": "True",
         "hovertemplate": "State=%{x}<br>Estimated Unemployement rate=%{y}<extra></extra>",
         "legendgroup": "Kerala",
         "marker": {
          "color": "#00cc96"
         },
         "name": "Kerala",
         "notched": false,
         "offsetgroup": "Kerala",
         "orientation": "v",
         "showlegend": true,
         "type": "box",
         "x": [
          "Kerala",
          "Kerala",
          "Kerala",
          "Kerala",
          "Kerala",
          "Kerala",
          "Kerala",
          "Kerala",
          "Kerala",
          "Kerala",
          "Kerala",
          "Kerala",
          "Kerala",
          "Kerala",
          "Kerala",
          "Kerala",
          "Kerala",
          "Kerala",
          "Kerala",
          "Kerala",
          "Kerala",
          "Kerala",
          "Kerala",
          "Kerala",
          "Kerala",
          "Kerala",
          "Kerala",
          "Kerala"
         ],
         "x0": " ",
         "xaxis": "x",
         "y": {
          "bdata": "hetRuB6FGkAAAAAAAAAiQM3MzMzMzBNApHA9CtejJEBmZmZmZmYVQEjhehSuRyJAAAAAAAAAFEAK16NwPYolQHE9CtejcBBAUrgehevRIUAzMzMzM7MhQOxRuB6FayVA4XoUrkdhN0ApXI/C9ag7QHE9CtejcBhArkfhehSuGkBSuB6F61EeQMP1KFyPwh5AFK5H4XoUFkBmZmZmZmYVQNejcD0K1xpAPQrXo3A9HUCamZmZmZkaQFK4HoXrURhASOF6FK5HIkCuR+F6FG41QEjhehSuRz5A16NwPQpXKEA=",
          "dtype": "f8"
         },
         "y0": " ",
         "yaxis": "y"
        },
        {
         "alignmentgroup": "True",
         "hovertemplate": "State=%{x}<br>Estimated Unemployement rate=%{y}<extra></extra>",
         "legendgroup": "Madhya Pradesh",
         "marker": {
          "color": "#ab63fa"
         },
         "name": "Madhya Pradesh",
         "notched": false,
         "offsetgroup": "Madhya Pradesh",
         "orientation": "v",
         "showlegend": true,
         "type": "box",
         "x": [
          "Madhya Pradesh",
          "Madhya Pradesh",
          "Madhya Pradesh",
          "Madhya Pradesh",
          "Madhya Pradesh",
          "Madhya Pradesh",
          "Madhya Pradesh",
          "Madhya Pradesh",
          "Madhya Pradesh",
          "Madhya Pradesh",
          "Madhya Pradesh",
          "Madhya Pradesh",
          "Madhya Pradesh",
          "Madhya Pradesh",
          "Madhya Pradesh",
          "Madhya Pradesh",
          "Madhya Pradesh",
          "Madhya Pradesh",
          "Madhya Pradesh",
          "Madhya Pradesh",
          "Madhya Pradesh",
          "Madhya Pradesh",
          "Madhya Pradesh",
          "Madhya Pradesh",
          "Madhya Pradesh",
          "Madhya Pradesh",
          "Madhya Pradesh",
          "Madhya Pradesh"
         ],
         "x0": " ",
         "xaxis": "x",
         "y": {
          "bdata": "CtejcD0KDUAAAAAAAAARQFyPwvUoXA9Aw/UoXI/CE0CkcD0K16MIQNejcD0K1wdAw/UoXI/CBUCF61G4HoUHQEjhehSuRw1ArkfhehSuEUAK16NwPQrzPwAAAAAAAClA9ihcj8J1NkDXo3A9CtcZQEjhehSuRw9AhetRuB6FGUCF61G4HoUdQEjhehSuRxtAAAAAAAAAHECamZmZmZkRQD0K16NwPRhAzczMzMzMGECuR+F6FK4UQNejcD0K1xNAMzMzMzMzE0DhehSuR+EnQB+F61G4PkRAcT0K16NwKUA=",
          "dtype": "f8"
         },
         "y0": " ",
         "yaxis": "y"
        },
        {
         "alignmentgroup": "True",
         "hovertemplate": "State=%{x}<br>Estimated Unemployement rate=%{y}<extra></extra>",
         "legendgroup": "Maharashtra",
         "marker": {
          "color": "#FFA15A"
         },
         "name": "Maharashtra",
         "notched": false,
         "offsetgroup": "Maharashtra",
         "orientation": "v",
         "showlegend": true,
         "type": "box",
         "x": [
          "Maharashtra",
          "Maharashtra",
          "Maharashtra",
          "Maharashtra",
          "Maharashtra",
          "Maharashtra",
          "Maharashtra",
          "Maharashtra",
          "Maharashtra",
          "Maharashtra",
          "Maharashtra",
          "Maharashtra",
          "Maharashtra",
          "Maharashtra",
          "Maharashtra",
          "Maharashtra",
          "Maharashtra",
          "Maharashtra",
          "Maharashtra",
          "Maharashtra",
          "Maharashtra",
          "Maharashtra",
          "Maharashtra",
          "Maharashtra",
          "Maharashtra",
          "Maharashtra",
          "Maharashtra",
          "Maharashtra"
         ],
         "x0": " ",
         "xaxis": "x",
         "y": {
          "bdata": "XI/C9ShcDUBcj8L1KFwRQEjhehSuRw1AFK5H4XoUDkCamZmZmZkRQHsUrkfheg5AcT0K16NwDUA9CtejcD0IQGZmZmZmZg5A9ihcj8L1EECF61G4HoUVQEjhehSuRzlApHA9CtfjMEDNzMzMzMwiQFK4HoXrURhA16NwPQrXGUBmZmZmZmYZQEjhehSuRx5AZmZmZmZmHkAK16NwPQoeQGZmZmZmZh5AUrgehetRH0CuR+F6FK4aQFyPwvUoXBVAXI/C9ShcGUB7FK5H4fotQNejcD0K1y9AhetRuB4FJEA=",
          "dtype": "f8"
         },
         "y0": " ",
         "yaxis": "y"
        },
        {
         "alignmentgroup": "True",
         "hovertemplate": "State=%{x}<br>Estimated Unemployement rate=%{y}<extra></extra>",
         "legendgroup": "Meghalaya",
         "marker": {
          "color": "#19d3f3"
         },
         "name": "Meghalaya",
         "notched": false,
         "offsetgroup": "Meghalaya",
         "orientation": "v",
         "showlegend": true,
         "type": "box",
         "x": [
          "Meghalaya",
          "Meghalaya",
          "Meghalaya",
          "Meghalaya",
          "Meghalaya",
          "Meghalaya",
          "Meghalaya",
          "Meghalaya",
          "Meghalaya",
          "Meghalaya",
          "Meghalaya",
          "Meghalaya",
          "Meghalaya",
          "Meghalaya",
          "Meghalaya",
          "Meghalaya",
          "Meghalaya",
          "Meghalaya",
          "Meghalaya",
          "Meghalaya",
          "Meghalaya",
          "Meghalaya",
          "Meghalaya",
          "Meghalaya",
          "Meghalaya",
          "Meghalaya",
          "Meghalaya"
         ],
         "x0": " ",
         "xaxis": "x",
         "y": {
          "bdata": "SOF6FK5HCUDsUbgehesQQHsUrkfhevA/pHA9Ctej4D+4HoXrUbjOP5qZmZmZmQ1AAAAAAAAA+D/NzMzMzMz8PwrXo3A9Cu8/FK5H4XoUBkB7FK5H4Xr0P8P1KFyPwiBA16NwPQrXDUCamZmZmZn1P83MzMzMzCBAUrgehetRIUC4HoXrUbgRQDMzMzMzMxdAMzMzMzMzFUDNzMzMzMwcQClcj8L1KAhA16NwPQrXFEAK16NwPQoTQHsUrkfheh1AZmZmZmZmBkCkcD0K12MxQClcj8L1KC1A",
          "dtype": "f8"
         },
         "y0": " ",
         "yaxis": "y"
        },
        {
         "alignmentgroup": "True",
         "hovertemplate": "State=%{x}<br>Estimated Unemployement rate=%{y}<extra></extra>",
         "legendgroup": "Odisha",
         "marker": {
          "color": "#FF6692"
         },
         "name": "Odisha",
         "notched": false,
         "offsetgroup": "Odisha",
         "orientation": "v",
         "showlegend": true,
         "type": "box",
         "x": [
          "Odisha",
          "Odisha",
          "Odisha",
          "Odisha",
          "Odisha",
          "Odisha",
          "Odisha",
          "Odisha",
          "Odisha",
          "Odisha",
          "Odisha",
          "Odisha",
          "Odisha",
          "Odisha",
          "Odisha",
          "Odisha",
          "Odisha",
          "Odisha",
          "Odisha",
          "Odisha",
          "Odisha",
          "Odisha",
          "Odisha",
          "Odisha",
          "Odisha",
          "Odisha",
          "Odisha",
          "Odisha"
         ],
         "x0": " ",
         "xaxis": "x",
         "y": {
          "bdata": "rkfhehSuEEDXo3A9CtcSQHsUrkfhegpAcT0K16NwDUA9CtejcD0RQB+F61G4HhFA4XoUrkfhEkCuR+F6FK4SQPYoXI/C9fw/exSuR+F6CkCuR+F6FC4uQHsUrkfhejhAZmZmZmbmIkBcj8L1KFwSQJqZmZmZmQdACtejcD0KBUB7FK5H4Xr8PwAAAAAAAAxAPQrXo3A9DkAAAAAAAAASQNejcD0K1wFA4XoUrkfhCkA9CtejcD0CQIXrUbgehQFArkfhehSuD0AAAAAAAIA0QAAAAAAAACRAcT0K16NwAUA=",
          "dtype": "f8"
         },
         "y0": " ",
         "yaxis": "y"
        },
        {
         "alignmentgroup": "True",
         "hovertemplate": "State=%{x}<br>Estimated Unemployement rate=%{y}<extra></extra>",
         "legendgroup": "Puducherry",
         "marker": {
          "color": "#B6E880"
         },
         "name": "Puducherry",
         "notched": false,
         "offsetgroup": "Puducherry",
         "orientation": "v",
         "showlegend": true,
         "type": "box",
         "x": [
          "Puducherry",
          "Puducherry",
          "Puducherry",
          "Puducherry",
          "Puducherry",
          "Puducherry",
          "Puducherry",
          "Puducherry",
          "Puducherry",
          "Puducherry",
          "Puducherry",
          "Puducherry",
          "Puducherry",
          "Puducherry",
          "Puducherry",
          "Puducherry",
          "Puducherry",
          "Puducherry",
          "Puducherry",
          "Puducherry",
          "Puducherry",
          "Puducherry",
          "Puducherry",
          "Puducherry",
          "Puducherry",
          "Puducherry"
         ],
         "x0": " ",
         "xaxis": "x",
         "y": {
          "bdata": "AAAAAAAAAAAAAAAAAAAAAAAAAAAAAAAAZmZmZmZmE0AAAAAAAAAAAOF6FK5H4fI/AAAAAAAAAADXo3A9Ctf/P4/C9Shcj+I/16NwPQrX+z97FK5H4XoCQHE9CtejoFJAAAAAAAAA9D8AAAAAAAAAAAAAAAAAAAAAZmZmZmbmIUCF61G4HoXzP7gehetRuPI/7FG4HoXr9T/Xo3A9CtcUQD0K16NwPeI/exSuR+F6/D/Xo3A9CtfjP4/C9ShcL1NAAAAAAADAUkAzMzMzMzMSQA==",
          "dtype": "f8"
         },
         "y0": " ",
         "yaxis": "y"
        },
        {
         "alignmentgroup": "True",
         "hovertemplate": "State=%{x}<br>Estimated Unemployement rate=%{y}<extra></extra>",
         "legendgroup": "Punjab",
         "marker": {
          "color": "#FF97FF"
         },
         "name": "Punjab",
         "notched": false,
         "offsetgroup": "Punjab",
         "orientation": "v",
         "showlegend": true,
         "type": "box",
         "x": [
          "Punjab",
          "Punjab",
          "Punjab",
          "Punjab",
          "Punjab",
          "Punjab",
          "Punjab",
          "Punjab",
          "Punjab",
          "Punjab",
          "Punjab",
          "Punjab",
          "Punjab",
          "Punjab",
          "Punjab",
          "Punjab",
          "Punjab",
          "Punjab",
          "Punjab",
          "Punjab",
          "Punjab",
          "Punjab",
          "Punjab",
          "Punjab",
          "Punjab",
          "Punjab",
          "Punjab",
          "Punjab"
         ],
         "x0": " ",
         "xaxis": "x",
         "y": {
          "bdata": "16NwPQpXIkDsUbgehWsoQEjhehSuRyNAw/UoXI/CGkCuR+F6FC4hQB+F61G4HilASOF6FK5HHECF61G4HoUYQOF6FK5HYSNAUrgehevRJECF61G4HgUlQIXrUbgehQ1A7FG4HoVLREAAAAAAAAA0QHsUrkfh+ipA16NwPQpXKkC4HoXrUTgnQHsUrkfh+idA4XoUrkdhL0AAAAAAAIArQEjhehSuxyRAcT0K16PwJ0Bcj8L1KFwrQHsUrkfh+idAcT0K16PwI0AUrkfhehTyPwrXo3A9ijRAmpmZmZkZJUA=",
          "dtype": "f8"
         },
         "y0": " ",
         "yaxis": "y"
        },
        {
         "alignmentgroup": "True",
         "hovertemplate": "State=%{x}<br>Estimated Unemployement rate=%{y}<extra></extra>",
         "legendgroup": "Rajasthan",
         "marker": {
          "color": "#FECB52"
         },
         "name": "Rajasthan",
         "notched": false,
         "offsetgroup": "Rajasthan",
         "orientation": "v",
         "showlegend": true,
         "type": "box",
         "x": [
          "Rajasthan",
          "Rajasthan",
          "Rajasthan",
          "Rajasthan",
          "Rajasthan",
          "Rajasthan",
          "Rajasthan",
          "Rajasthan",
          "Rajasthan",
          "Rajasthan",
          "Rajasthan",
          "Rajasthan",
          "Rajasthan",
          "Rajasthan",
          "Rajasthan",
          "Rajasthan",
          "Rajasthan",
          "Rajasthan",
          "Rajasthan",
          "Rajasthan",
          "Rajasthan",
          "Rajasthan",
          "Rajasthan",
          "Rajasthan",
          "Rajasthan",
          "Rajasthan",
          "Rajasthan",
          "Rajasthan"
         ],
         "x0": " ",
         "xaxis": "x",
         "y": {
          "bdata": "H4XrUbgeEEBmZmZmZmYrQGZmZmZmZiNAAAAAAAAAKUDNzMzMzMwVQFK4HoXrUS1AcT0K16PwJEDsUbgehesrQAAAAAAAACBA9ihcj8L1LEBxPQrXo/AiQAAAAAAAgChAZmZmZmbmJEC4HoXrUbgrQD0K16NwPStAuB6F61G4LEDXo3A9ClcnQOxRuB6Fay1Aw/UoXI9CKUAK16NwPQoqQJqZmZmZmSxACtejcD0KMkBSuB6F69EyQIXrUbgeBTFACtejcD2KMkCkcD0K18NBQJqZmZmZWTlAFK5H4XoUKkA=",
          "dtype": "f8"
         },
         "y0": " ",
         "yaxis": "y"
        },
        {
         "alignmentgroup": "True",
         "hovertemplate": "State=%{x}<br>Estimated Unemployement rate=%{y}<extra></extra>",
         "legendgroup": "Sikkim",
         "marker": {
          "color": "#636efa"
         },
         "name": "Sikkim",
         "notched": false,
         "offsetgroup": "Sikkim",
         "orientation": "v",
         "showlegend": true,
         "type": "box",
         "x": [
          "Sikkim",
          "Sikkim",
          "Sikkim",
          "Sikkim",
          "Sikkim",
          "Sikkim",
          "Sikkim",
          "Sikkim",
          "Sikkim",
          "Sikkim",
          "Sikkim",
          "Sikkim",
          "Sikkim",
          "Sikkim",
          "Sikkim",
          "Sikkim",
          "Sikkim"
         ],
         "x0": " ",
         "xaxis": "x",
         "y": {
          "bdata": "7FG4HoXrFUC4HoXrUTgqQAAAAAAAAPA/AAAAAAAAAAA9CtejcD0XQGZmZmZmZiBACtejcD0KH0B7FK5H4XoEQEjhehSuRxNAPQrXo3A9E0Bcj8L1KFwjQClcj8L1KBBAexSuR+F6HUAzMzMzM3M0QBSuR+F6FBdAAAAAAADAM0AK16NwPQoFQA==",
          "dtype": "f8"
         },
         "y0": " ",
         "yaxis": "y"
        },
        {
         "alignmentgroup": "True",
         "hovertemplate": "State=%{x}<br>Estimated Unemployement rate=%{y}<extra></extra>",
         "legendgroup": "Tamil Nadu",
         "marker": {
          "color": "#EF553B"
         },
         "name": "Tamil Nadu",
         "notched": false,
         "offsetgroup": "Tamil Nadu",
         "orientation": "v",
         "showlegend": true,
         "type": "box",
         "x": [
          "Tamil Nadu",
          "Tamil Nadu",
          "Tamil Nadu",
          "Tamil Nadu",
          "Tamil Nadu",
          "Tamil Nadu",
          "Tamil Nadu",
          "Tamil Nadu",
          "Tamil Nadu",
          "Tamil Nadu",
          "Tamil Nadu",
          "Tamil Nadu",
          "Tamil Nadu",
          "Tamil Nadu",
          "Tamil Nadu",
          "Tamil Nadu",
          "Tamil Nadu",
          "Tamil Nadu",
          "Tamil Nadu",
          "Tamil Nadu",
          "Tamil Nadu",
          "Tamil Nadu",
          "Tamil Nadu",
          "Tamil Nadu",
          "Tamil Nadu",
          "Tamil Nadu",
          "Tamil Nadu",
          "Tamil Nadu"
         ],
         "x0": " ",
         "xaxis": "x",
         "y": {
          "bdata": "CtejcD0K7z9xPQrXo3DtPwrXo3A9ChhASOF6FK5HB0Bcj8L1KFz7P1yPwvUoXPc/rkfhehSuA0DXo3A9CtcNQOF6FK5H4fI/uB6F61G48j9xPQrXo3AZQLgehetRmEpAPQrXo3BdQ0B7FK5H4XoAQHsUrkfheuw/9ihcj8L1+D9xPQrXo3AJQI/C9ShcDyNAw/UoXI/C/T8UrkfhehTyPzMzMzMzMwVAmpmZmZkZIEBmZmZmZmYAQHsUrkfhegpA16NwPQrXGUBmZmZmZsZGQDMzMzMz8zlArkfhehTuOEA=",
          "dtype": "f8"
         },
         "y0": " ",
         "yaxis": "y"
        },
        {
         "alignmentgroup": "True",
         "hovertemplate": "State=%{x}<br>Estimated Unemployement rate=%{y}<extra></extra>",
         "legendgroup": "Telangana",
         "marker": {
          "color": "#00cc96"
         },
         "name": "Telangana",
         "notched": false,
         "offsetgroup": "Telangana",
         "orientation": "v",
         "showlegend": true,
         "type": "box",
         "x": [
          "Telangana",
          "Telangana",
          "Telangana",
          "Telangana",
          "Telangana",
          "Telangana",
          "Telangana",
          "Telangana",
          "Telangana",
          "Telangana",
          "Telangana",
          "Telangana",
          "Telangana",
          "Telangana",
          "Telangana",
          "Telangana",
          "Telangana",
          "Telangana",
          "Telangana",
          "Telangana",
          "Telangana",
          "Telangana",
          "Telangana",
          "Telangana",
          "Telangana",
          "Telangana",
          "Telangana",
          "Telangana"
         ],
         "x0": " ",
         "xaxis": "x",
         "y": {
          "bdata": "16NwPQrXAUCuR+F6FK4XQJqZmZmZmQNAZmZmZmZm9j/2KFyPwvUVQClcj8L1KB1A4XoUrkfhGUCamZmZmZn1PxSuR+F6FBRACtejcD0KIkCF61G4HoUWQArXo3A9ChJA4XoUrkcBQUDNzMzMzEwzQFK4HoXrUfg/4XoUrkfh9j/Xo3A9CtcNQMP1KFyPwhBAw/UoXI/CGED2KFyPwvUaQOxRuB6F6xRA4XoUrkfhEED2KFyPwvUZQPYoXI/C9RpAZmZmZmZmGEAAAAAAAAAlQClcj8L1SEJArkfhehSuG0A=",
          "dtype": "f8"
         },
         "y0": " ",
         "yaxis": "y"
        },
        {
         "alignmentgroup": "True",
         "hovertemplate": "State=%{x}<br>Estimated Unemployement rate=%{y}<extra></extra>",
         "legendgroup": "Tripura",
         "marker": {
          "color": "#ab63fa"
         },
         "name": "Tripura",
         "notched": false,
         "offsetgroup": "Tripura",
         "orientation": "v",
         "showlegend": true,
         "type": "box",
         "x": [
          "Tripura",
          "Tripura",
          "Tripura",
          "Tripura",
          "Tripura",
          "Tripura",
          "Tripura",
          "Tripura",
          "Tripura",
          "Tripura",
          "Tripura",
          "Tripura",
          "Tripura",
          "Tripura",
          "Tripura",
          "Tripura",
          "Tripura",
          "Tripura",
          "Tripura",
          "Tripura",
          "Tripura",
          "Tripura",
          "Tripura",
          "Tripura",
          "Tripura",
          "Tripura",
          "Tripura",
          "Tripura"
         ],
         "x0": " ",
         "xaxis": "x",
         "y": {
          "bdata": "AAAAAABAPUCkcD0K16M6QLgehetReDZAPQrXo3B9OUB7FK5H4To+QArXo3A9ijtAAAAAAABAOUBI4XoUroc6QClcj8L16D9AuB6F61E4OkBcj8L1KJw/QFK4HoXr0UVA7FG4HoVrLUDXo3A9CtcyQLgehetRWEFA16NwPQqXOUCPwvUoXM85QJqZmZmZuUBAKVyPwvXIQEDsUbgehas6QGZmZmZmJjtAPQrXo3C9QECPwvUoXC9BQHE9Ctej8EBAcT0K16OwOUBxPQrXo3BBQEjhehSuxzBAuB6F61F4O0A=",
          "dtype": "f8"
         },
         "y0": " ",
         "yaxis": "y"
        },
        {
         "alignmentgroup": "True",
         "hovertemplate": "State=%{x}<br>Estimated Unemployement rate=%{y}<extra></extra>",
         "legendgroup": "Uttar Pradesh",
         "marker": {
          "color": "#FFA15A"
         },
         "name": "Uttar Pradesh",
         "notched": false,
         "offsetgroup": "Uttar Pradesh",
         "orientation": "v",
         "showlegend": true,
         "type": "box",
         "x": [
          "Uttar Pradesh",
          "Uttar Pradesh",
          "Uttar Pradesh",
          "Uttar Pradesh",
          "Uttar Pradesh",
          "Uttar Pradesh",
          "Uttar Pradesh",
          "Uttar Pradesh",
          "Uttar Pradesh",
          "Uttar Pradesh",
          "Uttar Pradesh",
          "Uttar Pradesh",
          "Uttar Pradesh",
          "Uttar Pradesh",
          "Uttar Pradesh",
          "Uttar Pradesh",
          "Uttar Pradesh",
          "Uttar Pradesh",
          "Uttar Pradesh",
          "Uttar Pradesh",
          "Uttar Pradesh",
          "Uttar Pradesh",
          "Uttar Pradesh",
          "Uttar Pradesh",
          "Uttar Pradesh",
          "Uttar Pradesh",
          "Uttar Pradesh",
          "Uttar Pradesh"
         ],
         "x0": " ",
         "xaxis": "x",
         "y": {
          "bdata": "hetRuB6FJEDD9Shcj0ImQOF6FK5HYSJAcT0K16PwJkDNzMzMzMwZQFyPwvUoXCRAw/UoXI/CG0Bcj8L1KNwgQD0K16NwPRhAPQrXo3A9IEA9CtejcL0iQOxRuB6F6zNApHA9CtfjMECF61G4HgUhQM3MzMzMzCxAPQrXo3A9J0CamZmZmZknQPYoXI/CdS1AKVyPwvUoK0AzMzMzM7MkQB+F61G4niZAPQrXo3C9KECuR+F6FK4oQM3MzMzMTCdApHA9CtejKEBxPQrXo/A6QEjhehSuB0BAmpmZmZkZKkA=",
          "dtype": "f8"
         },
         "y0": " ",
         "yaxis": "y"
        },
        {
         "alignmentgroup": "True",
         "hovertemplate": "State=%{x}<br>Estimated Unemployement rate=%{y}<extra></extra>",
         "legendgroup": "Uttarakhand",
         "marker": {
          "color": "#19d3f3"
         },
         "name": "Uttarakhand",
         "notched": false,
         "offsetgroup": "Uttarakhand",
         "orientation": "v",
         "showlegend": true,
         "type": "box",
         "x": [
          "Uttarakhand",
          "Uttarakhand",
          "Uttarakhand",
          "Uttarakhand",
          "Uttarakhand",
          "Uttarakhand",
          "Uttarakhand",
          "Uttarakhand",
          "Uttarakhand",
          "Uttarakhand",
          "Uttarakhand",
          "Uttarakhand",
          "Uttarakhand",
          "Uttarakhand",
          "Uttarakhand",
          "Uttarakhand",
          "Uttarakhand",
          "Uttarakhand",
          "Uttarakhand",
          "Uttarakhand",
          "Uttarakhand",
          "Uttarakhand",
          "Uttarakhand",
          "Uttarakhand",
          "Uttarakhand",
          "Uttarakhand",
          "Uttarakhand"
         ],
         "x0": " ",
         "xaxis": "x",
         "y": {
          "bdata": "FK5H4XoU+j+amZmZmZkSQPYoXI/C9RZAcT0K16NwGEDD9Shcj8ILQFK4HoXrURNAPQrXo3A9FkAUrkfhehQSQK5H4XoUrhBAZmZmZmZmE0BI4XoUrkcNQI/C9ShcjwxA7FG4HoVrJUDXo3A9ClciQMP1KFyPwhJAw/UoXI/CG0C4HoXrUbgdQD0K16NwPSNA4XoUrkfhEkBcj8L1KFwZQI/C9Shcjx1A16NwPQrXIUAfhetRuB4VQM3MzMzMTCBAXI/C9ShcKkBcj8L1KFwxQFK4HoXrURRA",
          "dtype": "f8"
         },
         "y0": " ",
         "yaxis": "y"
        },
        {
         "alignmentgroup": "True",
         "hovertemplate": "State=%{x}<br>Estimated Unemployement rate=%{y}<extra></extra>",
         "legendgroup": "West Bengal",
         "marker": {
          "color": "#FF6692"
         },
         "name": "West Bengal",
         "notched": false,
         "offsetgroup": "West Bengal",
         "orientation": "v",
         "showlegend": true,
         "type": "box",
         "x": [
          "West Bengal",
          "West Bengal",
          "West Bengal",
          "West Bengal",
          "West Bengal",
          "West Bengal",
          "West Bengal",
          "West Bengal",
          "West Bengal",
          "West Bengal",
          "West Bengal",
          "West Bengal",
          "West Bengal",
          "West Bengal",
          "West Bengal",
          "West Bengal",
          "West Bengal",
          "West Bengal",
          "West Bengal",
          "West Bengal",
          "West Bengal",
          "West Bengal",
          "West Bengal",
          "West Bengal",
          "West Bengal",
          "West Bengal",
          "West Bengal",
          "West Bengal"
         ],
         "x0": " ",
         "xaxis": "x",
         "y": {
          "bdata": "FK5H4XoUGEBmZmZmZmYXQHsUrkfhehZAUrgehetRFkAK16NwPQoVQB+F61G4HhtAUrgehetRF0ApXI/C9SgXQClcj8L1KBtAPQrXo3A9DkAUrkfhehQcQFK4HoXrUTJArkfhehRuMkDD9Shcj8ITQAAAAAAAAB1AhetRuB6FHUCkcD0K16MfQBSuR+F6FB1AKVyPwvUoH0BSuB6F61EfQHE9CtejcBpA9ihcj8L1HEAUrkfhehQdQDMzMzMzMx5ArkfhehSuGkDD9Shcj0IvQHE9CtejcC5AuB6F61G4I0A=",
          "dtype": "f8"
         },
         "y0": " ",
         "yaxis": "y"
        },
        {
         "alignmentgroup": "True",
         "hovertemplate": "State=%{x}<br>Estimated Unemployement rate=%{y}<extra></extra>",
         "legendgroup": "Chandigarh",
         "marker": {
          "color": "#FF97FF"
         },
         "name": "Chandigarh",
         "notched": false,
         "offsetgroup": "Chandigarh",
         "orientation": "v",
         "showlegend": true,
         "type": "box",
         "x": [
          "Chandigarh",
          "Chandigarh",
          "Chandigarh",
          "Chandigarh",
          "Chandigarh",
          "Chandigarh",
          "Chandigarh",
          "Chandigarh",
          "Chandigarh",
          "Chandigarh",
          "Chandigarh",
          "Chandigarh"
         ],
         "x0": " ",
         "xaxis": "x",
         "y": {
          "bdata": "mpmZmZlZMkDNzMzMzMwoQM3MzMzMzDVACtejcD0KI0CkcD0K1yM0QHsUrkfh+itAzczMzMwMNkApXI/C9aggQAAAAAAAADRA7FG4HoWrMECuR+F6FG41QOF6FK5H4RxA",
          "dtype": "f8"
         },
         "y0": " ",
         "yaxis": "y"
        }
       ],
       "layout": {
        "boxmode": "overlay",
        "legend": {
         "title": {
          "text": "State"
         },
         "tracegroupgap": 0
        },
        "template": {
         "data": {
          "bar": [
           {
            "error_x": {
             "color": "#2a3f5f"
            },
            "error_y": {
             "color": "#2a3f5f"
            },
            "marker": {
             "line": {
              "color": "#E5ECF6",
              "width": 0.5
             },
             "pattern": {
              "fillmode": "overlay",
              "size": 10,
              "solidity": 0.2
             }
            },
            "type": "bar"
           }
          ],
          "barpolar": [
           {
            "marker": {
             "line": {
              "color": "#E5ECF6",
              "width": 0.5
             },
             "pattern": {
              "fillmode": "overlay",
              "size": 10,
              "solidity": 0.2
             }
            },
            "type": "barpolar"
           }
          ],
          "carpet": [
           {
            "aaxis": {
             "endlinecolor": "#2a3f5f",
             "gridcolor": "white",
             "linecolor": "white",
             "minorgridcolor": "white",
             "startlinecolor": "#2a3f5f"
            },
            "baxis": {
             "endlinecolor": "#2a3f5f",
             "gridcolor": "white",
             "linecolor": "white",
             "minorgridcolor": "white",
             "startlinecolor": "#2a3f5f"
            },
            "type": "carpet"
           }
          ],
          "choropleth": [
           {
            "colorbar": {
             "outlinewidth": 0,
             "ticks": ""
            },
            "type": "choropleth"
           }
          ],
          "contour": [
           {
            "colorbar": {
             "outlinewidth": 0,
             "ticks": ""
            },
            "colorscale": [
             [
              0,
              "#0d0887"
             ],
             [
              0.1111111111111111,
              "#46039f"
             ],
             [
              0.2222222222222222,
              "#7201a8"
             ],
             [
              0.3333333333333333,
              "#9c179e"
             ],
             [
              0.4444444444444444,
              "#bd3786"
             ],
             [
              0.5555555555555556,
              "#d8576b"
             ],
             [
              0.6666666666666666,
              "#ed7953"
             ],
             [
              0.7777777777777778,
              "#fb9f3a"
             ],
             [
              0.8888888888888888,
              "#fdca26"
             ],
             [
              1,
              "#f0f921"
             ]
            ],
            "type": "contour"
           }
          ],
          "contourcarpet": [
           {
            "colorbar": {
             "outlinewidth": 0,
             "ticks": ""
            },
            "type": "contourcarpet"
           }
          ],
          "heatmap": [
           {
            "colorbar": {
             "outlinewidth": 0,
             "ticks": ""
            },
            "colorscale": [
             [
              0,
              "#0d0887"
             ],
             [
              0.1111111111111111,
              "#46039f"
             ],
             [
              0.2222222222222222,
              "#7201a8"
             ],
             [
              0.3333333333333333,
              "#9c179e"
             ],
             [
              0.4444444444444444,
              "#bd3786"
             ],
             [
              0.5555555555555556,
              "#d8576b"
             ],
             [
              0.6666666666666666,
              "#ed7953"
             ],
             [
              0.7777777777777778,
              "#fb9f3a"
             ],
             [
              0.8888888888888888,
              "#fdca26"
             ],
             [
              1,
              "#f0f921"
             ]
            ],
            "type": "heatmap"
           }
          ],
          "histogram": [
           {
            "marker": {
             "pattern": {
              "fillmode": "overlay",
              "size": 10,
              "solidity": 0.2
             }
            },
            "type": "histogram"
           }
          ],
          "histogram2d": [
           {
            "colorbar": {
             "outlinewidth": 0,
             "ticks": ""
            },
            "colorscale": [
             [
              0,
              "#0d0887"
             ],
             [
              0.1111111111111111,
              "#46039f"
             ],
             [
              0.2222222222222222,
              "#7201a8"
             ],
             [
              0.3333333333333333,
              "#9c179e"
             ],
             [
              0.4444444444444444,
              "#bd3786"
             ],
             [
              0.5555555555555556,
              "#d8576b"
             ],
             [
              0.6666666666666666,
              "#ed7953"
             ],
             [
              0.7777777777777778,
              "#fb9f3a"
             ],
             [
              0.8888888888888888,
              "#fdca26"
             ],
             [
              1,
              "#f0f921"
             ]
            ],
            "type": "histogram2d"
           }
          ],
          "histogram2dcontour": [
           {
            "colorbar": {
             "outlinewidth": 0,
             "ticks": ""
            },
            "colorscale": [
             [
              0,
              "#0d0887"
             ],
             [
              0.1111111111111111,
              "#46039f"
             ],
             [
              0.2222222222222222,
              "#7201a8"
             ],
             [
              0.3333333333333333,
              "#9c179e"
             ],
             [
              0.4444444444444444,
              "#bd3786"
             ],
             [
              0.5555555555555556,
              "#d8576b"
             ],
             [
              0.6666666666666666,
              "#ed7953"
             ],
             [
              0.7777777777777778,
              "#fb9f3a"
             ],
             [
              0.8888888888888888,
              "#fdca26"
             ],
             [
              1,
              "#f0f921"
             ]
            ],
            "type": "histogram2dcontour"
           }
          ],
          "mesh3d": [
           {
            "colorbar": {
             "outlinewidth": 0,
             "ticks": ""
            },
            "type": "mesh3d"
           }
          ],
          "parcoords": [
           {
            "line": {
             "colorbar": {
              "outlinewidth": 0,
              "ticks": ""
             }
            },
            "type": "parcoords"
           }
          ],
          "pie": [
           {
            "automargin": true,
            "type": "pie"
           }
          ],
          "scatter": [
           {
            "fillpattern": {
             "fillmode": "overlay",
             "size": 10,
             "solidity": 0.2
            },
            "type": "scatter"
           }
          ],
          "scatter3d": [
           {
            "line": {
             "colorbar": {
              "outlinewidth": 0,
              "ticks": ""
             }
            },
            "marker": {
             "colorbar": {
              "outlinewidth": 0,
              "ticks": ""
             }
            },
            "type": "scatter3d"
           }
          ],
          "scattercarpet": [
           {
            "marker": {
             "colorbar": {
              "outlinewidth": 0,
              "ticks": ""
             }
            },
            "type": "scattercarpet"
           }
          ],
          "scattergeo": [
           {
            "marker": {
             "colorbar": {
              "outlinewidth": 0,
              "ticks": ""
             }
            },
            "type": "scattergeo"
           }
          ],
          "scattergl": [
           {
            "marker": {
             "colorbar": {
              "outlinewidth": 0,
              "ticks": ""
             }
            },
            "type": "scattergl"
           }
          ],
          "scattermap": [
           {
            "marker": {
             "colorbar": {
              "outlinewidth": 0,
              "ticks": ""
             }
            },
            "type": "scattermap"
           }
          ],
          "scattermapbox": [
           {
            "marker": {
             "colorbar": {
              "outlinewidth": 0,
              "ticks": ""
             }
            },
            "type": "scattermapbox"
           }
          ],
          "scatterpolar": [
           {
            "marker": {
             "colorbar": {
              "outlinewidth": 0,
              "ticks": ""
             }
            },
            "type": "scatterpolar"
           }
          ],
          "scatterpolargl": [
           {
            "marker": {
             "colorbar": {
              "outlinewidth": 0,
              "ticks": ""
             }
            },
            "type": "scatterpolargl"
           }
          ],
          "scatterternary": [
           {
            "marker": {
             "colorbar": {
              "outlinewidth": 0,
              "ticks": ""
             }
            },
            "type": "scatterternary"
           }
          ],
          "surface": [
           {
            "colorbar": {
             "outlinewidth": 0,
             "ticks": ""
            },
            "colorscale": [
             [
              0,
              "#0d0887"
             ],
             [
              0.1111111111111111,
              "#46039f"
             ],
             [
              0.2222222222222222,
              "#7201a8"
             ],
             [
              0.3333333333333333,
              "#9c179e"
             ],
             [
              0.4444444444444444,
              "#bd3786"
             ],
             [
              0.5555555555555556,
              "#d8576b"
             ],
             [
              0.6666666666666666,
              "#ed7953"
             ],
             [
              0.7777777777777778,
              "#fb9f3a"
             ],
             [
              0.8888888888888888,
              "#fdca26"
             ],
             [
              1,
              "#f0f921"
             ]
            ],
            "type": "surface"
           }
          ],
          "table": [
           {
            "cells": {
             "fill": {
              "color": "#EBF0F8"
             },
             "line": {
              "color": "white"
             }
            },
            "header": {
             "fill": {
              "color": "#C8D4E3"
             },
             "line": {
              "color": "white"
             }
            },
            "type": "table"
           }
          ]
         },
         "layout": {
          "annotationdefaults": {
           "arrowcolor": "#2a3f5f",
           "arrowhead": 0,
           "arrowwidth": 1
          },
          "autotypenumbers": "strict",
          "coloraxis": {
           "colorbar": {
            "outlinewidth": 0,
            "ticks": ""
           }
          },
          "colorscale": {
           "diverging": [
            [
             0,
             "#8e0152"
            ],
            [
             0.1,
             "#c51b7d"
            ],
            [
             0.2,
             "#de77ae"
            ],
            [
             0.3,
             "#f1b6da"
            ],
            [
             0.4,
             "#fde0ef"
            ],
            [
             0.5,
             "#f7f7f7"
            ],
            [
             0.6,
             "#e6f5d0"
            ],
            [
             0.7,
             "#b8e186"
            ],
            [
             0.8,
             "#7fbc41"
            ],
            [
             0.9,
             "#4d9221"
            ],
            [
             1,
             "#276419"
            ]
           ],
           "sequential": [
            [
             0,
             "#0d0887"
            ],
            [
             0.1111111111111111,
             "#46039f"
            ],
            [
             0.2222222222222222,
             "#7201a8"
            ],
            [
             0.3333333333333333,
             "#9c179e"
            ],
            [
             0.4444444444444444,
             "#bd3786"
            ],
            [
             0.5555555555555556,
             "#d8576b"
            ],
            [
             0.6666666666666666,
             "#ed7953"
            ],
            [
             0.7777777777777778,
             "#fb9f3a"
            ],
            [
             0.8888888888888888,
             "#fdca26"
            ],
            [
             1,
             "#f0f921"
            ]
           ],
           "sequentialminus": [
            [
             0,
             "#0d0887"
            ],
            [
             0.1111111111111111,
             "#46039f"
            ],
            [
             0.2222222222222222,
             "#7201a8"
            ],
            [
             0.3333333333333333,
             "#9c179e"
            ],
            [
             0.4444444444444444,
             "#bd3786"
            ],
            [
             0.5555555555555556,
             "#d8576b"
            ],
            [
             0.6666666666666666,
             "#ed7953"
            ],
            [
             0.7777777777777778,
             "#fb9f3a"
            ],
            [
             0.8888888888888888,
             "#fdca26"
            ],
            [
             1,
             "#f0f921"
            ]
           ]
          },
          "colorway": [
           "#636efa",
           "#EF553B",
           "#00cc96",
           "#ab63fa",
           "#FFA15A",
           "#19d3f3",
           "#FF6692",
           "#B6E880",
           "#FF97FF",
           "#FECB52"
          ],
          "font": {
           "color": "#2a3f5f"
          },
          "geo": {
           "bgcolor": "white",
           "lakecolor": "white",
           "landcolor": "#E5ECF6",
           "showlakes": true,
           "showland": true,
           "subunitcolor": "white"
          },
          "hoverlabel": {
           "align": "left"
          },
          "hovermode": "closest",
          "mapbox": {
           "style": "light"
          },
          "paper_bgcolor": "white",
          "plot_bgcolor": "#E5ECF6",
          "polar": {
           "angularaxis": {
            "gridcolor": "white",
            "linecolor": "white",
            "ticks": ""
           },
           "bgcolor": "#E5ECF6",
           "radialaxis": {
            "gridcolor": "white",
            "linecolor": "white",
            "ticks": ""
           }
          },
          "scene": {
           "xaxis": {
            "backgroundcolor": "#E5ECF6",
            "gridcolor": "white",
            "gridwidth": 2,
            "linecolor": "white",
            "showbackground": true,
            "ticks": "",
            "zerolinecolor": "white"
           },
           "yaxis": {
            "backgroundcolor": "#E5ECF6",
            "gridcolor": "white",
            "gridwidth": 2,
            "linecolor": "white",
            "showbackground": true,
            "ticks": "",
            "zerolinecolor": "white"
           },
           "zaxis": {
            "backgroundcolor": "#E5ECF6",
            "gridcolor": "white",
            "gridwidth": 2,
            "linecolor": "white",
            "showbackground": true,
            "ticks": "",
            "zerolinecolor": "white"
           }
          },
          "shapedefaults": {
           "line": {
            "color": "#2a3f5f"
           }
          },
          "ternary": {
           "aaxis": {
            "gridcolor": "white",
            "linecolor": "white",
            "ticks": ""
           },
           "baxis": {
            "gridcolor": "white",
            "linecolor": "white",
            "ticks": ""
           },
           "bgcolor": "#E5ECF6",
           "caxis": {
            "gridcolor": "white",
            "linecolor": "white",
            "ticks": ""
           }
          },
          "title": {
           "x": 0.05
          },
          "xaxis": {
           "automargin": true,
           "gridcolor": "white",
           "linecolor": "white",
           "ticks": "",
           "title": {
            "standoff": 15
           },
           "zerolinecolor": "white",
           "zerolinewidth": 2
          },
          "yaxis": {
           "automargin": true,
           "gridcolor": "white",
           "linecolor": "white",
           "ticks": "",
           "title": {
            "standoff": 15
           },
           "zerolinecolor": "white",
           "zerolinewidth": 2
          }
         }
        },
        "title": {
         "text": "Unemployement rate"
        },
        "xaxis": {
         "anchor": "y",
         "categoryarray": [
          "Andhra Pradesh",
          "Assam",
          "Bihar",
          "Chhattisgarh",
          "Delhi",
          "Goa",
          "Gujarat",
          "Haryana",
          "Himachal Pradesh",
          "Jammu & Kashmir",
          "Jharkhand",
          "Karnataka",
          "Kerala",
          "Madhya Pradesh",
          "Maharashtra",
          "Meghalaya",
          "Odisha",
          "Puducherry",
          "Punjab",
          "Rajasthan",
          "Sikkim",
          "Tamil Nadu",
          "Telangana",
          "Tripura",
          "Uttar Pradesh",
          "Uttarakhand",
          "West Bengal",
          null,
          "Chandigarh"
         ],
         "categoryorder": "array",
         "domain": [
          0,
          1
         ],
         "title": {
          "text": "State"
         }
        },
        "yaxis": {
         "anchor": "x",
         "domain": [
          0,
          1
         ],
         "title": {
          "text": "Estimated Unemployement rate"
         }
        }
       }
      },
      "image/png": "[encoded data removed]"
     },
     "metadata": {},
     "output_type": "display_data"
    }
   ],
   "source": [
    "fig=px.box(data,x='State',y='Estimated Unemployement rate',color='State',title='Unemployement rate')\n",
    "fig.show()"
   ]
  },
  {
   "cell_type": "code",
   "execution_count": 126,
   "id": "de2b50b0-6c27-4728-a481-aa4ae337974c",
   "metadata": {},
   "outputs": [
    {
     "data": {
      "application/vnd.plotly.v1+json": {
       "config": {
        "plotlyServerURL": "https://plot.ly"
       },
       "data": [
        {
         "hovertemplate": "State=%{x}<br>Estimated Unemployement rate=%{y}<extra></extra>",
         "legendgroup": "Andhra Pradesh",
         "marker": {
          "color": "#636efa",
          "pattern": {
           "shape": ""
          }
         },
         "name": "Andhra Pradesh",
         "orientation": "v",
         "showlegend": true,
         "textposition": "auto",
         "type": "bar",
         "x": [
          "Andhra Pradesh"
         ],
         "xaxis": "x",
         "y": {
          "bdata": "VssbI5joHUA=",
          "dtype": "f8"
         },
         "yaxis": "y"
        },
        {
         "hovertemplate": "State=%{x}<br>Estimated Unemployement rate=%{y}<extra></extra>",
         "legendgroup": "Assam",
         "marker": {
          "color": "#EF553B",
          "pattern": {
           "shape": ""
          }
         },
         "name": "Assam",
         "orientation": "v",
         "showlegend": true,
         "textposition": "auto",
         "type": "bar",
         "x": [
          "Assam"
         ],
         "xaxis": "x",
         "y": {
          "bdata": "mSYDzFm2GUA=",
          "dtype": "f8"
         },
         "yaxis": "y"
        },
        {
         "hovertemplate": "State=%{x}<br>Estimated Unemployement rate=%{y}<extra></extra>",
         "legendgroup": "Bihar",
         "marker": {
          "color": "#00cc96",
          "pattern": {
           "shape": ""
          }
         },
         "name": "Bihar",
         "orientation": "v",
         "showlegend": true,
         "textposition": "auto",
         "type": "bar",
         "x": [
          "Bihar"
         ],
         "xaxis": "x",
         "y": {
          "bdata": "5dxnFxDrMkA=",
          "dtype": "f8"
         },
         "yaxis": "y"
        },
        {
         "hovertemplate": "State=%{x}<br>Estimated Unemployement rate=%{y}<extra></extra>",
         "legendgroup": "Chandigarh",
         "marker": {
          "color": "#ab63fa",
          "pattern": {
           "shape": ""
          }
         },
         "name": "Chandigarh",
         "orientation": "v",
         "showlegend": true,
         "textposition": "auto",
         "type": "bar",
         "x": [
          "Chandigarh"
         ],
         "xaxis": "x",
         "y": {
          "bdata": "vLu7u7v7L0A=",
          "dtype": "f8"
         },
         "yaxis": "y"
        },
        {
         "hovertemplate": "State=%{x}<br>Estimated Unemployement rate=%{y}<extra></extra>",
         "legendgroup": "Chhattisgarh",
         "marker": {
          "color": "#FFA15A",
          "pattern": {
           "shape": ""
          }
         },
         "name": "Chhattisgarh",
         "orientation": "v",
         "showlegend": true,
         "textposition": "auto",
         "type": "bar",
         "x": [
          "Chhattisgarh"
         ],
         "xaxis": "x",
         "y": {
          "bdata": "5dxnFxB7IkA=",
          "dtype": "f8"
         },
         "yaxis": "y"
        },
        {
         "hovertemplate": "State=%{x}<br>Estimated Unemployement rate=%{y}<extra></extra>",
         "legendgroup": "Delhi",
         "marker": {
          "color": "#19d3f3",
          "pattern": {
           "shape": ""
          }
         },
         "name": "Delhi",
         "orientation": "v",
         "showlegend": true,
         "textposition": "auto",
         "type": "bar",
         "x": [
          "Delhi"
         ],
         "xaxis": "x",
         "y": {
          "bdata": "U2nIuc9+MEA=",
          "dtype": "f8"
         },
         "yaxis": "y"
        },
        {
         "hovertemplate": "State=%{x}<br>Estimated Unemployement rate=%{y}<extra></extra>",
         "legendgroup": "Goa",
         "marker": {
          "color": "#FF6692",
          "pattern": {
           "shape": ""
          }
         },
         "name": "Goa",
         "orientation": "v",
         "showlegend": true,
         "textposition": "auto",
         "type": "bar",
         "x": [
          "Goa"
         ],
         "xaxis": "x",
         "y": {
          "bdata": "LPnFkl+MIkA=",
          "dtype": "f8"
         },
         "yaxis": "y"
        },
        {
         "hovertemplate": "State=%{x}<br>Estimated Unemployement rate=%{y}<extra></extra>",
         "legendgroup": "Gujarat",
         "marker": {
          "color": "#B6E880",
          "pattern": {
           "shape": ""
          }
         },
         "name": "Gujarat",
         "orientation": "v",
         "showlegend": true,
         "textposition": "auto",
         "type": "bar",
         "x": [
          "Gujarat"
         ],
         "xaxis": "x",
         "y": {
          "bdata": "sak05NynGkA=",
          "dtype": "f8"
         },
         "yaxis": "y"
        },
        {
         "hovertemplate": "State=%{x}<br>Estimated Unemployement rate=%{y}<extra></extra>",
         "legendgroup": "Haryana",
         "marker": {
          "color": "#FF97FF",
          "pattern": {
           "shape": ""
          }
         },
         "name": "Haryana",
         "orientation": "v",
         "showlegend": true,
         "textposition": "auto",
         "type": "bar",
         "x": [
          "Haryana"
         ],
         "xaxis": "x",
         "y": {
          "bdata": "Iec+u4BIOkA=",
          "dtype": "f8"
         },
         "yaxis": "y"
        },
        {
         "hovertemplate": "State=%{x}<br>Estimated Unemployement rate=%{y}<extra></extra>",
         "legendgroup": "Himachal Pradesh",
         "marker": {
          "color": "#FECB52",
          "pattern": {
           "shape": ""
          }
         },
         "name": "Himachal Pradesh",
         "orientation": "v",
         "showlegend": true,
         "textposition": "auto",
         "type": "bar",
         "x": [
          "Himachal Pradesh"
         ],
         "xaxis": "x",
         "y": {
          "bdata": "P7uA2FSKMkA=",
          "dtype": "f8"
         },
         "yaxis": "y"
        },
        {
         "hovertemplate": "State=%{x}<br>Estimated Unemployement rate=%{y}<extra></extra>",
         "legendgroup": "Jammu & Kashmir",
         "marker": {
          "color": "#636efa",
          "pattern": {
           "shape": ""
          }
         },
         "name": "Jammu & Kashmir",
         "orientation": "v",
         "showlegend": true,
         "textposition": "auto",
         "type": "bar",
         "x": [
          "Jammu & Kashmir"
         ],
         "xaxis": "x",
         "y": {
          "bdata": "nqyWN0YwMEA=",
          "dtype": "f8"
         },
         "yaxis": "y"
        },
        {
         "hovertemplate": "State=%{x}<br>Estimated Unemployement rate=%{y}<extra></extra>",
         "legendgroup": "Jharkhand",
         "marker": {
          "color": "#EF553B",
          "pattern": {
           "shape": ""
          }
         },
         "name": "Jharkhand",
         "orientation": "v",
         "showlegend": true,
         "textposition": "auto",
         "type": "bar",
         "x": [
          "Jharkhand"
         ],
         "xaxis": "x",
         "y": {
          "bdata": "9ihcj8KVNEA=",
          "dtype": "f8"
         },
         "yaxis": "y"
        },
        {
         "hovertemplate": "State=%{x}<br>Estimated Unemployement rate=%{y}<extra></extra>",
         "legendgroup": "Karnataka",
         "marker": {
          "color": "#00cc96",
          "pattern": {
           "shape": ""
          }
         },
         "name": "Karnataka",
         "orientation": "v",
         "showlegend": true,
         "textposition": "auto",
         "type": "bar",
         "x": [
          "Karnataka"
         ],
         "xaxis": "x",
         "y": {
          "bdata": "q+WNEUy0GkA=",
          "dtype": "f8"
         },
         "yaxis": "y"
        },
        {
         "hovertemplate": "State=%{x}<br>Estimated Unemployement rate=%{y}<extra></extra>",
         "legendgroup": "Kerala",
         "marker": {
          "color": "#ab63fa",
          "pattern": {
           "shape": ""
          }
         },
         "name": "Kerala",
         "orientation": "v",
         "showlegend": true,
         "textposition": "auto",
         "type": "bar",
         "x": [
          "Kerala"
         ],
         "xaxis": "x",
         "y": {
          "bdata": "w6bSkHM/JEA=",
          "dtype": "f8"
         },
         "yaxis": "y"
        },
        {
         "hovertemplate": "State=%{x}<br>Estimated Unemployement rate=%{y}<extra></extra>",
         "legendgroup": "Madhya Pradesh",
         "marker": {
          "color": "#FFA15A",
          "pattern": {
           "shape": ""
          }
         },
         "name": "Madhya Pradesh",
         "orientation": "v",
         "showlegend": true,
         "textposition": "auto",
         "type": "bar",
         "x": [
          "Madhya Pradesh"
         ],
         "xaxis": "x",
         "y": {
          "bdata": "aci5zy6gHUA=",
          "dtype": "f8"
         },
         "yaxis": "y"
        },
        {
         "hovertemplate": "State=%{x}<br>Estimated Unemployement rate=%{y}<extra></extra>",
         "legendgroup": "Maharashtra",
         "marker": {
          "color": "#19d3f3",
          "pattern": {
           "shape": ""
          }
         },
         "name": "Maharashtra",
         "orientation": "v",
         "showlegend": true,
         "textposition": "auto",
         "type": "bar",
         "x": [
          "Maharashtra"
         ],
         "xaxis": "x",
         "y": {
          "bdata": "exSuR+E6HkA=",
          "dtype": "f8"
         },
         "yaxis": "y"
        },
        {
         "hovertemplate": "State=%{x}<br>Estimated Unemployement rate=%{y}<extra></extra>",
         "legendgroup": "Meghalaya",
         "marker": {
          "color": "#FF6692",
          "pattern": {
           "shape": ""
          }
         },
         "name": "Meghalaya",
         "orientation": "v",
         "showlegend": true,
         "textposition": "auto",
         "type": "bar",
         "x": [
          "Meghalaya"
         ],
         "xaxis": "x",
         "y": {
          "bdata": "h6nL7Q8yE0A=",
          "dtype": "f8"
         },
         "yaxis": "y"
        },
        {
         "hovertemplate": "State=%{x}<br>Estimated Unemployement rate=%{y}<extra></extra>",
         "legendgroup": "Odisha",
         "marker": {
          "color": "#B6E880",
          "pattern": {
           "shape": ""
          }
         },
         "name": "Odisha",
         "orientation": "v",
         "showlegend": true,
         "textposition": "auto",
         "type": "bar",
         "x": [
          "Odisha"
         ],
         "xaxis": "x",
         "y": {
          "bdata": "swuITaWhFkA=",
          "dtype": "f8"
         },
         "yaxis": "y"
        },
        {
         "hovertemplate": "State=%{x}<br>Estimated Unemployement rate=%{y}<extra></extra>",
         "legendgroup": "Puducherry",
         "marker": {
          "color": "#FF97FF",
          "pattern": {
           "shape": ""
          }
         },
         "name": "Puducherry",
         "orientation": "v",
         "showlegend": true,
         "textposition": "auto",
         "type": "bar",
         "x": [
          "Puducherry"
         ],
         "xaxis": "x",
         "y": {
          "bdata": "r0fhehRuJEA=",
          "dtype": "f8"
         },
         "yaxis": "y"
        },
        {
         "hovertemplate": "State=%{x}<br>Estimated Unemployement rate=%{y}<extra></extra>",
         "legendgroup": "Punjab",
         "marker": {
          "color": "#FECB52",
          "pattern": {
           "shape": ""
          }
         },
         "name": "Punjab",
         "orientation": "v",
         "showlegend": true,
         "textposition": "auto",
         "type": "bar",
         "x": [
          "Punjab"
         ],
         "xaxis": "x",
         "y": {
          "bdata": "yxsjmOgPKEA=",
          "dtype": "f8"
         },
         "yaxis": "y"
        },
        {
         "hovertemplate": "State=%{x}<br>Estimated Unemployement rate=%{y}<extra></extra>",
         "legendgroup": "Rajasthan",
         "marker": {
          "color": "#636efa",
          "pattern": {
           "shape": ""
          }
         },
         "name": "Rajasthan",
         "orientation": "v",
         "showlegend": true,
         "textposition": "auto",
         "type": "bar",
         "x": [
          "Rajasthan"
         ],
         "xaxis": "x",
         "y": {
          "bdata": "EJtKQ84dLEA=",
          "dtype": "f8"
         },
         "yaxis": "y"
        },
        {
         "hovertemplate": "State=%{x}<br>Estimated Unemployement rate=%{y}<extra></extra>",
         "legendgroup": "Sikkim",
         "marker": {
          "color": "#EF553B",
          "pattern": {
           "shape": ""
          }
         },
         "name": "Sikkim",
         "orientation": "v",
         "showlegend": true,
         "textposition": "auto",
         "type": "bar",
         "x": [
          "Sikkim"
         ],
         "xaxis": "x",
         "y": {
          "bdata": "/5gyzGX/HEA=",
          "dtype": "f8"
         },
         "yaxis": "y"
        },
        {
         "hovertemplate": "State=%{x}<br>Estimated Unemployement rate=%{y}<extra></extra>",
         "legendgroup": "Tamil Nadu",
         "marker": {
          "color": "#00cc96",
          "pattern": {
           "shape": ""
          }
         },
         "name": "Tamil Nadu",
         "orientation": "v",
         "showlegend": true,
         "textposition": "auto",
         "type": "bar",
         "x": [
          "Tamil Nadu"
         ],
         "xaxis": "x",
         "y": {
          "bdata": "fyer5Y2RIkA=",
          "dtype": "f8"
         },
         "yaxis": "y"
        },
        {
         "hovertemplate": "State=%{x}<br>Estimated Unemployement rate=%{y}<extra></extra>",
         "legendgroup": "Telangana",
         "marker": {
          "color": "#ab63fa",
          "pattern": {
           "shape": ""
          }
         },
         "name": "Telangana",
         "orientation": "v",
         "showlegend": true,
         "textposition": "auto",
         "type": "bar",
         "x": [
          "Telangana"
         ],
         "xaxis": "x",
         "y": {
          "bdata": "BsSm0pDzHkA=",
          "dtype": "f8"
         },
         "yaxis": "y"
        },
        {
         "hovertemplate": "State=%{x}<br>Estimated Unemployement rate=%{y}<extra></extra>",
         "legendgroup": "Tripura",
         "marker": {
          "color": "#FFA15A",
          "pattern": {
           "shape": ""
          }
         },
         "name": "Tripura",
         "orientation": "v",
         "showlegend": true,
         "textposition": "auto",
         "type": "bar",
         "x": [
          "Tripura"
         ],
         "xaxis": "x",
         "y": {
          "bdata": "zn12AbFZPEA=",
          "dtype": "f8"
         },
         "yaxis": "y"
        },
        {
         "hovertemplate": "State=%{x}<br>Estimated Unemployement rate=%{y}<extra></extra>",
         "legendgroup": "Uttar Pradesh",
         "marker": {
          "color": "#19d3f3",
          "pattern": {
           "shape": ""
          }
         },
         "name": "Uttar Pradesh",
         "orientation": "v",
         "showlegend": true,
         "textposition": "auto",
         "type": "bar",
         "x": [
          "Uttar Pradesh"
         ],
         "xaxis": "x",
         "y": {
          "bdata": "P7uA2FQaKUA=",
          "dtype": "f8"
         },
         "yaxis": "y"
        },
        {
         "hovertemplate": "State=%{x}<br>Estimated Unemployement rate=%{y}<extra></extra>",
         "legendgroup": "Uttarakhand",
         "marker": {
          "color": "#FF6692",
          "pattern": {
           "shape": ""
          }
         },
         "name": "Uttarakhand",
         "orientation": "v",
         "showlegend": true,
         "textposition": "auto",
         "type": "bar",
         "x": [
          "Uttarakhand"
         ],
         "xaxis": "x",
         "y": {
          "bdata": "HNIyPvRUGkA=",
          "dtype": "f8"
         },
         "yaxis": "y"
        },
        {
         "hovertemplate": "State=%{x}<br>Estimated Unemployement rate=%{y}<extra></extra>",
         "legendgroup": "West Bengal",
         "marker": {
          "color": "#B6E880",
          "pattern": {
           "shape": ""
          }
         },
         "name": "West Bengal",
         "orientation": "v",
         "showlegend": true,
         "textposition": "auto",
         "type": "bar",
         "x": [
          "West Bengal"
         ],
         "xaxis": "x",
         "y": {
          "bdata": "lzdGMNE/IEA=",
          "dtype": "f8"
         },
         "yaxis": "y"
        }
       ],
       "layout": {
        "barmode": "relative",
        "legend": {
         "title": {
          "text": "State"
         },
         "tracegroupgap": 0
        },
        "template": {
         "data": {
          "bar": [
           {
            "error_x": {
             "color": "#2a3f5f"
            },
            "error_y": {
             "color": "#2a3f5f"
            },
            "marker": {
             "line": {
              "color": "#E5ECF6",
              "width": 0.5
             },
             "pattern": {
              "fillmode": "overlay",
              "size": 10,
              "solidity": 0.2
             }
            },
            "type": "bar"
           }
          ],
          "barpolar": [
           {
            "marker": {
             "line": {
              "color": "#E5ECF6",
              "width": 0.5
             },
             "pattern": {
              "fillmode": "overlay",
              "size": 10,
              "solidity": 0.2
             }
            },
            "type": "barpolar"
           }
          ],
          "carpet": [
           {
            "aaxis": {
             "endlinecolor": "#2a3f5f",
             "gridcolor": "white",
             "linecolor": "white",
             "minorgridcolor": "white",
             "startlinecolor": "#2a3f5f"
            },
            "baxis": {
             "endlinecolor": "#2a3f5f",
             "gridcolor": "white",
             "linecolor": "white",
             "minorgridcolor": "white",
             "startlinecolor": "#2a3f5f"
            },
            "type": "carpet"
           }
          ],
          "choropleth": [
           {
            "colorbar": {
             "outlinewidth": 0,
             "ticks": ""
            },
            "type": "choropleth"
           }
          ],
          "contour": [
           {
            "colorbar": {
             "outlinewidth": 0,
             "ticks": ""
            },
            "colorscale": [
             [
              0,
              "#0d0887"
             ],
             [
              0.1111111111111111,
              "#46039f"
             ],
             [
              0.2222222222222222,
              "#7201a8"
             ],
             [
              0.3333333333333333,
              "#9c179e"
             ],
             [
              0.4444444444444444,
              "#bd3786"
             ],
             [
              0.5555555555555556,
              "#d8576b"
             ],
             [
              0.6666666666666666,
              "#ed7953"
             ],
             [
              0.7777777777777778,
              "#fb9f3a"
             ],
             [
              0.8888888888888888,
              "#fdca26"
             ],
             [
              1,
              "#f0f921"
             ]
            ],
            "type": "contour"
           }
          ],
          "contourcarpet": [
           {
            "colorbar": {
             "outlinewidth": 0,
             "ticks": ""
            },
            "type": "contourcarpet"
           }
          ],
          "heatmap": [
           {
            "colorbar": {
             "outlinewidth": 0,
             "ticks": ""
            },
            "colorscale": [
             [
              0,
              "#0d0887"
             ],
             [
              0.1111111111111111,
              "#46039f"
             ],
             [
              0.2222222222222222,
              "#7201a8"
             ],
             [
              0.3333333333333333,
              "#9c179e"
             ],
             [
              0.4444444444444444,
              "#bd3786"
             ],
             [
              0.5555555555555556,
              "#d8576b"
             ],
             [
              0.6666666666666666,
              "#ed7953"
             ],
             [
              0.7777777777777778,
              "#fb9f3a"
             ],
             [
              0.8888888888888888,
              "#fdca26"
             ],
             [
              1,
              "#f0f921"
             ]
            ],
            "type": "heatmap"
           }
          ],
          "histogram": [
           {
            "marker": {
             "pattern": {
              "fillmode": "overlay",
              "size": 10,
              "solidity": 0.2
             }
            },
            "type": "histogram"
           }
          ],
          "histogram2d": [
           {
            "colorbar": {
             "outlinewidth": 0,
             "ticks": ""
            },
            "colorscale": [
             [
              0,
              "#0d0887"
             ],
             [
              0.1111111111111111,
              "#46039f"
             ],
             [
              0.2222222222222222,
              "#7201a8"
             ],
             [
              0.3333333333333333,
              "#9c179e"
             ],
             [
              0.4444444444444444,
              "#bd3786"
             ],
             [
              0.5555555555555556,
              "#d8576b"
             ],
             [
              0.6666666666666666,
              "#ed7953"
             ],
             [
              0.7777777777777778,
              "#fb9f3a"
             ],
             [
              0.8888888888888888,
              "#fdca26"
             ],
             [
              1,
              "#f0f921"
             ]
            ],
            "type": "histogram2d"
           }
          ],
          "histogram2dcontour": [
           {
            "colorbar": {
             "outlinewidth": 0,
             "ticks": ""
            },
            "colorscale": [
             [
              0,
              "#0d0887"
             ],
             [
              0.1111111111111111,
              "#46039f"
             ],
             [
              0.2222222222222222,
              "#7201a8"
             ],
             [
              0.3333333333333333,
              "#9c179e"
             ],
             [
              0.4444444444444444,
              "#bd3786"
             ],
             [
              0.5555555555555556,
              "#d8576b"
             ],
             [
              0.6666666666666666,
              "#ed7953"
             ],
             [
              0.7777777777777778,
              "#fb9f3a"
             ],
             [
              0.8888888888888888,
              "#fdca26"
             ],
             [
              1,
              "#f0f921"
             ]
            ],
            "type": "histogram2dcontour"
           }
          ],
          "mesh3d": [
           {
            "colorbar": {
             "outlinewidth": 0,
             "ticks": ""
            },
            "type": "mesh3d"
           }
          ],
          "parcoords": [
           {
            "line": {
             "colorbar": {
              "outlinewidth": 0,
              "ticks": ""
             }
            },
            "type": "parcoords"
           }
          ],
          "pie": [
           {
            "automargin": true,
            "type": "pie"
           }
          ],
          "scatter": [
           {
            "fillpattern": {
             "fillmode": "overlay",
             "size": 10,
             "solidity": 0.2
            },
            "type": "scatter"
           }
          ],
          "scatter3d": [
           {
            "line": {
             "colorbar": {
              "outlinewidth": 0,
              "ticks": ""
             }
            },
            "marker": {
             "colorbar": {
              "outlinewidth": 0,
              "ticks": ""
             }
            },
            "type": "scatter3d"
           }
          ],
          "scattercarpet": [
           {
            "marker": {
             "colorbar": {
              "outlinewidth": 0,
              "ticks": ""
             }
            },
            "type": "scattercarpet"
           }
          ],
          "scattergeo": [
           {
            "marker": {
             "colorbar": {
              "outlinewidth": 0,
              "ticks": ""
             }
            },
            "type": "scattergeo"
           }
          ],
          "scattergl": [
           {
            "marker": {
             "colorbar": {
              "outlinewidth": 0,
              "ticks": ""
             }
            },
            "type": "scattergl"
           }
          ],
          "scattermap": [
           {
            "marker": {
             "colorbar": {
              "outlinewidth": 0,
              "ticks": ""
             }
            },
            "type": "scattermap"
           }
          ],
          "scattermapbox": [
           {
            "marker": {
             "colorbar": {
              "outlinewidth": 0,
              "ticks": ""
             }
            },
            "type": "scattermapbox"
           }
          ],
          "scatterpolar": [
           {
            "marker": {
             "colorbar": {
              "outlinewidth": 0,
              "ticks": ""
             }
            },
            "type": "scatterpolar"
           }
          ],
          "scatterpolargl": [
           {
            "marker": {
             "colorbar": {
              "outlinewidth": 0,
              "ticks": ""
             }
            },
            "type": "scatterpolargl"
           }
          ],
          "scatterternary": [
           {
            "marker": {
             "colorbar": {
              "outlinewidth": 0,
              "ticks": ""
             }
            },
            "type": "scatterternary"
           }
          ],
          "surface": [
           {
            "colorbar": {
             "outlinewidth": 0,
             "ticks": ""
            },
            "colorscale": [
             [
              0,
              "#0d0887"
             ],
             [
              0.1111111111111111,
              "#46039f"
             ],
             [
              0.2222222222222222,
              "#7201a8"
             ],
             [
              0.3333333333333333,
              "#9c179e"
             ],
             [
              0.4444444444444444,
              "#bd3786"
             ],
             [
              0.5555555555555556,
              "#d8576b"
             ],
             [
              0.6666666666666666,
              "#ed7953"
             ],
             [
              0.7777777777777778,
              "#fb9f3a"
             ],
             [
              0.8888888888888888,
              "#fdca26"
             ],
             [
              1,
              "#f0f921"
             ]
            ],
            "type": "surface"
           }
          ],
          "table": [
           {
            "cells": {
             "fill": {
              "color": "#EBF0F8"
             },
             "line": {
              "color": "white"
             }
            },
            "header": {
             "fill": {
              "color": "#C8D4E3"
             },
             "line": {
              "color": "white"
             }
            },
            "type": "table"
           }
          ]
         },
         "layout": {
          "annotationdefaults": {
           "arrowcolor": "#2a3f5f",
           "arrowhead": 0,
           "arrowwidth": 1
          },
          "autotypenumbers": "strict",
          "coloraxis": {
           "colorbar": {
            "outlinewidth": 0,
            "ticks": ""
           }
          },
          "colorscale": {
           "diverging": [
            [
             0,
             "#8e0152"
            ],
            [
             0.1,
             "#c51b7d"
            ],
            [
             0.2,
             "#de77ae"
            ],
            [
             0.3,
             "#f1b6da"
            ],
            [
             0.4,
             "#fde0ef"
            ],
            [
             0.5,
             "#f7f7f7"
            ],
            [
             0.6,
             "#e6f5d0"
            ],
            [
             0.7,
             "#b8e186"
            ],
            [
             0.8,
             "#7fbc41"
            ],
            [
             0.9,
             "#4d9221"
            ],
            [
             1,
             "#276419"
            ]
           ],
           "sequential": [
            [
             0,
             "#0d0887"
            ],
            [
             0.1111111111111111,
             "#46039f"
            ],
            [
             0.2222222222222222,
             "#7201a8"
            ],
            [
             0.3333333333333333,
             "#9c179e"
            ],
            [
             0.4444444444444444,
             "#bd3786"
            ],
            [
             0.5555555555555556,
             "#d8576b"
            ],
            [
             0.6666666666666666,
             "#ed7953"
            ],
            [
             0.7777777777777778,
             "#fb9f3a"
            ],
            [
             0.8888888888888888,
             "#fdca26"
            ],
            [
             1,
             "#f0f921"
            ]
           ],
           "sequentialminus": [
            [
             0,
             "#0d0887"
            ],
            [
             0.1111111111111111,
             "#46039f"
            ],
            [
             0.2222222222222222,
             "#7201a8"
            ],
            [
             0.3333333333333333,
             "#9c179e"
            ],
            [
             0.4444444444444444,
             "#bd3786"
            ],
            [
             0.5555555555555556,
             "#d8576b"
            ],
            [
             0.6666666666666666,
             "#ed7953"
            ],
            [
             0.7777777777777778,
             "#fb9f3a"
            ],
            [
             0.8888888888888888,
             "#fdca26"
            ],
            [
             1,
             "#f0f921"
            ]
           ]
          },
          "colorway": [
           "#636efa",
           "#EF553B",
           "#00cc96",
           "#ab63fa",
           "#FFA15A",
           "#19d3f3",
           "#FF6692",
           "#B6E880",
           "#FF97FF",
           "#FECB52"
          ],
          "font": {
           "color": "#2a3f5f"
          },
          "geo": {
           "bgcolor": "white",
           "lakecolor": "white",
           "landcolor": "#E5ECF6",
           "showlakes": true,
           "showland": true,
           "subunitcolor": "white"
          },
          "hoverlabel": {
           "align": "left"
          },
          "hovermode": "closest",
          "mapbox": {
           "style": "light"
          },
          "paper_bgcolor": "white",
          "plot_bgcolor": "#E5ECF6",
          "polar": {
           "angularaxis": {
            "gridcolor": "white",
            "linecolor": "white",
            "ticks": ""
           },
           "bgcolor": "#E5ECF6",
           "radialaxis": {
            "gridcolor": "white",
            "linecolor": "white",
            "ticks": ""
           }
          },
          "scene": {
           "xaxis": {
            "backgroundcolor": "#E5ECF6",
            "gridcolor": "white",
            "gridwidth": 2,
            "linecolor": "white",
            "showbackground": true,
            "ticks": "",
            "zerolinecolor": "white"
           },
           "yaxis": {
            "backgroundcolor": "#E5ECF6",
            "gridcolor": "white",
            "gridwidth": 2,
            "linecolor": "white",
            "showbackground": true,
            "ticks": "",
            "zerolinecolor": "white"
           },
           "zaxis": {
            "backgroundcolor": "#E5ECF6",
            "gridcolor": "white",
            "gridwidth": 2,
            "linecolor": "white",
            "showbackground": true,
            "ticks": "",
            "zerolinecolor": "white"
           }
          },
          "shapedefaults": {
           "line": {
            "color": "#2a3f5f"
           }
          },
          "ternary": {
           "aaxis": {
            "gridcolor": "white",
            "linecolor": "white",
            "ticks": ""
           },
           "baxis": {
            "gridcolor": "white",
            "linecolor": "white",
            "ticks": ""
           },
           "bgcolor": "#E5ECF6",
           "caxis": {
            "gridcolor": "white",
            "linecolor": "white",
            "ticks": ""
           }
          },
          "title": {
           "x": 0.05
          },
          "xaxis": {
           "automargin": true,
           "gridcolor": "white",
           "linecolor": "white",
           "ticks": "",
           "title": {
            "standoff": 15
           },
           "zerolinecolor": "white",
           "zerolinewidth": 2
          },
          "yaxis": {
           "automargin": true,
           "gridcolor": "white",
           "linecolor": "white",
           "ticks": "",
           "title": {
            "standoff": 15
           },
           "zerolinecolor": "white",
           "zerolinewidth": 2
          }
         }
        },
        "title": {
         "text": " Average Unemployement rate"
        },
        "xaxis": {
         "anchor": "y",
         "categoryarray": [
          "Andhra Pradesh",
          "Assam",
          "Bihar",
          "Chandigarh",
          "Chhattisgarh",
          "Delhi",
          "Goa",
          "Gujarat",
          "Haryana",
          "Himachal Pradesh",
          "Jammu & Kashmir",
          "Jharkhand",
          "Karnataka",
          "Kerala",
          "Madhya Pradesh",
          "Maharashtra",
          "Meghalaya",
          "Odisha",
          "Puducherry",
          "Punjab",
          "Rajasthan",
          "Sikkim",
          "Tamil Nadu",
          "Telangana",
          "Tripura",
          "Uttar Pradesh",
          "Uttarakhand",
          "West Bengal"
         ],
         "categoryorder": "array",
         "domain": [
          0,
          1
         ],
         "title": {
          "text": "State"
         }
        },
        "yaxis": {
         "anchor": "x",
         "domain": [
          0,
          1
         ],
         "title": {
          "text": "Estimated Unemployement rate"
         }
        }
       }
      },
      "image/png": "[encoded data removed]"
     },
     "metadata": {},
     "output_type": "display_data"
    }
   ],
   "source": [
    "fig=px.bar(State,x='State',y='Estimated Unemployement rate',color=\"State\",title=' Average Unemployement rate')\n",
    "fig.show()"
   ]
  },
  {
   "cell_type": "raw",
   "id": "ad17f5ec-28b3-4683-92b5-aebf402ee91b",
   "metadata": {},
   "source": [
    "Regional Anlysis"
   ]
  },
  {
   "cell_type": "code",
   "execution_count": 19,
   "id": "9cf9d399-ba05-4886-840d-d20d323593cc",
   "metadata": {},
   "outputs": [
    {
     "data": {
      "text/plain": [
       "array(['Rural', nan, 'Urban'], dtype=object)"
      ]
     },
     "execution_count": 19,
     "metadata": {},
     "output_type": "execute_result"
    }
   ],
   "source": [
    "data.region.unique()"
   ]
  },
  {
   "cell_type": "code",
   "execution_count": 20,
   "id": "093e6fe8-6771-4607-a2e2-5483a00f84a7",
   "metadata": {},
   "outputs": [],
   "source": [
    "region=data.groupby([\"region\"])[['Estimated Unemployement rate',\"Estimated employed\",\"Estimated labour partician rate\"]].mean()\n",
    "region=pd.DataFrame(region).reset_index()"
   ]
  },
  {
   "cell_type": "code",
   "execution_count": 23,
   "id": "c7b20f07-649a-4852-bd72-7e7a0964e610",
   "metadata": {},
   "outputs": [
    {
     "data": {
      "application/vnd.plotly.v1+json": {
       "config": {
        "plotlyServerURL": "https://plot.ly"
       },
       "data": [
        {
         "dimensions": [
          {
           "axis": {
            "matches": true
           },
           "label": "Estimated Unemployement rate",
           "values": {
            "bdata": "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",
            "dtype": "f8"
           }
          },
          {
           "axis": {
            "matches": true
           },
           "label": "Estimated employed",
           "values": {
            "bdata": "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",
            "dtype": "f8"
           }
          },
          {
           "axis": {
            "matches": true
           },
           "label": "Estimated labour partician rate",
           "values": {
            "bdata": "H4XrUbieRUBmZmZmZgZFQAAAAAAAwEVAXI/C9Sj8RUDXo3A9CldGQOF6FK5HgUVAAAAAAACAREBSuB6F65FGQHsUrkfhukVACtejcD1qRUAUrkfhelREQKRwPQrXA0JAFK5H4XoUQ0DhehSuR+FKQFK4HoXrsUxAj8L1KFzvRUB7FK5H4RpIQArXo3A96kZA9ihcj8LVS0DhehSuR2FEQFK4HoXrUUdAMzMzMzNzS0D2KFyPwhVEQGZmZmZmhkdAAAAAAAAASUBxPQrXozBBQAAAAAAA4ENAexSuR+HaQ0AUrkfhetRDQM3MzMzMbEJAKVyPwvVIQ0BI4XoUridEQOF6FK5HwUJAAAAAAACgQkCF61G4HsVCQKRwPQrXo0JAcT0K16NwQ0BxPQrXo1BDQAAAAAAAQENAMzMzMzOzQkBSuB6F63FFQHsUrkfh2kVApHA9CtfDRUBmZmZmZkZFQHE9CtejsEVApHA9CtcjR0BI4XoUrsdFQOxRuB6FS0VApHA9CtcDRUBmZmZmZoZGQD0K16NwfUZA16NwPQq3Q0BI4XoUrsdBQBSuR+F6VENACtejcD0qRUAfhetRuN5BQKRwPQrXQ0RAexSuR+GaQUDXo3A9CldEQDMzMzMz80JAexSuR+FaRUAK16NwPYpCQK5H4XoULkNA7FG4HoXrQUCamZmZmblCQPYoXI/CNT5AMzMzMzNTQUC4HoXrUTg9QBSuR+F6lENAuB6F61EYQ0BI4XoUrudDQK5H4XoUzkNApHA9CtfjQUCuR+F6FC5EQOxRuB6FC0ZAmpmZmZlZQ0CuR+F6FK5BQK5H4XoUDkJArkfhehSuRkB7FK5H4dpAQKRwPQrXA0pAj8L1KFwPSUB7FK5H4RpLQClcj8L1SElA4XoUrkeBSUDD9ShcjyJKQGZmZmZmRktA4XoUrkfBSUApXI/C9QhLQD0K16NwvUpASOF6FK4HSkDD9Shcj2JBQEjhehSuJ0dAXI/C9SjcR0CPwvUoXI9GQD0K16NwnUZA9ihcj8IVRUA9CtejcB1IQFyPwvUoXEZAKVyPwvUIR0A9CtejcD1FQDMzMzMzs0dAH4XrUbjeRUCPwvUoXK9GQDMzMzMzs0RAzczMzMzsSECkcD0K12NFQKRwPQrXQ0hAPQrXo3AdRkDXo3A9CpdEQBSuR+F6dEZAFK5H4Xp0RkDD9Shcj4JGQEjhehSuZ0VAAAAAAABASEBmZmZmZgZGQK5H4XoUjkZAmpmZmZk5RUD2KFyPwhVEQK5H4XoUbjJAj8L1KFxPRUCamZmZmZlEQClcj8L1SERAw/UoXI+CQ0B7FK5H4dpEQPYoXI/CFUZACtejcD2KRUC4HoXrUdhDQEjhehSuR0VAAAAAAAAgQ0BI4XoUrodDQHsUrkfhOkNAuB6F61F4QUCF61G4HoVDQI/C9Shcj0RAFK5H4XrUQ0AK16NwPWpEQB+F61G4nkRACtejcD0qRUDhehSuRyFEQOxRuB6Fi0RA16NwPQo3RUBmZmZmZgZGQHsUrkfh+kJA9ihcj8J1QkCkcD0K14NCQDMzMzMzU0RArkfhehQuR0CPwvUoXI9FQPYoXI/CNUNA16NwPQr3Q0CamZmZmTlGQM3MzMzMjEVAmpmZmZk5QkD2KFyPwvVDQMP1KFyPQkZACtejcD2qREDNzMzMzGxEQAAAAAAAoEVA7FG4HoWLRUCPwvUoXK9KQClcj8L1CENAuB6F61EYRUB7FK5H4XpBQDMzMzMz80NAXI/C9Sh8Q0DD9ShcjwJEQHsUrkfhWkBA9ihcj8JVQ0AUrkfhetRCQOxRuB6Fa0NAH4XrUbjePkApXI/C9agqQI/C9Shcz0BA4XoUrkeBQkBcj8L1KPxCQD0K16NwPURAmpmZmZkZREAAAAAAAKBEQDMzMzMzs0NAexSuR+G6REC4HoXrUbhDQMP1KFyPYkRAzczMzMysQ0ApXI/C9chDQDMzMzMzc0NAcT0K16PwQkAfhetRuJ5DQAAAAAAAwERArkfhehSOR0C4HoXrUdhGQGZmZmZmZkhA9ihcj8JVSkAfhetRuN5IQK5H4XoUzkdApHA9CtdDSEA9CtejcH1JQK5H4XoULklArkfhehSuSEDNzMzMzMxGQPYoXI/CtUJAexSuR+GaREDsUbgehStIQLgehetRiFBA7FG4HoWLTkB7FK5H4apQQK5H4XoUbk5A4XoUrkeBUEC4HoXrUbhPQFK4HoXrQVFA16NwPQqXT0AK16NwPWpRQKRwPQrXA1BAPQrXo3DdUEAK16NwPWpIQOF6FK5HoUxAuB6F61EoUEBcj8L1KDxEQLgehetR+ENAZmZmZmaGRUBxPQrXoxBFQClcj8L1KERAcT0K16PwREBI4XoUrgdGQBSuR+F6dERA7FG4HoWLQ0A9CtejcP1EQGZmZmZmxkNAKVyPwvUoOUA9CtejcD1CQK5H4XoULkJACtejcD2KRUCamZmZmflGQEjhehSuR0FACtejcD3qR0DsUbgehatFQM3MzMzMbEZAAAAAAACAQUApXI/C9YhGQNejcD0Kl0VAcT0K16OwRkA9CtejcJ1BQIXrUbgeZUdAhetRuB5lRkCF61G4HuVGQAAAAAAAQEdACtejcD0KRkAfhetRuL5GQBSuR+F61EZAZmZmZmbGRkAzMzMzM7NFQFyPwvUonEZAuB6F61EYRkDNzMzMzGxHQJqZmZmZGUBAUrgeheuRREAzMzMzM/NFQMP1KFyPQkNAw/UoXI+CRECkcD0K1+NDQD0K16NwvURAH4XrUbieQ0C4HoXrUVhFQI/C9Shcb0RAAAAAAACARUCPwvUoXA9EQArXo3A96kRAXI/C9Si8Q0B7FK5H4ZpBQK5H4XoUjkRAPQrXo3D9RUBI4XoUrgdGQIXrUbgehUpAZmZmZmYmR0Bcj8L1KNxCQK5H4XoULkVAuB6F61G4SEAfhetRuH5JQLgehetR+EpA9ihcj8IVSkCPwvUoXM9GQGZmZmZmRkhAmpmZmZl5SUBmZmZmZmZIQD0K16NwHUdArkfhehRuSEBI4XoUrsdJQGZmZmZmhkBAmpmZmZmZPEA9CtejcH0/QB+F61G43k5AuB6F61EYT0CamZmZmRlQQD0K16NwnU1AFK5H4XokUkCPwvUoXJ9QQHsUrkfhSlBArkfhehROTkBxPQrXoyBRQHsUrkfhulBAUrgeheshUUC4HoXrUbhIQAAAAAAAgE5AXI/C9Sh8TUCuR+F6FB5QQJqZmZmZ2VBAhetRuB5FTkCF61G4HiVNQJqZmZmZeVBAPQrXo3ANUUDD9ShcjxJQQMP1KFyPgk9A16NwPQonUUC4HoXrUXhRQFK4HoXrEVFAcT0K16NQSkAzMzMzM3NHQB+F61G43k1AexSuR+H6Q0ApXI/C9ahDQKRwPQrXY0NAH4XrUbgeRECF61G4HmVDQClcj8L1iENA4XoUrkcBQ0DD9Shcj+JDQPYoXI/C1UNAcT0K16OQQ0CkcD0K10NDQI/C9ShcL0RAw/UoXI/CQkBSuB6F63FCQFyPwvUovEJA4XoUrkeBQkBcj8L1KHxCQFK4HoXrsUFAhetRuB5lQ0AzMzMzM3NCQD0K16NwXUJAuB6F61GYQUC4HoXrUdhBQBSuR+F6lEJAhetRuB6FQUC4HoXrUfhAQAAAAAAAAEBAFK5H4Xo0R0CuR+F6FC5JQKRwPQrXY0hAhetRuB5lSECPwvUoXO9IQOxRuB6FC0hAAAAAAAAASUBcj8L1KDxIQGZmZmZmJkhA4XoUrkfBSEDXo3A9CpdIQMP1KFyPokNApHA9CtdDRUC4HoXrUThEQAAAAAAAAPh/mpmZmZm5QkDhehSuR2FCQM3MzMzMDEJAhetRuB4lQkC4HoXrUVhCQBSuR+F6NEJAj8L1KFxPQkCuR+F6FE5DQBSuR+F69EFA7FG4HoVrQkAK16NwPQpCQLgehetR+DpAuB6F61FYQECuR+F6FM5CQPYoXI/CdUZA9ihcj8KVRkApXI/C9ShGQEjhehSu50VAFK5H4XpURUDhehSuRwFGQOxRuB6FS0ZA4XoUrkchRkApXI/C9WhFQDMzMzMz80VApHA9CteDRkCamZmZmTlDQIXrUbgehUNAPQrXo3BdQ0BmZmZmZuZDQM3MzMzMrENArkfhehQuQ0CkcD0K1wNDQAAAAAAAoENAmpmZmZk5Q0CuR+F6FG5DQIXrUbgeJUJAH4XrUbh+Q0CPwvUoXO9CQIXrUbgepUJAuB6F61F4QUCamZmZmTlCQIXrUbgeRUJAUrgehetxRkC4HoXrUThEQFyPwvUovENAmpmZmZn5QkDD9Shcj2JFQEjhehSuB0RAzczMzMxMQ0C4HoXrUZhBQLgehetReEVAAAAAAACgQ0DXo3A9CldCQGZmZmZm5kBArkfhehTORkBxPQrXo/BGQM3MzMzM7EZAFK5H4Xp0R0BmZmZmZmZHQClcj8L1aEdA7FG4HoVLR0DsUbgehctGQHsUrkfhGkdAUrgeheuRR0BSuB6F67FHQI/C9ShcDzhAPQrXo3A9PkAUrkfherRDQPYoXI/CFUZAexSuR+FaRUDsUbgehStFQDMzMzMzc0VArkfhehSuR0CkcD0K1+NGQMP1KFyPgkVASOF6FK5HRUDsUbgehQtIQNejcD0KF0ZAKVyPwvVoRUDXo3A9Cpc3QEjhehSuRzxAKVyPwvUoQUD2KFyPwhVBQHsUrkfh+kVAAAAAAAAAREC4HoXrUfg/QPYoXI/C9UNAw/UoXI+iREBcj8L1KJxGQMP1KFyPYkVAmpmZmZn5QUA9CtejcN1DQGZmZmZmBkJAH4XrUbheRkD2KFyPwtVEQClcj8L1SEZAhetRuB5FRUBcj8L1KNxFQAAAAAAA4ERAUrgeheuRRkAAAAAAAMBFQAAAAAAA4EVAuB6F61EYRUBI4XoUridHQDMzMzMzc0VACtejcD0qQkCF61G4HoU7QOF6FK5HIUZA16NwPQqXRUBI4XoUrodFQMP1KFyPYkNAj8L1KFzvQ0CamZmZmdlFQArXo3A9SkVA16NwPQqXQ0ApXI/C9chDQAAAAAAAYEVAKVyPwvUoRUA9CtejcF1CQD0K16NwvUFAw/UoXI8iQ0DsUbgehQtDQMP1KFyPokZACtejcD3KSEBcj8L1KJxIQPYoXI/ClUlAj8L1KFzvRkC4HoXrUdhIQPYoXI/CFUpAZmZmZmZGSkD2KFyPwnVIQClcj8L1aElAH4XrUbheSEDsUbgehWs4QGZmZmZmxkVAFK5H4XpUREAfhetRuF5HQPYoXI/ClUZAZmZmZmbmR0BxPQrXo1BFQPYoXI/CdUZAexSuR+FaREAzMzMzM7NEQD0K16NwnURAexSuR+EaQkAK16NwPapAQAAAAAAAoEVA4XoUrkfBRUApXI/C9WhFQM3MzMzMrEVA16NwPQoXRkApXI/C9WhGQPYoXI/ClUVAUrgeheuRRUAK16NwPSpGQPYoXI/CtUZA7FG4HoWrRUD2KFyPwvVDQB+F61G4PkRA16NwPQo3RECPwvUoXE9EQFK4HoXrcURA7FG4HoWLQ0CF61G4HgVDQAAAAAAAgENAmpmZmZnZQ0DNzMzMzExDQBSuR+F61EJAuB6F61F4Q0CamZmZmblDQGZmZmZmxkRAUrgehesRRUAzMzMzM/NFQNejcD0K90NAMzMzMzNTQkD2KFyPwrVCQHE9CtejkEBAFK5H4Xr0QUApXI/C9UhCQB+F61G4PkJArkfhehQuQEBI4XoUrsdBQKRwPQrXQ0JAPQrXo3A9QkAfhetRuJ5AQMP1KFyPgjRAMzMzMzPzPUDXo3A9CldDQHsUrkfhekNAZmZmZmZmQ0D2KFyPwtVCQM3MzMzMTERA9ihcj8LVQ0CamZmZmRlDQLgehetR+EJACtejcD3qQ0DsUbgehctDQNejcD0K10JA16NwPQpXQkDD9Shcj8I9QB+F61G4vkFAXI/C9ShcQ0BmZmZmZiZDQGZmZmZmpkNASOF6FK5nQ0DsUbgehetCQArXo3A9ykNAZmZmZmaGQ0CuR+F6FM5DQClcj8L1yEJAKVyPwvWoQkCuR+F6FM5CQGZmZmZm5kJAXI/C9SjcPkDhehSuR2E+QIXrUbgehUJAhetRuB7lR0CF61G4HiVIQGZmZmZmRkxAw/UoXI8iSkDD9Shcj2JJQHsUrkfh2kdAw/UoXI+CTECF61G4HoVKQKRwPQrXw0lA4XoUrkehR0BSuB6F69FLQOF6FK5HQUJAPQrXo3A9SEDhehSuR6FEQFK4HoXrMUNAH4XrUbh+REAAAAAAACBEQDMzMzMzE0VA4XoUrkdBREB7FK5H4dpEQHsUrkfhOkNAZmZmZmaGREBcj8L1KHxDQNejcD0K90NASOF6FK6HOUCPwvUoXA9BQB+F61G4nkFAexSuR+HaQUA9CtejcN1CQMP1KFyPYkFAFK5H4Xo0RUA9CtejcN1BQK5H4XoUbkNAuB6F61EYQUD2KFyPwjVEQOxRuB6FS0FAAAAAAABAQ0CPwvUoXA9BQIXrUbgexUFAAAAAAABAP0B7FK5H4bo9QKRwPQrXA0RAw/UoXI8CRECPwvUoXE9FQK5H4XoUzkRAXI/C9Sj8Q0DNzMzMzIxCQClcj8L16ERA9ihcj8IVRUCF61G4HoVDQClcj8L16EJAhetRuB6lREAzMzMzM/M3QHsUrkfhWkFAexSuR+F6QUC4HoXrUbhDQD0K16NwXURAcT0K16MwREDsUbgehStEQDMzMzMzk0NAZmZmZmZmREA9CtejcF1EQDMzMzMzc0RA7FG4HoXLRECPwvUoXM9EQHsUrkfh2kNAUrgeheuRPUB7FK5H4VpCQOF6FK5HoUNArkfhehROSEBxPQrXoxBIQPYoXI/CVUtAcT0K16NQR0CuR+F6FM5GQFyPwvUofEdAZmZmZmbmSkAfhetRuJ5GQClcj8L1SElASOF6FK4nREApXI/C9ahFQM3MzMzM7EFASOF6FK6nQkAUrkfhepRDQFK4HoXrcUNAcT0K16OQREDhehSuR+FCQPYoXI/CNUNAcT0K16OwQkCF61G4HqVEQFK4HoXr0UJAPQrXo3C9QkD2KFyPwhVCQOxRuB6FKzpAhetRuB7FN0CamZmZmZk/QOxRuB6FS0ZA16NwPQq3RkCuR+F6FC5GQFK4HoXrsUZApHA9CtejR0DhehSuR0FGQI/C9Shc70VAcT0K16OQRUCamZmZmflGQKRwPQrX40ZAMzMzMzPTRUDNzMzMzAw9QHE9Ctej0EJA16NwPQrXQkAAAAAAAGBRQGZmZmZmZk1AzczMzMyMTUApXI/C9YhNQJqZmZmZuVBAAAAAAAAATkBSuB6F6xFPQBSuR+F6tE9AcT0K16MQUkDD9Shcj4JQQEjhehSux09AMzMzMzPTR0BI4XoUridIQPYoXI/CFUxA16NwPQo3REAAAAAAAOBDQNejcD0KN0RAj8L1KFxvREApXI/C9QhEQHsUrkfh2kNAzczMzMxMREB7FK5H4RpEQMP1KFyPwkNAhetRuB7FQ0AAAAAAAABEQB+F61G43kJAzczMzMyMREDsUbgehQtDQBSuR+F6VDpAhetRuB7FQEA9CtejcD1AQPYoXI/CNT9Aw/UoXI+CO0CPwvUoXO9AQK5H4XoUzkBAZmZmZmamP0DNzMzMzIw7QK5H4XoUjkFACtejcD2qQEDXo3A9Cpc9QMP1KFyPIkBArkfhehTOQUCPwvUoXC9HQOF6FK5HwUVAcT0K16MwRkDD9Shcj2JHQB+F61G43kZAAAAAAACgRUC4HoXrUbhFQFyPwvUo/EZAUrgeheuxRkDsUbgehQtGQOxRuB6Fq0VAmpmZmZmZRED2KFyPwlVEQClcj8L1yEJA",
            "dtype": "f8"
           }
          }
         ],
         "hovertemplate": "%{xaxis.title.text}=%{x}<br>%{yaxis.title.text}=%{y}<extra></extra>",
         "legendgroup": "",
         "marker": {
          "color": "#636efa",
          "symbol": "circle"
         },
         "name": "",
         "showlegend": false,
         "type": "splom"
        }
       ],
       "layout": {
        "dragmode": "select",
        "legend": {
         "tracegroupgap": 0
        },
        "margin": {
         "t": 60
        },
        "template": {
         "data": {
          "bar": [
           {
            "error_x": {
             "color": "#2a3f5f"
            },
            "error_y": {
             "color": "#2a3f5f"
            },
            "marker": {
             "line": {
              "color": "#E5ECF6",
              "width": 0.5
             },
             "pattern": {
              "fillmode": "overlay",
              "size": 10,
              "solidity": 0.2
             }
            },
            "type": "bar"
           }
          ],
          "barpolar": [
           {
            "marker": {
             "line": {
              "color": "#E5ECF6",
              "width": 0.5
             },
             "pattern": {
              "fillmode": "overlay",
              "size": 10,
              "solidity": 0.2
             }
            },
            "type": "barpolar"
           }
          ],
          "carpet": [
           {
            "aaxis": {
             "endlinecolor": "#2a3f5f",
             "gridcolor": "white",
             "linecolor": "white",
             "minorgridcolor": "white",
             "startlinecolor": "#2a3f5f"
            },
            "baxis": {
             "endlinecolor": "#2a3f5f",
             "gridcolor": "white",
             "linecolor": "white",
             "minorgridcolor": "white",
             "startlinecolor": "#2a3f5f"
            },
            "type": "carpet"
           }
          ],
          "choropleth": [
           {
            "colorbar": {
             "outlinewidth": 0,
             "ticks": ""
            },
            "type": "choropleth"
           }
          ],
          "contour": [
           {
            "colorbar": {
             "outlinewidth": 0,
             "ticks": ""
            },
            "colorscale": [
             [
              0,
              "#0d0887"
             ],
             [
              0.1111111111111111,
              "#46039f"
             ],
             [
              0.2222222222222222,
              "#7201a8"
             ],
             [
              0.3333333333333333,
              "#9c179e"
             ],
             [
              0.4444444444444444,
              "#bd3786"
             ],
             [
              0.5555555555555556,
              "#d8576b"
             ],
             [
              0.6666666666666666,
              "#ed7953"
             ],
             [
              0.7777777777777778,
              "#fb9f3a"
             ],
             [
              0.8888888888888888,
              "#fdca26"
             ],
             [
              1,
              "#f0f921"
             ]
            ],
            "type": "contour"
           }
          ],
          "contourcarpet": [
           {
            "colorbar": {
             "outlinewidth": 0,
             "ticks": ""
            },
            "type": "contourcarpet"
           }
          ],
          "heatmap": [
           {
            "colorbar": {
             "outlinewidth": 0,
             "ticks": ""
            },
            "colorscale": [
             [
              0,
              "#0d0887"
             ],
             [
              0.1111111111111111,
              "#46039f"
             ],
             [
              0.2222222222222222,
              "#7201a8"
             ],
             [
              0.3333333333333333,
              "#9c179e"
             ],
             [
              0.4444444444444444,
              "#bd3786"
             ],
             [
              0.5555555555555556,
              "#d8576b"
             ],
             [
              0.6666666666666666,
              "#ed7953"
             ],
             [
              0.7777777777777778,
              "#fb9f3a"
             ],
             [
              0.8888888888888888,
              "#fdca26"
             ],
             [
              1,
              "#f0f921"
             ]
            ],
            "type": "heatmap"
           }
          ],
          "histogram": [
           {
            "marker": {
             "pattern": {
              "fillmode": "overlay",
              "size": 10,
              "solidity": 0.2
             }
            },
            "type": "histogram"
           }
          ],
          "histogram2d": [
           {
            "colorbar": {
             "outlinewidth": 0,
             "ticks": ""
            },
            "colorscale": [
             [
              0,
              "#0d0887"
             ],
             [
              0.1111111111111111,
              "#46039f"
             ],
             [
              0.2222222222222222,
              "#7201a8"
             ],
             [
              0.3333333333333333,
              "#9c179e"
             ],
             [
              0.4444444444444444,
              "#bd3786"
             ],
             [
              0.5555555555555556,
              "#d8576b"
             ],
             [
              0.6666666666666666,
              "#ed7953"
             ],
             [
              0.7777777777777778,
              "#fb9f3a"
             ],
             [
              0.8888888888888888,
              "#fdca26"
             ],
             [
              1,
              "#f0f921"
             ]
            ],
            "type": "histogram2d"
           }
          ],
          "histogram2dcontour": [
           {
            "colorbar": {
             "outlinewidth": 0,
             "ticks": ""
            },
            "colorscale": [
             [
              0,
              "#0d0887"
             ],
             [
              0.1111111111111111,
              "#46039f"
             ],
             [
              0.2222222222222222,
              "#7201a8"
             ],
             [
              0.3333333333333333,
              "#9c179e"
             ],
             [
              0.4444444444444444,
              "#bd3786"
             ],
             [
              0.5555555555555556,
              "#d8576b"
             ],
             [
              0.6666666666666666,
              "#ed7953"
             ],
             [
              0.7777777777777778,
              "#fb9f3a"
             ],
             [
              0.8888888888888888,
              "#fdca26"
             ],
             [
              1,
              "#f0f921"
             ]
            ],
            "type": "histogram2dcontour"
           }
          ],
          "mesh3d": [
           {
            "colorbar": {
             "outlinewidth": 0,
             "ticks": ""
            },
            "type": "mesh3d"
           }
          ],
          "parcoords": [
           {
            "line": {
             "colorbar": {
              "outlinewidth": 0,
              "ticks": ""
             }
            },
            "type": "parcoords"
           }
          ],
          "pie": [
           {
            "automargin": true,
            "type": "pie"
           }
          ],
          "scatter": [
           {
            "fillpattern": {
             "fillmode": "overlay",
             "size": 10,
             "solidity": 0.2
            },
            "type": "scatter"
           }
          ],
          "scatter3d": [
           {
            "line": {
             "colorbar": {
              "outlinewidth": 0,
              "ticks": ""
             }
            },
            "marker": {
             "colorbar": {
              "outlinewidth": 0,
              "ticks": ""
             }
            },
            "type": "scatter3d"
           }
          ],
          "scattercarpet": [
           {
            "marker": {
             "colorbar": {
              "outlinewidth": 0,
              "ticks": ""
             }
            },
            "type": "scattercarpet"
           }
          ],
          "scattergeo": [
           {
            "marker": {
             "colorbar": {
              "outlinewidth": 0,
              "ticks": ""
             }
            },
            "type": "scattergeo"
           }
          ],
          "scattergl": [
           {
            "marker": {
             "colorbar": {
              "outlinewidth": 0,
              "ticks": ""
             }
            },
            "type": "scattergl"
           }
          ],
          "scattermap": [
           {
            "marker": {
             "colorbar": {
              "outlinewidth": 0,
              "ticks": ""
             }
            },
            "type": "scattermap"
           }
          ],
          "scattermapbox": [
           {
            "marker": {
             "colorbar": {
              "outlinewidth": 0,
              "ticks": ""
             }
            },
            "type": "scattermapbox"
           }
          ],
          "scatterpolar": [
           {
            "marker": {
             "colorbar": {
              "outlinewidth": 0,
              "ticks": ""
             }
            },
            "type": "scatterpolar"
           }
          ],
          "scatterpolargl": [
           {
            "marker": {
             "colorbar": {
              "outlinewidth": 0,
              "ticks": ""
             }
            },
            "type": "scatterpolargl"
           }
          ],
          "scatterternary": [
           {
            "marker": {
             "colorbar": {
              "outlinewidth": 0,
              "ticks": ""
             }
            },
            "type": "scatterternary"
           }
          ],
          "surface": [
           {
            "colorbar": {
             "outlinewidth": 0,
             "ticks": ""
            },
            "colorscale": [
             [
              0,
              "#0d0887"
             ],
             [
              0.1111111111111111,
              "#46039f"
             ],
             [
              0.2222222222222222,
              "#7201a8"
             ],
             [
              0.3333333333333333,
              "#9c179e"
             ],
             [
              0.4444444444444444,
              "#bd3786"
             ],
             [
              0.5555555555555556,
              "#d8576b"
             ],
             [
              0.6666666666666666,
              "#ed7953"
             ],
             [
              0.7777777777777778,
              "#fb9f3a"
             ],
             [
              0.8888888888888888,
              "#fdca26"
             ],
             [
              1,
              "#f0f921"
             ]
            ],
            "type": "surface"
           }
          ],
          "table": [
           {
            "cells": {
             "fill": {
              "color": "#EBF0F8"
             },
             "line": {
              "color": "white"
             }
            },
            "header": {
             "fill": {
              "color": "#C8D4E3"
             },
             "line": {
              "color": "white"
             }
            },
            "type": "table"
           }
          ]
         },
         "layout": {
          "annotationdefaults": {
           "arrowcolor": "#2a3f5f",
           "arrowhead": 0,
           "arrowwidth": 1
          },
          "autotypenumbers": "strict",
          "coloraxis": {
           "colorbar": {
            "outlinewidth": 0,
            "ticks": ""
           }
          },
          "colorscale": {
           "diverging": [
            [
             0,
             "#8e0152"
            ],
            [
             0.1,
             "#c51b7d"
            ],
            [
             0.2,
             "#de77ae"
            ],
            [
             0.3,
             "#f1b6da"
            ],
            [
             0.4,
             "#fde0ef"
            ],
            [
             0.5,
             "#f7f7f7"
            ],
            [
             0.6,
             "#e6f5d0"
            ],
            [
             0.7,
             "#b8e186"
            ],
            [
             0.8,
             "#7fbc41"
            ],
            [
             0.9,
             "#4d9221"
            ],
            [
             1,
             "#276419"
            ]
           ],
           "sequential": [
            [
             0,
             "#0d0887"
            ],
            [
             0.1111111111111111,
             "#46039f"
            ],
            [
             0.2222222222222222,
             "#7201a8"
            ],
            [
             0.3333333333333333,
             "#9c179e"
            ],
            [
             0.4444444444444444,
             "#bd3786"
            ],
            [
             0.5555555555555556,
             "#d8576b"
            ],
            [
             0.6666666666666666,
             "#ed7953"
            ],
            [
             0.7777777777777778,
             "#fb9f3a"
            ],
            [
             0.8888888888888888,
             "#fdca26"
            ],
            [
             1,
             "#f0f921"
            ]
           ],
           "sequentialminus": [
            [
             0,
             "#0d0887"
            ],
            [
             0.1111111111111111,
             "#46039f"
            ],
            [
             0.2222222222222222,
             "#7201a8"
            ],
            [
             0.3333333333333333,
             "#9c179e"
            ],
            [
             0.4444444444444444,
             "#bd3786"
            ],
            [
             0.5555555555555556,
             "#d8576b"
            ],
            [
             0.6666666666666666,
             "#ed7953"
            ],
            [
             0.7777777777777778,
             "#fb9f3a"
            ],
            [
             0.8888888888888888,
             "#fdca26"
            ],
            [
             1,
             "#f0f921"
            ]
           ]
          },
          "colorway": [
           "#636efa",
           "#EF553B",
           "#00cc96",
           "#ab63fa",
           "#FFA15A",
           "#19d3f3",
           "#FF6692",
           "#B6E880",
           "#FF97FF",
           "#FECB52"
          ],
          "font": {
           "color": "#2a3f5f"
          },
          "geo": {
           "bgcolor": "white",
           "lakecolor": "white",
           "landcolor": "#E5ECF6",
           "showlakes": true,
           "showland": true,
           "subunitcolor": "white"
          },
          "hoverlabel": {
           "align": "left"
          },
          "hovermode": "closest",
          "mapbox": {
           "style": "light"
          },
          "paper_bgcolor": "white",
          "plot_bgcolor": "#E5ECF6",
          "polar": {
           "angularaxis": {
            "gridcolor": "white",
            "linecolor": "white",
            "ticks": ""
           },
           "bgcolor": "#E5ECF6",
           "radialaxis": {
            "gridcolor": "white",
            "linecolor": "white",
            "ticks": ""
           }
          },
          "scene": {
           "xaxis": {
            "backgroundcolor": "#E5ECF6",
            "gridcolor": "white",
            "gridwidth": 2,
            "linecolor": "white",
            "showbackground": true,
            "ticks": "",
            "zerolinecolor": "white"
           },
           "yaxis": {
            "backgroundcolor": "#E5ECF6",
            "gridcolor": "white",
            "gridwidth": 2,
            "linecolor": "white",
            "showbackground": true,
            "ticks": "",
            "zerolinecolor": "white"
           },
           "zaxis": {
            "backgroundcolor": "#E5ECF6",
            "gridcolor": "white",
            "gridwidth": 2,
            "linecolor": "white",
            "showbackground": true,
            "ticks": "",
            "zerolinecolor": "white"
           }
          },
          "shapedefaults": {
           "line": {
            "color": "#2a3f5f"
           }
          },
          "ternary": {
           "aaxis": {
            "gridcolor": "white",
            "linecolor": "white",
            "ticks": ""
           },
           "baxis": {
            "gridcolor": "white",
            "linecolor": "white",
            "ticks": ""
           },
           "bgcolor": "#E5ECF6",
           "caxis": {
            "gridcolor": "white",
            "linecolor": "white",
            "ticks": ""
           }
          },
          "title": {
           "x": 0.05
          },
          "xaxis": {
           "automargin": true,
           "gridcolor": "white",
           "linecolor": "white",
           "ticks": "",
           "title": {
            "standoff": 15
           },
           "zerolinecolor": "white",
           "zerolinewidth": 2
          },
          "yaxis": {
           "automargin": true,
           "gridcolor": "white",
           "linecolor": "white",
           "ticks": "",
           "title": {
            "standoff": 15
           },
           "zerolinecolor": "white",
           "zerolinewidth": 2
          }
         }
        }
       }
      },
      "image/png": "[encoded data removed]"
     },
     "metadata": {},
     "output_type": "display_data"
    }
   ],
   "source": [
    "import plotly.express as px\n",
    "fig=px.scatter_matrix(data,dimensions=['Estimated Unemployement rate',\"Estimated employed\",\"Estimated labour partician rate\"])\n",
    "fig.show()"
   ]
  },
  {
   "cell_type": "code",
   "execution_count": 24,
   "id": "a0d6900e-0c96-4dd5-bc73-847da4d8f532",
   "metadata": {},
   "outputs": [
    {
     "data": {
      "application/vnd.plotly.v1+json": {
       "config": {
        "plotlyServerURL": "https://plot.ly"
       },
       "data": [
        {
         "hovertemplate": "region=%{x}<br>Estimated Unemployement rate=%{y}<extra></extra>",
         "legendgroup": "Rural",
         "marker": {
          "color": "#636efa",
          "pattern": {
           "shape": ""
          }
         },
         "name": "Rural",
         "orientation": "v",
         "showlegend": true,
         "textposition": "auto",
         "type": "bar",
         "x": [
          "Rural"
         ],
         "xaxis": "x",
         "y": {
          "bdata": "y9FrBEumJEA=",
          "dtype": "f8"
         },
         "yaxis": "y"
        },
        {
         "hovertemplate": "region=%{x}<br>Estimated Unemployement rate=%{y}<extra></extra>",
         "legendgroup": "Urban",
         "marker": {
          "color": "#EF553B",
          "pattern": {
           "shape": ""
          }
         },
         "name": "Urban",
         "orientation": "v",
         "showlegend": true,
         "textposition": "auto",
         "type": "bar",
         "x": [
          "Urban"
         ],
         "xaxis": "x",
         "y": {
          "bdata": "syHyc05VKkA=",
          "dtype": "f8"
         },
         "yaxis": "y"
        }
       ],
       "layout": {
        "barmode": "relative",
        "legend": {
         "title": {
          "text": "region"
         },
         "tracegroupgap": 0
        },
        "template": {
         "data": {
          "bar": [
           {
            "error_x": {
             "color": "#2a3f5f"
            },
            "error_y": {
             "color": "#2a3f5f"
            },
            "marker": {
             "line": {
              "color": "#E5ECF6",
              "width": 0.5
             },
             "pattern": {
              "fillmode": "overlay",
              "size": 10,
              "solidity": 0.2
             }
            },
            "type": "bar"
           }
          ],
          "barpolar": [
           {
            "marker": {
             "line": {
              "color": "#E5ECF6",
              "width": 0.5
             },
             "pattern": {
              "fillmode": "overlay",
              "size": 10,
              "solidity": 0.2
             }
            },
            "type": "barpolar"
           }
          ],
          "carpet": [
           {
            "aaxis": {
             "endlinecolor": "#2a3f5f",
             "gridcolor": "white",
             "linecolor": "white",
             "minorgridcolor": "white",
             "startlinecolor": "#2a3f5f"
            },
            "baxis": {
             "endlinecolor": "#2a3f5f",
             "gridcolor": "white",
             "linecolor": "white",
             "minorgridcolor": "white",
             "startlinecolor": "#2a3f5f"
            },
            "type": "carpet"
           }
          ],
          "choropleth": [
           {
            "colorbar": {
             "outlinewidth": 0,
             "ticks": ""
            },
            "type": "choropleth"
           }
          ],
          "contour": [
           {
            "colorbar": {
             "outlinewidth": 0,
             "ticks": ""
            },
            "colorscale": [
             [
              0,
              "#0d0887"
             ],
             [
              0.1111111111111111,
              "#46039f"
             ],
             [
              0.2222222222222222,
              "#7201a8"
             ],
             [
              0.3333333333333333,
              "#9c179e"
             ],
             [
              0.4444444444444444,
              "#bd3786"
             ],
             [
              0.5555555555555556,
              "#d8576b"
             ],
             [
              0.6666666666666666,
              "#ed7953"
             ],
             [
              0.7777777777777778,
              "#fb9f3a"
             ],
             [
              0.8888888888888888,
              "#fdca26"
             ],
             [
              1,
              "#f0f921"
             ]
            ],
            "type": "contour"
           }
          ],
          "contourcarpet": [
           {
            "colorbar": {
             "outlinewidth": 0,
             "ticks": ""
            },
            "type": "contourcarpet"
           }
          ],
          "heatmap": [
           {
            "colorbar": {
             "outlinewidth": 0,
             "ticks": ""
            },
            "colorscale": [
             [
              0,
              "#0d0887"
             ],
             [
              0.1111111111111111,
              "#46039f"
             ],
             [
              0.2222222222222222,
              "#7201a8"
             ],
             [
              0.3333333333333333,
              "#9c179e"
             ],
             [
              0.4444444444444444,
              "#bd3786"
             ],
             [
              0.5555555555555556,
              "#d8576b"
             ],
             [
              0.6666666666666666,
              "#ed7953"
             ],
             [
              0.7777777777777778,
              "#fb9f3a"
             ],
             [
              0.8888888888888888,
              "#fdca26"
             ],
             [
              1,
              "#f0f921"
             ]
            ],
            "type": "heatmap"
           }
          ],
          "histogram": [
           {
            "marker": {
             "pattern": {
              "fillmode": "overlay",
              "size": 10,
              "solidity": 0.2
             }
            },
            "type": "histogram"
           }
          ],
          "histogram2d": [
           {
            "colorbar": {
             "outlinewidth": 0,
             "ticks": ""
            },
            "colorscale": [
             [
              0,
              "#0d0887"
             ],
             [
              0.1111111111111111,
              "#46039f"
             ],
             [
              0.2222222222222222,
              "#7201a8"
             ],
             [
              0.3333333333333333,
              "#9c179e"
             ],
             [
              0.4444444444444444,
              "#bd3786"
             ],
             [
              0.5555555555555556,
              "#d8576b"
             ],
             [
              0.6666666666666666,
              "#ed7953"
             ],
             [
              0.7777777777777778,
              "#fb9f3a"
             ],
             [
              0.8888888888888888,
              "#fdca26"
             ],
             [
              1,
              "#f0f921"
             ]
            ],
            "type": "histogram2d"
           }
          ],
          "histogram2dcontour": [
           {
            "colorbar": {
             "outlinewidth": 0,
             "ticks": ""
            },
            "colorscale": [
             [
              0,
              "#0d0887"
             ],
             [
              0.1111111111111111,
              "#46039f"
             ],
             [
              0.2222222222222222,
              "#7201a8"
             ],
             [
              0.3333333333333333,
              "#9c179e"
             ],
             [
              0.4444444444444444,
              "#bd3786"
             ],
             [
              0.5555555555555556,
              "#d8576b"
             ],
             [
              0.6666666666666666,
              "#ed7953"
             ],
             [
              0.7777777777777778,
              "#fb9f3a"
             ],
             [
              0.8888888888888888,
              "#fdca26"
             ],
             [
              1,
              "#f0f921"
             ]
            ],
            "type": "histogram2dcontour"
           }
          ],
          "mesh3d": [
           {
            "colorbar": {
             "outlinewidth": 0,
             "ticks": ""
            },
            "type": "mesh3d"
           }
          ],
          "parcoords": [
           {
            "line": {
             "colorbar": {
              "outlinewidth": 0,
              "ticks": ""
             }
            },
            "type": "parcoords"
           }
          ],
          "pie": [
           {
            "automargin": true,
            "type": "pie"
           }
          ],
          "scatter": [
           {
            "fillpattern": {
             "fillmode": "overlay",
             "size": 10,
             "solidity": 0.2
            },
            "type": "scatter"
           }
          ],
          "scatter3d": [
           {
            "line": {
             "colorbar": {
              "outlinewidth": 0,
              "ticks": ""
             }
            },
            "marker": {
             "colorbar": {
              "outlinewidth": 0,
              "ticks": ""
             }
            },
            "type": "scatter3d"
           }
          ],
          "scattercarpet": [
           {
            "marker": {
             "colorbar": {
              "outlinewidth": 0,
              "ticks": ""
             }
            },
            "type": "scattercarpet"
           }
          ],
          "scattergeo": [
           {
            "marker": {
             "colorbar": {
              "outlinewidth": 0,
              "ticks": ""
             }
            },
            "type": "scattergeo"
           }
          ],
          "scattergl": [
           {
            "marker": {
             "colorbar": {
              "outlinewidth": 0,
              "ticks": ""
             }
            },
            "type": "scattergl"
           }
          ],
          "scattermap": [
           {
            "marker": {
             "colorbar": {
              "outlinewidth": 0,
              "ticks": ""
             }
            },
            "type": "scattermap"
           }
          ],
          "scattermapbox": [
           {
            "marker": {
             "colorbar": {
              "outlinewidth": 0,
              "ticks": ""
             }
            },
            "type": "scattermapbox"
           }
          ],
          "scatterpolar": [
           {
            "marker": {
             "colorbar": {
              "outlinewidth": 0,
              "ticks": ""
             }
            },
            "type": "scatterpolar"
           }
          ],
          "scatterpolargl": [
           {
            "marker": {
             "colorbar": {
              "outlinewidth": 0,
              "ticks": ""
             }
            },
            "type": "scatterpolargl"
           }
          ],
          "scatterternary": [
           {
            "marker": {
             "colorbar": {
              "outlinewidth": 0,
              "ticks": ""
             }
            },
            "type": "scatterternary"
           }
          ],
          "surface": [
           {
            "colorbar": {
             "outlinewidth": 0,
             "ticks": ""
            },
            "colorscale": [
             [
              0,
              "#0d0887"
             ],
             [
              0.1111111111111111,
              "#46039f"
             ],
             [
              0.2222222222222222,
              "#7201a8"
             ],
             [
              0.3333333333333333,
              "#9c179e"
             ],
             [
              0.4444444444444444,
              "#bd3786"
             ],
             [
              0.5555555555555556,
              "#d8576b"
             ],
             [
              0.6666666666666666,
              "#ed7953"
             ],
             [
              0.7777777777777778,
              "#fb9f3a"
             ],
             [
              0.8888888888888888,
              "#fdca26"
             ],
             [
              1,
              "#f0f921"
             ]
            ],
            "type": "surface"
           }
          ],
          "table": [
           {
            "cells": {
             "fill": {
              "color": "#EBF0F8"
             },
             "line": {
              "color": "white"
             }
            },
            "header": {
             "fill": {
              "color": "#C8D4E3"
             },
             "line": {
              "color": "white"
             }
            },
            "type": "table"
           }
          ]
         },
         "layout": {
          "annotationdefaults": {
           "arrowcolor": "#2a3f5f",
           "arrowhead": 0,
           "arrowwidth": 1
          },
          "autotypenumbers": "strict",
          "coloraxis": {
           "colorbar": {
            "outlinewidth": 0,
            "ticks": ""
           }
          },
          "colorscale": {
           "diverging": [
            [
             0,
             "#8e0152"
            ],
            [
             0.1,
             "#c51b7d"
            ],
            [
             0.2,
             "#de77ae"
            ],
            [
             0.3,
             "#f1b6da"
            ],
            [
             0.4,
             "#fde0ef"
            ],
            [
             0.5,
             "#f7f7f7"
            ],
            [
             0.6,
             "#e6f5d0"
            ],
            [
             0.7,
             "#b8e186"
            ],
            [
             0.8,
             "#7fbc41"
            ],
            [
             0.9,
             "#4d9221"
            ],
            [
             1,
             "#276419"
            ]
           ],
           "sequential": [
            [
             0,
             "#0d0887"
            ],
            [
             0.1111111111111111,
             "#46039f"
            ],
            [
             0.2222222222222222,
             "#7201a8"
            ],
            [
             0.3333333333333333,
             "#9c179e"
            ],
            [
             0.4444444444444444,
             "#bd3786"
            ],
            [
             0.5555555555555556,
             "#d8576b"
            ],
            [
             0.6666666666666666,
             "#ed7953"
            ],
            [
             0.7777777777777778,
             "#fb9f3a"
            ],
            [
             0.8888888888888888,
             "#fdca26"
            ],
            [
             1,
             "#f0f921"
            ]
           ],
           "sequentialminus": [
            [
             0,
             "#0d0887"
            ],
            [
             0.1111111111111111,
             "#46039f"
            ],
            [
             0.2222222222222222,
             "#7201a8"
            ],
            [
             0.3333333333333333,
             "#9c179e"
            ],
            [
             0.4444444444444444,
             "#bd3786"
            ],
            [
             0.5555555555555556,
             "#d8576b"
            ],
            [
             0.6666666666666666,
             "#ed7953"
            ],
            [
             0.7777777777777778,
             "#fb9f3a"
            ],
            [
             0.8888888888888888,
             "#fdca26"
            ],
            [
             1,
             "#f0f921"
            ]
           ]
          },
          "colorway": [
           "#636efa",
           "#EF553B",
           "#00cc96",
           "#ab63fa",
           "#FFA15A",
           "#19d3f3",
           "#FF6692",
           "#B6E880",
           "#FF97FF",
           "#FECB52"
          ],
          "font": {
           "color": "#2a3f5f"
          },
          "geo": {
           "bgcolor": "white",
           "lakecolor": "white",
           "landcolor": "#E5ECF6",
           "showlakes": true,
           "showland": true,
           "subunitcolor": "white"
          },
          "hoverlabel": {
           "align": "left"
          },
          "hovermode": "closest",
          "mapbox": {
           "style": "light"
          },
          "paper_bgcolor": "white",
          "plot_bgcolor": "#E5ECF6",
          "polar": {
           "angularaxis": {
            "gridcolor": "white",
            "linecolor": "white",
            "ticks": ""
           },
           "bgcolor": "#E5ECF6",
           "radialaxis": {
            "gridcolor": "white",
            "linecolor": "white",
            "ticks": ""
           }
          },
          "scene": {
           "xaxis": {
            "backgroundcolor": "#E5ECF6",
            "gridcolor": "white",
            "gridwidth": 2,
            "linecolor": "white",
            "showbackground": true,
            "ticks": "",
            "zerolinecolor": "white"
           },
           "yaxis": {
            "backgroundcolor": "#E5ECF6",
            "gridcolor": "white",
            "gridwidth": 2,
            "linecolor": "white",
            "showbackground": true,
            "ticks": "",
            "zerolinecolor": "white"
           },
           "zaxis": {
            "backgroundcolor": "#E5ECF6",
            "gridcolor": "white",
            "gridwidth": 2,
            "linecolor": "white",
            "showbackground": true,
            "ticks": "",
            "zerolinecolor": "white"
           }
          },
          "shapedefaults": {
           "line": {
            "color": "#2a3f5f"
           }
          },
          "ternary": {
           "aaxis": {
            "gridcolor": "white",
            "linecolor": "white",
            "ticks": ""
           },
           "baxis": {
            "gridcolor": "white",
            "linecolor": "white",
            "ticks": ""
           },
           "bgcolor": "#E5ECF6",
           "caxis": {
            "gridcolor": "white",
            "linecolor": "white",
            "ticks": ""
           }
          },
          "title": {
           "x": 0.05
          },
          "xaxis": {
           "automargin": true,
           "gridcolor": "white",
           "linecolor": "white",
           "ticks": "",
           "title": {
            "standoff": 15
           },
           "zerolinecolor": "white",
           "zerolinewidth": 2
          },
          "yaxis": {
           "automargin": true,
           "gridcolor": "white",
           "linecolor": "white",
           "ticks": "",
           "title": {
            "standoff": 15
           },
           "zerolinecolor": "white",
           "zerolinewidth": 2
          }
         }
        },
        "title": {
         "text": "Average unemployement rate(region wise)"
        },
        "xaxis": {
         "anchor": "y",
         "categoryarray": [
          "Rural",
          "Urban"
         ],
         "categoryorder": "array",
         "domain": [
          0,
          1
         ],
         "title": {
          "text": "region"
         }
        },
        "yaxis": {
         "anchor": "x",
         "domain": [
          0,
          1
         ],
         "title": {
          "text": "Estimated Unemployement rate"
         }
        }
       }
      },
      "image/png": "[encoded data removed]"
     },
     "metadata": {},
     "output_type": "display_data"
    }
   ],
   "source": [
    "fig=px.bar(region,x='region',y='Estimated Unemployement rate',color='region',title='Average unemployement rate(region wise)')\n",
    "fig.show()"
   ]
  },
  {
   "cell_type": "code",
   "execution_count": 25,
   "id": "00399259-cc14-4753-a25e-2c6898c63814",
   "metadata": {},
   "outputs": [
    {
     "data": {
      "text/html": [
       "<div>\n",
       "<style scoped>\n",
       "    .dataframe tbody tr th:only-of-type {\n",
       "        vertical-align: middle;\n",
       "    }\n",
       "\n",
       "    .dataframe tbody tr th {\n",
       "        vertical-align: top;\n",
       "    }\n",
       "\n",
       "    .dataframe thead th {\n",
       "        text-align: right;\n",
       "    }\n",
       "</style>\n",
       "<table border=\"1\" class=\"dataframe\">\n",
       "  <thead>\n",
       "    <tr style=\"text-align: right;\">\n",
       "      <th></th>\n",
       "      <th>region</th>\n",
       "      <th>State</th>\n",
       "      <th>Estimated Unemployement rate</th>\n",
       "    </tr>\n",
       "  </thead>\n",
       "  <tbody>\n",
       "    <tr>\n",
       "      <th>0</th>\n",
       "      <td>Rural</td>\n",
       "      <td>Andhra Pradesh</td>\n",
       "      <td>5.526429</td>\n",
       "    </tr>\n",
       "    <tr>\n",
       "      <th>1</th>\n",
       "      <td>Rural</td>\n",
       "      <td>Assam</td>\n",
       "      <td>4.490833</td>\n",
       "    </tr>\n",
       "    <tr>\n",
       "      <th>2</th>\n",
       "      <td>Rural</td>\n",
       "      <td>Bihar</td>\n",
       "      <td>16.770000</td>\n",
       "    </tr>\n",
       "    <tr>\n",
       "      <th>3</th>\n",
       "      <td>Rural</td>\n",
       "      <td>Chhattisgarh</td>\n",
       "      <td>6.628571</td>\n",
       "    </tr>\n",
       "    <tr>\n",
       "      <th>4</th>\n",
       "      <td>Rural</td>\n",
       "      <td>Delhi</td>\n",
       "      <td>15.258571</td>\n",
       "    </tr>\n",
       "  </tbody>\n",
       "</table>\n",
       "</div>"
      ],
      "text/plain": [
       "  region           State  Estimated Unemployement rate\n",
       "0  Rural  Andhra Pradesh                      5.526429\n",
       "1  Rural           Assam                      4.490833\n",
       "2  Rural           Bihar                     16.770000\n",
       "3  Rural    Chhattisgarh                      6.628571\n",
       "4  Rural           Delhi                     15.258571"
      ]
     },
     "execution_count": 25,
     "metadata": {},
     "output_type": "execute_result"
    }
   ],
   "source": [
    "Unemployement=data.groupby(['region','State'])['Estimated Unemployement rate'].mean().reset_index()\n",
    "Unemployement.head()"
   ]
  },
  {
   "cell_type": "code",
   "execution_count": 26,
   "id": "29bdd0a5-f029-41cd-8391-b8420436b888",
   "metadata": {},
   "outputs": [
    {
     "data": {
      "application/vnd.plotly.v1+json": {
       "config": {
        "plotlyServerURL": "https://plot.ly"
       },
       "data": [
        {
         "branchvalues": "total",
         "domain": {
          "x": [
           0,
           1
          ],
          "y": [
           0,
           1
          ]
         },
         "hovertemplate": "labels=%{label}<br>Estimated Unemployement rate=%{value}<br>parent=%{parent}<br>id=%{id}<extra></extra>",
         "ids": [
          "Rural/Andhra Pradesh",
          "Rural/Assam",
          "Rural/Bihar",
          "Rural/Chhattisgarh",
          "Rural/Delhi",
          "Rural/Goa",
          "Rural/Gujarat",
          "Rural/Haryana",
          "Rural/Himachal Pradesh",
          "Rural/Jammu & Kashmir",
          "Rural/Jharkhand",
          "Rural/Karnataka",
          "Rural/Kerala",
          "Rural/Madhya Pradesh",
          "Rural/Maharashtra",
          "Rural/Meghalaya",
          "Rural/Odisha",
          "Rural/Puducherry",
          "Rural/Punjab",
          "Rural/Rajasthan",
          "Rural/Sikkim",
          "Rural/Tamil Nadu",
          "Rural/Telangana",
          "Rural/Tripura",
          "Rural/Uttar Pradesh",
          "Rural/Uttarakhand",
          "Rural/West Bengal",
          "Urban/Andhra Pradesh",
          "Urban/Assam",
          "Urban/Bihar",
          "Urban/Chandigarh",
          "Urban/Chhattisgarh",
          "Urban/Delhi",
          "Urban/Goa",
          "Urban/Gujarat",
          "Urban/Haryana",
          "Urban/Himachal Pradesh",
          "Urban/Jammu & Kashmir",
          "Urban/Jharkhand",
          "Urban/Karnataka",
          "Urban/Kerala",
          "Urban/Madhya Pradesh",
          "Urban/Maharashtra",
          "Urban/Meghalaya",
          "Urban/Odisha",
          "Urban/Puducherry",
          "Urban/Punjab",
          "Urban/Rajasthan",
          "Urban/Sikkim",
          "Urban/Tamil Nadu",
          "Urban/Telangana",
          "Urban/Tripura",
          "Urban/Uttar Pradesh",
          "Urban/Uttarakhand",
          "Urban/West Bengal",
          "Rural",
          "Urban"
         ],
         "labels": [
          "Andhra Pradesh",
          "Assam",
          "Bihar",
          "Chhattisgarh",
          "Delhi",
          "Goa",
          "Gujarat",
          "Haryana",
          "Himachal Pradesh",
          "Jammu & Kashmir",
          "Jharkhand",
          "Karnataka",
          "Kerala",
          "Madhya Pradesh",
          "Maharashtra",
          "Meghalaya",
          "Odisha",
          "Puducherry",
          "Punjab",
          "Rajasthan",
          "Sikkim",
          "Tamil Nadu",
          "Telangana",
          "Tripura",
          "Uttar Pradesh",
          "Uttarakhand",
          "West Bengal",
          "Andhra Pradesh",
          "Assam",
          "Bihar",
          "Chandigarh",
          "Chhattisgarh",
          "Delhi",
          "Goa",
          "Gujarat",
          "Haryana",
          "Himachal Pradesh",
          "Jammu & Kashmir",
          "Jharkhand",
          "Karnataka",
          "Kerala",
          "Madhya Pradesh",
          "Maharashtra",
          "Meghalaya",
          "Odisha",
          "Puducherry",
          "Punjab",
          "Rajasthan",
          "Sikkim",
          "Tamil Nadu",
          "Telangana",
          "Tripura",
          "Uttar Pradesh",
          "Uttarakhand",
          "West Bengal",
          "Rural",
          "Urban"
         ],
         "name": "",
         "parents": [
          "Rural",
          "Rural",
          "Rural",
          "Rural",
          "Rural",
          "Rural",
          "Rural",
          "Rural",
          "Rural",
          "Rural",
          "Rural",
          "Rural",
          "Rural",
          "Rural",
          "Rural",
          "Rural",
          "Rural",
          "Rural",
          "Rural",
          "Rural",
          "Rural",
          "Rural",
          "Rural",
          "Rural",
          "Rural",
          "Rural",
          "Rural",
          "Urban",
          "Urban",
          "Urban",
          "Urban",
          "Urban",
          "Urban",
          "Urban",
          "Urban",
          "Urban",
          "Urban",
          "Urban",
          "Urban",
          "Urban",
          "Urban",
          "Urban",
          "Urban",
          "Urban",
          "Urban",
          "Urban",
          "Urban",
          "Urban",
          "Urban",
          "Urban",
          "Urban",
          "Urban",
          "Urban",
          "Urban",
          "Urban",
          "",
          ""
         ],
         "type": "sunburst",
         "values": {
          "bdata": "5dxnFxAbFkA30GkDnfYRQIXrUbgexTBAOqiDOqiDGkDgyWp5Y4QuQEjhehSuxyBAGcFEfyerF0BoFxCbSgM5QPBktbwxAi9AZ0t1tlTnLUAWX/EVX3EuQMFEfyer5RxAU2nIuc+uJEDVQR3UQZ0WQD4K16NwPRtAzszMzMzMA0AGxKbSkHMaQA102kCnDR1AmZmZmZnZJ0ARTPR3stolQFK4HoXrURRAn11AbCqNIUCr5Y0RTHQfQN1nFxCbKjtARzDR38lqJEAR4u2qe4cTQDhGMNHfSR5A5dxnFxDbIkAJJvo7WS0gQEPOfXYBETVAvLu7u7v7L0Cr5Y0RTLQnQLdt27ZtuzFAERERERFRJEBJkiRJkqQdQNu2bdu2jTtABsSm0pCTNUAGgZVDi4wxQGGiv5PV8jlAloac++yCGEA15NxnF9AjQIAnq+WNUSJAXI/C9SicIEDmLJt/xjQdQGJTaci5zxJAPgrXo3B9KUD+nayWN0YoQAd1UAd1MDFATxvotIFOIEBf8RVf8ZUjQGGiv5PVch5AwJPV8saIPUA4RjDR38ktQMpqeWMEUyBAEkz0d7JaIUCY462vQCdxQDLb0aIYDHdA",
          "dtype": "f8"
         }
        }
       ],
       "layout": {
        "height": 650,
        "legend": {
         "tracegroupgap": 0
        },
        "template": {
         "data": {
          "bar": [
           {
            "error_x": {
             "color": "#2a3f5f"
            },
            "error_y": {
             "color": "#2a3f5f"
            },
            "marker": {
             "line": {
              "color": "#E5ECF6",
              "width": 0.5
             },
             "pattern": {
              "fillmode": "overlay",
              "size": 10,
              "solidity": 0.2
             }
            },
            "type": "bar"
           }
          ],
          "barpolar": [
           {
            "marker": {
             "line": {
              "color": "#E5ECF6",
              "width": 0.5
             },
             "pattern": {
              "fillmode": "overlay",
              "size": 10,
              "solidity": 0.2
             }
            },
            "type": "barpolar"
           }
          ],
          "carpet": [
           {
            "aaxis": {
             "endlinecolor": "#2a3f5f",
             "gridcolor": "white",
             "linecolor": "white",
             "minorgridcolor": "white",
             "startlinecolor": "#2a3f5f"
            },
            "baxis": {
             "endlinecolor": "#2a3f5f",
             "gridcolor": "white",
             "linecolor": "white",
             "minorgridcolor": "white",
             "startlinecolor": "#2a3f5f"
            },
            "type": "carpet"
           }
          ],
          "choropleth": [
           {
            "colorbar": {
             "outlinewidth": 0,
             "ticks": ""
            },
            "type": "choropleth"
           }
          ],
          "contour": [
           {
            "colorbar": {
             "outlinewidth": 0,
             "ticks": ""
            },
            "colorscale": [
             [
              0,
              "#0d0887"
             ],
             [
              0.1111111111111111,
              "#46039f"
             ],
             [
              0.2222222222222222,
              "#7201a8"
             ],
             [
              0.3333333333333333,
              "#9c179e"
             ],
             [
              0.4444444444444444,
              "#bd3786"
             ],
             [
              0.5555555555555556,
              "#d8576b"
             ],
             [
              0.6666666666666666,
              "#ed7953"
             ],
             [
              0.7777777777777778,
              "#fb9f3a"
             ],
             [
              0.8888888888888888,
              "#fdca26"
             ],
             [
              1,
              "#f0f921"
             ]
            ],
            "type": "contour"
           }
          ],
          "contourcarpet": [
           {
            "colorbar": {
             "outlinewidth": 0,
             "ticks": ""
            },
            "type": "contourcarpet"
           }
          ],
          "heatmap": [
           {
            "colorbar": {
             "outlinewidth": 0,
             "ticks": ""
            },
            "colorscale": [
             [
              0,
              "#0d0887"
             ],
             [
              0.1111111111111111,
              "#46039f"
             ],
             [
              0.2222222222222222,
              "#7201a8"
             ],
             [
              0.3333333333333333,
              "#9c179e"
             ],
             [
              0.4444444444444444,
              "#bd3786"
             ],
             [
              0.5555555555555556,
              "#d8576b"
             ],
             [
              0.6666666666666666,
              "#ed7953"
             ],
             [
              0.7777777777777778,
              "#fb9f3a"
             ],
             [
              0.8888888888888888,
              "#fdca26"
             ],
             [
              1,
              "#f0f921"
             ]
            ],
            "type": "heatmap"
           }
          ],
          "histogram": [
           {
            "marker": {
             "pattern": {
              "fillmode": "overlay",
              "size": 10,
              "solidity": 0.2
             }
            },
            "type": "histogram"
           }
          ],
          "histogram2d": [
           {
            "colorbar": {
             "outlinewidth": 0,
             "ticks": ""
            },
            "colorscale": [
             [
              0,
              "#0d0887"
             ],
             [
              0.1111111111111111,
              "#46039f"
             ],
             [
              0.2222222222222222,
              "#7201a8"
             ],
             [
              0.3333333333333333,
              "#9c179e"
             ],
             [
              0.4444444444444444,
              "#bd3786"
             ],
             [
              0.5555555555555556,
              "#d8576b"
             ],
             [
              0.6666666666666666,
              "#ed7953"
             ],
             [
              0.7777777777777778,
              "#fb9f3a"
             ],
             [
              0.8888888888888888,
              "#fdca26"
             ],
             [
              1,
              "#f0f921"
             ]
            ],
            "type": "histogram2d"
           }
          ],
          "histogram2dcontour": [
           {
            "colorbar": {
             "outlinewidth": 0,
             "ticks": ""
            },
            "colorscale": [
             [
              0,
              "#0d0887"
             ],
             [
              0.1111111111111111,
              "#46039f"
             ],
             [
              0.2222222222222222,
              "#7201a8"
             ],
             [
              0.3333333333333333,
              "#9c179e"
             ],
             [
              0.4444444444444444,
              "#bd3786"
             ],
             [
              0.5555555555555556,
              "#d8576b"
             ],
             [
              0.6666666666666666,
              "#ed7953"
             ],
             [
              0.7777777777777778,
              "#fb9f3a"
             ],
             [
              0.8888888888888888,
              "#fdca26"
             ],
             [
              1,
              "#f0f921"
             ]
            ],
            "type": "histogram2dcontour"
           }
          ],
          "mesh3d": [
           {
            "colorbar": {
             "outlinewidth": 0,
             "ticks": ""
            },
            "type": "mesh3d"
           }
          ],
          "parcoords": [
           {
            "line": {
             "colorbar": {
              "outlinewidth": 0,
              "ticks": ""
             }
            },
            "type": "parcoords"
           }
          ],
          "pie": [
           {
            "automargin": true,
            "type": "pie"
           }
          ],
          "scatter": [
           {
            "fillpattern": {
             "fillmode": "overlay",
             "size": 10,
             "solidity": 0.2
            },
            "type": "scatter"
           }
          ],
          "scatter3d": [
           {
            "line": {
             "colorbar": {
              "outlinewidth": 0,
              "ticks": ""
             }
            },
            "marker": {
             "colorbar": {
              "outlinewidth": 0,
              "ticks": ""
             }
            },
            "type": "scatter3d"
           }
          ],
          "scattercarpet": [
           {
            "marker": {
             "colorbar": {
              "outlinewidth": 0,
              "ticks": ""
             }
            },
            "type": "scattercarpet"
           }
          ],
          "scattergeo": [
           {
            "marker": {
             "colorbar": {
              "outlinewidth": 0,
              "ticks": ""
             }
            },
            "type": "scattergeo"
           }
          ],
          "scattergl": [
           {
            "marker": {
             "colorbar": {
              "outlinewidth": 0,
              "ticks": ""
             }
            },
            "type": "scattergl"
           }
          ],
          "scattermap": [
           {
            "marker": {
             "colorbar": {
              "outlinewidth": 0,
              "ticks": ""
             }
            },
            "type": "scattermap"
           }
          ],
          "scattermapbox": [
           {
            "marker": {
             "colorbar": {
              "outlinewidth": 0,
              "ticks": ""
             }
            },
            "type": "scattermapbox"
           }
          ],
          "scatterpolar": [
           {
            "marker": {
             "colorbar": {
              "outlinewidth": 0,
              "ticks": ""
             }
            },
            "type": "scatterpolar"
           }
          ],
          "scatterpolargl": [
           {
            "marker": {
             "colorbar": {
              "outlinewidth": 0,
              "ticks": ""
             }
            },
            "type": "scatterpolargl"
           }
          ],
          "scatterternary": [
           {
            "marker": {
             "colorbar": {
              "outlinewidth": 0,
              "ticks": ""
             }
            },
            "type": "scatterternary"
           }
          ],
          "surface": [
           {
            "colorbar": {
             "outlinewidth": 0,
             "ticks": ""
            },
            "colorscale": [
             [
              0,
              "#0d0887"
             ],
             [
              0.1111111111111111,
              "#46039f"
             ],
             [
              0.2222222222222222,
              "#7201a8"
             ],
             [
              0.3333333333333333,
              "#9c179e"
             ],
             [
              0.4444444444444444,
              "#bd3786"
             ],
             [
              0.5555555555555556,
              "#d8576b"
             ],
             [
              0.6666666666666666,
              "#ed7953"
             ],
             [
              0.7777777777777778,
              "#fb9f3a"
             ],
             [
              0.8888888888888888,
              "#fdca26"
             ],
             [
              1,
              "#f0f921"
             ]
            ],
            "type": "surface"
           }
          ],
          "table": [
           {
            "cells": {
             "fill": {
              "color": "#EBF0F8"
             },
             "line": {
              "color": "white"
             }
            },
            "header": {
             "fill": {
              "color": "#C8D4E3"
             },
             "line": {
              "color": "white"
             }
            },
            "type": "table"
           }
          ]
         },
         "layout": {
          "annotationdefaults": {
           "arrowcolor": "#2a3f5f",
           "arrowhead": 0,
           "arrowwidth": 1
          },
          "autotypenumbers": "strict",
          "coloraxis": {
           "colorbar": {
            "outlinewidth": 0,
            "ticks": ""
           }
          },
          "colorscale": {
           "diverging": [
            [
             0,
             "#8e0152"
            ],
            [
             0.1,
             "#c51b7d"
            ],
            [
             0.2,
             "#de77ae"
            ],
            [
             0.3,
             "#f1b6da"
            ],
            [
             0.4,
             "#fde0ef"
            ],
            [
             0.5,
             "#f7f7f7"
            ],
            [
             0.6,
             "#e6f5d0"
            ],
            [
             0.7,
             "#b8e186"
            ],
            [
             0.8,
             "#7fbc41"
            ],
            [
             0.9,
             "#4d9221"
            ],
            [
             1,
             "#276419"
            ]
           ],
           "sequential": [
            [
             0,
             "#0d0887"
            ],
            [
             0.1111111111111111,
             "#46039f"
            ],
            [
             0.2222222222222222,
             "#7201a8"
            ],
            [
             0.3333333333333333,
             "#9c179e"
            ],
            [
             0.4444444444444444,
             "#bd3786"
            ],
            [
             0.5555555555555556,
             "#d8576b"
            ],
            [
             0.6666666666666666,
             "#ed7953"
            ],
            [
             0.7777777777777778,
             "#fb9f3a"
            ],
            [
             0.8888888888888888,
             "#fdca26"
            ],
            [
             1,
             "#f0f921"
            ]
           ],
           "sequentialminus": [
            [
             0,
             "#0d0887"
            ],
            [
             0.1111111111111111,
             "#46039f"
            ],
            [
             0.2222222222222222,
             "#7201a8"
            ],
            [
             0.3333333333333333,
             "#9c179e"
            ],
            [
             0.4444444444444444,
             "#bd3786"
            ],
            [
             0.5555555555555556,
             "#d8576b"
            ],
            [
             0.6666666666666666,
             "#ed7953"
            ],
            [
             0.7777777777777778,
             "#fb9f3a"
            ],
            [
             0.8888888888888888,
             "#fdca26"
            ],
            [
             1,
             "#f0f921"
            ]
           ]
          },
          "colorway": [
           "#636efa",
           "#EF553B",
           "#00cc96",
           "#ab63fa",
           "#FFA15A",
           "#19d3f3",
           "#FF6692",
           "#B6E880",
           "#FF97FF",
           "#FECB52"
          ],
          "font": {
           "color": "#2a3f5f"
          },
          "geo": {
           "bgcolor": "white",
           "lakecolor": "white",
           "landcolor": "#E5ECF6",
           "showlakes": true,
           "showland": true,
           "subunitcolor": "white"
          },
          "hoverlabel": {
           "align": "left"
          },
          "hovermode": "closest",
          "mapbox": {
           "style": "light"
          },
          "paper_bgcolor": "white",
          "plot_bgcolor": "#E5ECF6",
          "polar": {
           "angularaxis": {
            "gridcolor": "white",
            "linecolor": "white",
            "ticks": ""
           },
           "bgcolor": "#E5ECF6",
           "radialaxis": {
            "gridcolor": "white",
            "linecolor": "white",
            "ticks": ""
           }
          },
          "scene": {
           "xaxis": {
            "backgroundcolor": "#E5ECF6",
            "gridcolor": "white",
            "gridwidth": 2,
            "linecolor": "white",
            "showbackground": true,
            "ticks": "",
            "zerolinecolor": "white"
           },
           "yaxis": {
            "backgroundcolor": "#E5ECF6",
            "gridcolor": "white",
            "gridwidth": 2,
            "linecolor": "white",
            "showbackground": true,
            "ticks": "",
            "zerolinecolor": "white"
           },
           "zaxis": {
            "backgroundcolor": "#E5ECF6",
            "gridcolor": "white",
            "gridwidth": 2,
            "linecolor": "white",
            "showbackground": true,
            "ticks": "",
            "zerolinecolor": "white"
           }
          },
          "shapedefaults": {
           "line": {
            "color": "#2a3f5f"
           }
          },
          "ternary": {
           "aaxis": {
            "gridcolor": "white",
            "linecolor": "white",
            "ticks": ""
           },
           "baxis": {
            "gridcolor": "white",
            "linecolor": "white",
            "ticks": ""
           },
           "bgcolor": "#E5ECF6",
           "caxis": {
            "gridcolor": "white",
            "linecolor": "white",
            "ticks": ""
           }
          },
          "title": {
           "x": 0.05
          },
          "xaxis": {
           "automargin": true,
           "gridcolor": "white",
           "linecolor": "white",
           "ticks": "",
           "title": {
            "standoff": 15
           },
           "zerolinecolor": "white",
           "zerolinewidth": 2
          },
          "yaxis": {
           "automargin": true,
           "gridcolor": "white",
           "linecolor": "white",
           "ticks": "",
           "title": {
            "standoff": 15
           },
           "zerolinecolor": "white",
           "zerolinewidth": 2
          }
         }
        },
        "title": {
         "text": "unemployement rate in every state and region"
        }
       }
      },
      "image/png": "[encoded data removed]"
     },
     "metadata": {},
     "output_type": "display_data"
    }
   ],
   "source": [
    "fig=px.sunburst(Unemployement,path=['region','State'],values='Estimated Unemployement rate',title='unemployement rate in every state and region',height=650)\n",
    "fig.show()\n",
    "               "
   ]
  }
 ],
 "metadata": {
  "kernelspec": {
   "display_name": "Python 3 (ipykernel)",
   "language": "python",
   "name": "python3"
  },
  "language_info": {
   "codemirror_mode": {
    "name": "ipython",
    "version": 3
   },
   "file_extension": ".py",
   "mimetype": "text/x-python",
   "name": "python",
   "nbconvert_exporter": "python",
   "pygments_lexer": "ipython3",
   "version": "3.12.7"
  }
 },
 "nbformat": 4,
 "nbformat_minor": 5
}
